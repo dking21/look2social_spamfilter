{
 "cells": [
  {
   "cell_type": "markdown",
   "metadata": {},
   "source": [
    "# Spam Filter for Look2Social"
   ]
  },
  {
   "cell_type": "markdown",
   "metadata": {},
   "source": [
    "## ~03/10\n",
    "\n",
    "* Finished Collecting Data\n",
    "* Communicated with Look2Social team: Figured out the goal of the program\n",
    "* Communicated with instructors: Adjusted my approach to the project"
   ]
  },
  {
   "cell_type": "markdown",
   "metadata": {},
   "source": [
    "## 03/14 ~ : Data Cleaning"
   ]
  },
  {
   "cell_type": "markdown",
   "metadata": {},
   "source": [
    "### 03/14 - Overview of data\n",
    "(screenshot of original data)\n",
    "* 20,000 rows of data - not labeled for spam\n",
    "* Six criteria for spam: \n",
    "\n",
    "    1) Marketing Focus (by social media marketing group)\n",
    "    \n",
    "    2) Bot Generated\n",
    "    \n",
    "    3) Known Spammer\n",
    "    \n",
    "    4) Corporate Posted\n",
    "    \n",
    "    5) Own Post\n",
    "    \n",
    "    6) Hijacking (just use tag, different content)"
   ]
  },
  {
   "cell_type": "markdown",
   "metadata": {},
   "source": [
    "\n",
    "Bot Generated - can be labeled by either pattern of post (\"just closed a deal...\") and url\n",
    "\n",
    "Corporate Posted - User input account name\n",
    "\n",
    "Known spammer, Own Post - User input account name\n",
    "\n",
    "Hijacking, Marketing - Need some eyeballing."
   ]
  },
  {
   "cell_type": "code",
   "execution_count": 1,
   "metadata": {},
   "outputs": [],
   "source": [
    "import pandas as pd\n",
    "import numpy as np"
   ]
  },
  {
   "cell_type": "code",
   "execution_count": null,
   "metadata": {},
   "outputs": [],
   "source": []
  },
  {
   "cell_type": "markdown",
   "metadata": {},
   "source": [
    "### Suggestion from Miles\n",
    "\n",
    "(pic of Miles)\n",
    "\n",
    "\"Use Machine Learning form early phase! Use it for labeling!\" "
   ]
  },
  {
   "cell_type": "markdown",
   "metadata": {},
   "source": [
    "### Approach\n",
    "1. create 7 columns for spam - one column per each criteria \n",
    "    one for final spam column that's default value is 0 but become 1 based on user declaration of spam\n",
    "\n",
    "2. label bot generated and corporate generated first by their pattern\n",
    "\n",
    "3. seperate out the rows with no label. (~7000 rows)\n",
    "\n",
    "4. label first dozen~hundred for hijacking and marketing\n",
    "\n",
    "5. use machine learning (Naive Bayes / Logistic Regression / Random Forest) to label, set up threshold high \n",
    "\n",
    "6. eyeball rest of 'em"
   ]
  },
  {
   "cell_type": "code",
   "execution_count": null,
   "metadata": {},
   "outputs": [],
   "source": []
  }
 ],
 "metadata": {
  "kernelspec": {
   "display_name": "Python 3",
   "language": "python",
   "name": "python3"
  },
  "language_info": {
   "codemirror_mode": {
    "name": "ipython",
    "version": 3
   },
   "file_extension": ".py",
   "mimetype": "text/x-python",
   "name": "python",
   "nbconvert_exporter": "python",
   "pygments_lexer": "ipython3",
   "version": "3.7.1"
  }
 },
 "nbformat": 4,
 "nbformat_minor": 2
}
