{
 "cells": [
  {
   "cell_type": "code",
   "execution_count": 1,
   "metadata": {},
   "outputs": [],
   "source": [
    "import pandas as pd\n",
    "import numpy as np\n",
    "\n",
    "from src.language_processing2 import processing_text\n",
    "from src.language_processing2 import vectorize_text\n",
    "from src.language_processing2 import vectorize_desc\n",
    "from src.modeling import test_model\n",
    "from src.modeling import test_model2\n",
    "from src.modeling import test_model3\n",
    "\n",
    "from sklearn.metrics import accuracy_score\n",
    "from sklearn.metrics import confusion_matrix\n",
    "from sklearn.metrics import log_loss\n",
    "from sklearn.metrics import roc_auc_score\n",
    "from sklearn.model_selection import train_test_split,KFold\n",
    "\n",
    "from sklearn.naive_bayes import MultinomialNB\n",
    "from sklearn.linear_model import LogisticRegression\n",
    "from sklearn.ensemble import RandomForestClassifier\n",
    "from sklearn.ensemble import GradientBoostingClassifier"
   ]
  },
  {
   "cell_type": "code",
   "execution_count": 2,
   "metadata": {},
   "outputs": [],
   "source": [
    "df = pd.read_excel('testing2.xlsx')\n",
    "df.drop('Unnamed: 0', axis=1, inplace=True)"
   ]
  },
  {
   "cell_type": "code",
   "execution_count": 3,
   "metadata": {},
   "outputs": [],
   "source": [
    "processing_text(df,'text')\n",
    "col_name_lst1 = vectorize_text(df,1000)"
   ]
  },
  {
   "cell_type": "code",
   "execution_count": 4,
   "metadata": {},
   "outputs": [],
   "source": [
    "processing_text(df,'description')\n",
    "col_name_lst2 = vectorize_desc(df,1000)"
   ]
  },
  {
   "cell_type": "code",
   "execution_count": 5,
   "metadata": {},
   "outputs": [
    {
     "data": {
      "text/html": [
       "<div>\n",
       "<style scoped>\n",
       "    .dataframe tbody tr th:only-of-type {\n",
       "        vertical-align: middle;\n",
       "    }\n",
       "\n",
       "    .dataframe tbody tr th {\n",
       "        vertical-align: top;\n",
       "    }\n",
       "\n",
       "    .dataframe thead th {\n",
       "        text-align: right;\n",
       "    }\n",
       "</style>\n",
       "<table border=\"1\" class=\"dataframe\">\n",
       "  <thead>\n",
       "    <tr style=\"text-align: right;\">\n",
       "      <th></th>\n",
       "      <th>text</th>\n",
       "      <th>spam</th>\n",
       "      <th>spam_marketing</th>\n",
       "      <th>spam_hijack</th>\n",
       "      <th>spam_corporate</th>\n",
       "      <th>spam_bot</th>\n",
       "      <th>spam_known</th>\n",
       "      <th>spam_own</th>\n",
       "      <th>Docusign</th>\n",
       "      <th>onespan</th>\n",
       "      <th>...</th>\n",
       "      <th>desc-TF-IDF-990</th>\n",
       "      <th>desc-TF-IDF-991</th>\n",
       "      <th>desc-TF-IDF-992</th>\n",
       "      <th>desc-TF-IDF-993</th>\n",
       "      <th>desc-TF-IDF-994</th>\n",
       "      <th>desc-TF-IDF-995</th>\n",
       "      <th>desc-TF-IDF-996</th>\n",
       "      <th>desc-TF-IDF-997</th>\n",
       "      <th>desc-TF-IDF-998</th>\n",
       "      <th>desc-TF-IDF-999</th>\n",
       "    </tr>\n",
       "  </thead>\n",
       "  <tbody>\n",
       "    <tr>\n",
       "      <th>0</th>\n",
       "      <td>just closed a deal in 27 hours using #AdobeSig...</td>\n",
       "      <td>0</td>\n",
       "      <td>0</td>\n",
       "      <td>0</td>\n",
       "      <td>0</td>\n",
       "      <td>1</td>\n",
       "      <td>0</td>\n",
       "      <td>0</td>\n",
       "      <td>False</td>\n",
       "      <td>False</td>\n",
       "      <td>...</td>\n",
       "      <td>0.0</td>\n",
       "      <td>0.0</td>\n",
       "      <td>0.0</td>\n",
       "      <td>0.0</td>\n",
       "      <td>0.0</td>\n",
       "      <td>0.0</td>\n",
       "      <td>0.0</td>\n",
       "      <td>0.0</td>\n",
       "      <td>0.0</td>\n",
       "      <td>0.0</td>\n",
       "    </tr>\n",
       "    <tr>\n",
       "      <th>1</th>\n",
       "      <td>just closed a deal in 2 days using #AdobeSign ...</td>\n",
       "      <td>0</td>\n",
       "      <td>0</td>\n",
       "      <td>0</td>\n",
       "      <td>0</td>\n",
       "      <td>1</td>\n",
       "      <td>0</td>\n",
       "      <td>0</td>\n",
       "      <td>False</td>\n",
       "      <td>False</td>\n",
       "      <td>...</td>\n",
       "      <td>0.0</td>\n",
       "      <td>0.0</td>\n",
       "      <td>0.0</td>\n",
       "      <td>0.0</td>\n",
       "      <td>0.0</td>\n",
       "      <td>0.0</td>\n",
       "      <td>0.0</td>\n",
       "      <td>0.0</td>\n",
       "      <td>0.0</td>\n",
       "      <td>0.0</td>\n",
       "    </tr>\n",
       "    <tr>\n",
       "      <th>2</th>\n",
       "      <td>just closed a deal in 2 hours using #AdobeSign...</td>\n",
       "      <td>0</td>\n",
       "      <td>0</td>\n",
       "      <td>0</td>\n",
       "      <td>0</td>\n",
       "      <td>1</td>\n",
       "      <td>0</td>\n",
       "      <td>0</td>\n",
       "      <td>False</td>\n",
       "      <td>False</td>\n",
       "      <td>...</td>\n",
       "      <td>0.0</td>\n",
       "      <td>0.0</td>\n",
       "      <td>0.0</td>\n",
       "      <td>0.0</td>\n",
       "      <td>0.0</td>\n",
       "      <td>0.0</td>\n",
       "      <td>0.0</td>\n",
       "      <td>0.0</td>\n",
       "      <td>0.0</td>\n",
       "      <td>0.0</td>\n",
       "    </tr>\n",
       "    <tr>\n",
       "      <th>3</th>\n",
       "      <td>just closed a deal in 26 hours using #AdobeSig...</td>\n",
       "      <td>0</td>\n",
       "      <td>0</td>\n",
       "      <td>0</td>\n",
       "      <td>0</td>\n",
       "      <td>1</td>\n",
       "      <td>0</td>\n",
       "      <td>0</td>\n",
       "      <td>False</td>\n",
       "      <td>False</td>\n",
       "      <td>...</td>\n",
       "      <td>0.0</td>\n",
       "      <td>0.0</td>\n",
       "      <td>0.0</td>\n",
       "      <td>0.0</td>\n",
       "      <td>0.0</td>\n",
       "      <td>0.0</td>\n",
       "      <td>0.0</td>\n",
       "      <td>0.0</td>\n",
       "      <td>0.0</td>\n",
       "      <td>0.0</td>\n",
       "    </tr>\n",
       "    <tr>\n",
       "      <th>4</th>\n",
       "      <td>just closed a deal in 6 days using #AdobeSign ...</td>\n",
       "      <td>0</td>\n",
       "      <td>0</td>\n",
       "      <td>0</td>\n",
       "      <td>0</td>\n",
       "      <td>1</td>\n",
       "      <td>0</td>\n",
       "      <td>0</td>\n",
       "      <td>False</td>\n",
       "      <td>False</td>\n",
       "      <td>...</td>\n",
       "      <td>0.0</td>\n",
       "      <td>0.0</td>\n",
       "      <td>0.0</td>\n",
       "      <td>0.0</td>\n",
       "      <td>0.0</td>\n",
       "      <td>0.0</td>\n",
       "      <td>0.0</td>\n",
       "      <td>0.0</td>\n",
       "      <td>0.0</td>\n",
       "      <td>0.0</td>\n",
       "    </tr>\n",
       "  </tbody>\n",
       "</table>\n",
       "<p>5 rows × 2022 columns</p>\n",
       "</div>"
      ],
      "text/plain": [
       "                                                text  spam  spam_marketing  \\\n",
       "0  just closed a deal in 27 hours using #AdobeSig...     0               0   \n",
       "1  just closed a deal in 2 days using #AdobeSign ...     0               0   \n",
       "2  just closed a deal in 2 hours using #AdobeSign...     0               0   \n",
       "3  just closed a deal in 26 hours using #AdobeSig...     0               0   \n",
       "4  just closed a deal in 6 days using #AdobeSign ...     0               0   \n",
       "\n",
       "   spam_hijack  spam_corporate  spam_bot  spam_known  spam_own  Docusign  \\\n",
       "0            0               0         1           0         0     False   \n",
       "1            0               0         1           0         0     False   \n",
       "2            0               0         1           0         0     False   \n",
       "3            0               0         1           0         0     False   \n",
       "4            0               0         1           0         0     False   \n",
       "\n",
       "   onespan  ...  desc-TF-IDF-990  desc-TF-IDF-991  desc-TF-IDF-992  \\\n",
       "0    False  ...              0.0              0.0              0.0   \n",
       "1    False  ...              0.0              0.0              0.0   \n",
       "2    False  ...              0.0              0.0              0.0   \n",
       "3    False  ...              0.0              0.0              0.0   \n",
       "4    False  ...              0.0              0.0              0.0   \n",
       "\n",
       "  desc-TF-IDF-993  desc-TF-IDF-994  desc-TF-IDF-995  desc-TF-IDF-996  \\\n",
       "0             0.0              0.0              0.0              0.0   \n",
       "1             0.0              0.0              0.0              0.0   \n",
       "2             0.0              0.0              0.0              0.0   \n",
       "3             0.0              0.0              0.0              0.0   \n",
       "4             0.0              0.0              0.0              0.0   \n",
       "\n",
       "   desc-TF-IDF-997  desc-TF-IDF-998  desc-TF-IDF-999  \n",
       "0              0.0              0.0              0.0  \n",
       "1              0.0              0.0              0.0  \n",
       "2              0.0              0.0              0.0  \n",
       "3              0.0              0.0              0.0  \n",
       "4              0.0              0.0              0.0  \n",
       "\n",
       "[5 rows x 2022 columns]"
      ]
     },
     "execution_count": 5,
     "metadata": {},
     "output_type": "execute_result"
    }
   ],
   "source": [
    "df.head()"
   ]
  },
  {
   "cell_type": "code",
   "execution_count": 6,
   "metadata": {},
   "outputs": [
    {
     "name": "stderr",
     "output_type": "stream",
     "text": [
      "/home/ubuntu/anaconda3/lib/python3.7/site-packages/sklearn/ensemble/forest.py:246: FutureWarning: The default value of n_estimators will change from 10 in version 0.20 to 100 in 0.22.\n",
      "  \"10 in version 0.20 to 100 in 0.22.\", FutureWarning)\n"
     ]
    },
    {
     "name": "stdout",
     "output_type": "stream",
     "text": [
      "\n",
      "Score summary for initial test (first 80% of data)\n",
      "\n",
      "\n",
      "Accuracy score of this model is\n",
      "\n",
      "0.9201875000000002\n",
      "\n",
      "Log-Loss score of this model is\n",
      "\n",
      "0.25771578635491316\n",
      "\n",
      "AUC score of this model is\n",
      "\n",
      "0.8878695993945074\n",
      "\n",
      "\n",
      "\n",
      "Score summary for final test (last 20% of data)\n",
      "\n",
      "\n",
      "Accuracy score of this model is\n",
      "\n",
      "0.9156244843571472\n",
      "\n",
      "Log-Loss score of this model is\n",
      "\n",
      "0.23974509975605765\n",
      "\n",
      "AUC score of this model is\n",
      "\n",
      "0.8888592257717483\n"
     ]
    }
   ],
   "source": [
    "test_model3(df,'spam_hijack',RandomForestClassifier,col_name_lst1+col_name_lst2)"
   ]
  },
  {
   "cell_type": "code",
   "execution_count": 20,
   "metadata": {},
   "outputs": [
    {
     "name": "stdout",
     "output_type": "stream",
     "text": [
      "\n",
      "Score summary for initial test (first 80% of data)\n",
      "\n",
      "\n",
      "Accuracy score of this model is\n",
      "\n",
      "0.9459375\n",
      "\n",
      "Log-Loss score of this model is\n",
      "\n",
      "0.15139598728956508\n",
      "\n",
      "AUC score of this model is\n",
      "\n",
      "0.5664695799489499\n",
      "\n",
      "\n",
      "\n",
      "Score summary for final test (last 20% of data)\n",
      "\n",
      "\n",
      "Accuracy score of this model is\n",
      "\n",
      "0.9440817432075242\n",
      "\n",
      "Log-Loss score of this model is\n",
      "\n",
      "0.16111093193419151\n",
      "\n",
      "AUC score of this model is\n",
      "\n",
      "0.5702437688831807\n"
     ]
    }
   ],
   "source": [
    "df2 = df.sample(frac=1)\n",
    "df2_training = df2[:16000]\n",
    "df2_testing = df2[16000:]\n",
    "y = df2_training['spam_marketing']\n",
    "X = df2_training[['Docusign', 'onespan', 'signnow','adobe sign','listed_count', 'statuses_count','followers_count','favourites_count', 'friends_count','time_float_sin','time_float_cos', 'is_description_none']]\n",
    "X_train, X_test, y_train, y_test = train_test_split(X, y, test_size=0.25)\n",
    "model = GradientBoostingClassifier()\n",
    "kf = KFold(n_splits=5, shuffle=True)\n",
    "\n",
    "ll_performance = []\n",
    "auc_performance = []\n",
    "acc_performance = []\n",
    "#kfold split on X_ (which is X_train of len 110)\n",
    "for train_index, test_index in kf.split(X):\n",
    "    X_train, X_test = X.iloc[train_index], X.iloc[test_index]\n",
    "    y_train, y_test = y.iloc[train_index], y.iloc[test_index]\n",
    "    model.fit(X_train, y_train)\n",
    "    y_predict = model.predict(X_test)\n",
    "    y_pred = model.predict_proba(X_test)\n",
    "    log_ll = log_loss(y_test, y_pred)\n",
    "    ll_performance.append(log_ll)\n",
    "    auc = roc_auc_score(y_test,y_predict)\n",
    "    auc_performance.append(auc)\n",
    "    acc = accuracy_score(y_test,y_predict)\n",
    "    acc_performance.append(acc)\n",
    "        \n",
    "        \n",
    "print(\"\\n\" + \"Score summary for initial test (first 80% of data)\" + \"\\n\")\n",
    "print(\"\\n\" + \"Accuracy score of this model is\" + \"\\n\")\n",
    "print(np.mean(acc_performance))\n",
    "print(\"\\n\" + \"Log-Loss score of this model is\" + \"\\n\")\n",
    "print(np.mean(ll_performance))\n",
    "print(\"\\n\" + \"AUC score of this model is\" + \"\\n\")\n",
    "print(np.mean(auc_performance))\n",
    "print(\"\\n\")\n",
    "\n",
    "y = df2_testing['spam_marketing']\n",
    "X = df2_testing[['Docusign', 'onespan', 'signnow','adobe sign','listed_count', 'statuses_count','followers_count','favourites_count', 'friends_count','time_float_sin','time_float_cos', 'is_description_none']]\n",
    "X_train, X_test, y_train, y_test = train_test_split(X, y, test_size=0.25)\n",
    "    #model = model()\n",
    "kf = KFold(n_splits=5, shuffle=True)\n",
    "\n",
    "ll_performance = []\n",
    "auc_performance = []\n",
    "acc_performance = []\n",
    "#kfold split on X_ (which is X_train of len 110)\n",
    "for train_index, test_index in kf.split(X):\n",
    "    X_train, X_test = X.iloc[train_index], X.iloc[test_index]\n",
    "    y_train, y_test = y.iloc[train_index], y.iloc[test_index]\n",
    "    model.fit(X_train, y_train)\n",
    "    y_predict = model.predict(X_test)\n",
    "    y_pred = model.predict_proba(X_test)\n",
    "    log_ll = log_loss(y_test, y_pred)\n",
    "    ll_performance.append(log_ll)\n",
    "    auc = roc_auc_score(y_test,y_predict)\n",
    "    auc_performance.append(auc)\n",
    "    acc = accuracy_score(y_test,y_predict)\n",
    "    acc_performance.append(acc)\n",
    "        \n",
    "        \n",
    "print(\"\\n\" + \"Score summary for final test (last 20% of data)\" + \"\\n\")\n",
    "print(\"\\n\" + \"Accuracy score of this model is\" + \"\\n\")\n",
    "print(np.mean(acc_performance))\n",
    "print(\"\\n\" + \"Log-Loss score of this model is\" + \"\\n\")\n",
    "print(np.mean(ll_performance))\n",
    "print(\"\\n\" + \"AUC score of this model is\" + \"\\n\")\n",
    "print(np.mean(auc_performance))"
   ]
  },
  {
   "cell_type": "code",
   "execution_count": 2,
   "metadata": {},
   "outputs": [
    {
     "name": "stderr",
     "output_type": "stream",
     "text": [
      "/home/ubuntu/anaconda3/lib/python3.7/site-packages/sklearn/ensemble/forest.py:246: FutureWarning: The default value of n_estimators will change from 10 in version 0.20 to 100 in 0.22.\n",
      "  \"10 in version 0.20 to 100 in 0.22.\", FutureWarning)\n"
     ]
    },
    {
     "name": "stdout",
     "output_type": "stream",
     "text": [
      "\n",
      "Score summary for initial test (first 80% of data)\n",
      "\n",
      "\n",
      "Accuracy score of this model is\n",
      "\n",
      "0.9557500000000001\n",
      "\n",
      "Log-Loss score of this model is\n",
      "\n",
      "0.3110620137609102\n",
      "\n",
      "AUC score of this model is\n",
      "\n",
      "0.6946650794503848\n",
      "\n",
      "\n",
      "\n",
      "Score summary for final test (last 20% of data)\n",
      "\n",
      "\n",
      "Accuracy score of this model is\n",
      "\n",
      "0.9488276811093366\n",
      "\n",
      "Log-Loss score of this model is\n",
      "\n",
      "0.5279932671318143\n",
      "\n",
      "AUC score of this model is\n",
      "\n",
      "0.6054930489899447\n"
     ]
    }
   ],
   "source": [
    "df = pd.read_excel('testing2.xlsx')\n",
    "df.drop('Unnamed: 0', axis=1, inplace=True)\n",
    "processing_text(df,'text')\n",
    "col_name_lst1 = vectorize_text(df,1000)\n",
    "processing_text(df,'description')\n",
    "col_name_lst2 = vectorize_desc(df,1000)\n",
    "test_model3(df,'spam_marketing',RandomForestClassifier,col_name_lst1+col_name_lst2)"
   ]
  },
  {
   "cell_type": "code",
   "execution_count": 2,
   "metadata": {},
   "outputs": [
    {
     "name": "stderr",
     "output_type": "stream",
     "text": [
      "/home/ubuntu/anaconda3/lib/python3.7/site-packages/sklearn/ensemble/forest.py:246: FutureWarning: The default value of n_estimators will change from 10 in version 0.20 to 100 in 0.22.\n",
      "  \"10 in version 0.20 to 100 in 0.22.\", FutureWarning)\n"
     ]
    },
    {
     "name": "stdout",
     "output_type": "stream",
     "text": [
      "\n",
      "Score summary for initial test (first 80% of data)\n",
      "\n",
      "\n",
      "Accuracy score of this model is\n",
      "\n",
      "0.95525\n",
      "\n",
      "Log-Loss score of this model is\n",
      "\n",
      "0.3457592146184882\n",
      "\n",
      "AUC score of this model is\n",
      "\n",
      "0.6812271895237958\n",
      "\n",
      "\n",
      "\n",
      "Score summary for final test (last 20% of data)\n",
      "\n",
      "\n",
      "Accuracy score of this model is\n",
      "\n",
      "0.9430826803154411\n",
      "\n",
      "Log-Loss score of this model is\n",
      "\n",
      "0.5746423567463161\n",
      "\n",
      "AUC score of this model is\n",
      "\n",
      "0.5844626490015536\n"
     ]
    }
   ],
   "source": [
    "df = pd.read_excel('testing2.xlsx')\n",
    "df.drop('Unnamed: 0', axis=1, inplace=True)\n",
    "processing_text(df,'text')\n",
    "col_name_lst1 = vectorize_text(df,2000)\n",
    "processing_text(df,'description')\n",
    "col_name_lst2 = vectorize_desc(df,1000)\n",
    "test_model3(df,'spam_marketing',RandomForestClassifier,col_name_lst1+col_name_lst2)"
   ]
  },
  {
   "cell_type": "code",
   "execution_count": 3,
   "metadata": {},
   "outputs": [
    {
     "name": "stderr",
     "output_type": "stream",
     "text": [
      "/home/ubuntu/anaconda3/lib/python3.7/site-packages/sklearn/ensemble/forest.py:246: FutureWarning: The default value of n_estimators will change from 10 in version 0.20 to 100 in 0.22.\n",
      "  \"10 in version 0.20 to 100 in 0.22.\", FutureWarning)\n"
     ]
    },
    {
     "name": "stdout",
     "output_type": "stream",
     "text": [
      "\n",
      "Score summary for initial test (first 80% of data)\n",
      "\n",
      "\n",
      "Accuracy score of this model is\n",
      "\n",
      "0.9561249999999999\n",
      "\n",
      "Log-Loss score of this model is\n",
      "\n",
      "0.32363300761625824\n",
      "\n",
      "AUC score of this model is\n",
      "\n",
      "0.6860286282080982\n",
      "\n",
      "\n",
      "\n",
      "Score summary for final test (last 20% of data)\n",
      "\n",
      "\n",
      "Accuracy score of this model is\n",
      "\n",
      "0.9518223791333152\n",
      "\n",
      "Log-Loss score of this model is\n",
      "\n",
      "0.44047126689288546\n",
      "\n",
      "AUC score of this model is\n",
      "\n",
      "0.6208804094702127\n"
     ]
    }
   ],
   "source": [
    "df = pd.read_excel('testing2.xlsx')\n",
    "df.drop('Unnamed: 0', axis=1, inplace=True)\n",
    "processing_text(df,'text')\n",
    "col_name_lst1 = vectorize_text(df,1000)\n",
    "processing_text(df,'description')\n",
    "col_name_lst2 = vectorize_desc(df,2000)\n",
    "test_model3(df,'spam_marketing',RandomForestClassifier,col_name_lst1+col_name_lst2)"
   ]
  },
  {
   "cell_type": "code",
   "execution_count": 4,
   "metadata": {},
   "outputs": [
    {
     "name": "stderr",
     "output_type": "stream",
     "text": [
      "/home/ubuntu/anaconda3/lib/python3.7/site-packages/sklearn/ensemble/forest.py:246: FutureWarning: The default value of n_estimators will change from 10 in version 0.20 to 100 in 0.22.\n",
      "  \"10 in version 0.20 to 100 in 0.22.\", FutureWarning)\n"
     ]
    },
    {
     "name": "stdout",
     "output_type": "stream",
     "text": [
      "\n",
      "Score summary for initial test (first 80% of data)\n",
      "\n",
      "\n",
      "Accuracy score of this model is\n",
      "\n",
      "0.9551875000000001\n",
      "\n",
      "Log-Loss score of this model is\n",
      "\n",
      "0.3375067860078896\n",
      "\n",
      "AUC score of this model is\n",
      "\n",
      "0.6779583713407706\n",
      "\n",
      "\n",
      "\n",
      "Score summary for final test (last 20% of data)\n",
      "\n",
      "\n",
      "Accuracy score of this model is\n",
      "\n",
      "0.9458308037646208\n",
      "\n",
      "Log-Loss score of this model is\n",
      "\n",
      "0.4871428145158421\n",
      "\n",
      "AUC score of this model is\n",
      "\n",
      "0.6151665385655251\n"
     ]
    }
   ],
   "source": [
    "df = pd.read_excel('testing2.xlsx')\n",
    "df.drop('Unnamed: 0', axis=1, inplace=True)\n",
    "processing_text(df,'text')\n",
    "col_name_lst1 = vectorize_text(df,2000)\n",
    "processing_text(df,'description')\n",
    "col_name_lst2 = vectorize_desc(df,2000)\n",
    "test_model3(df,'spam_marketing',RandomForestClassifier,col_name_lst1+col_name_lst2)"
   ]
  },
  {
   "cell_type": "code",
   "execution_count": 5,
   "metadata": {},
   "outputs": [
    {
     "name": "stderr",
     "output_type": "stream",
     "text": [
      "/home/ubuntu/anaconda3/lib/python3.7/site-packages/sklearn/ensemble/forest.py:246: FutureWarning: The default value of n_estimators will change from 10 in version 0.20 to 100 in 0.22.\n",
      "  \"10 in version 0.20 to 100 in 0.22.\", FutureWarning)\n"
     ]
    },
    {
     "name": "stdout",
     "output_type": "stream",
     "text": [
      "\n",
      "Score summary for initial test (first 80% of data)\n",
      "\n",
      "\n",
      "Accuracy score of this model is\n",
      "\n",
      "0.9530000000000001\n",
      "\n",
      "Log-Loss score of this model is\n",
      "\n",
      "0.30681134844151475\n",
      "\n",
      "AUC score of this model is\n",
      "\n",
      "0.6744085821459241\n",
      "\n",
      "\n",
      "\n",
      "Score summary for final test (last 20% of data)\n",
      "\n",
      "\n",
      "Accuracy score of this model is\n",
      "\n",
      "0.9520717556919187\n",
      "\n",
      "Log-Loss score of this model is\n",
      "\n",
      "0.47260118772187615\n",
      "\n",
      "AUC score of this model is\n",
      "\n",
      "0.6079097903150857\n"
     ]
    }
   ],
   "source": [
    "df = pd.read_excel('testing2.xlsx')\n",
    "df.drop('Unnamed: 0', axis=1, inplace=True)\n",
    "processing_text(df,'text')\n",
    "col_name_lst1 = vectorize_text(df,3000)\n",
    "processing_text(df,'description')\n",
    "col_name_lst2 = vectorize_desc(df,2000)\n",
    "test_model3(df,'spam_marketing',RandomForestClassifier,col_name_lst1+col_name_lst2)"
   ]
  },
  {
   "cell_type": "code",
   "execution_count": 6,
   "metadata": {},
   "outputs": [
    {
     "name": "stderr",
     "output_type": "stream",
     "text": [
      "/home/ubuntu/anaconda3/lib/python3.7/site-packages/sklearn/ensemble/forest.py:246: FutureWarning: The default value of n_estimators will change from 10 in version 0.20 to 100 in 0.22.\n",
      "  \"10 in version 0.20 to 100 in 0.22.\", FutureWarning)\n"
     ]
    },
    {
     "name": "stdout",
     "output_type": "stream",
     "text": [
      "\n",
      "Score summary for initial test (first 80% of data)\n",
      "\n",
      "\n",
      "Accuracy score of this model is\n",
      "\n",
      "0.95625\n",
      "\n",
      "Log-Loss score of this model is\n",
      "\n",
      "0.3547430040901224\n",
      "\n",
      "AUC score of this model is\n",
      "\n",
      "0.6814272143735747\n",
      "\n",
      "\n",
      "\n",
      "Score summary for final test (last 20% of data)\n",
      "\n",
      "\n",
      "Accuracy score of this model is\n",
      "\n",
      "0.9400889162860638\n",
      "\n",
      "Log-Loss score of this model is\n",
      "\n",
      "0.5729450154787487\n",
      "\n",
      "AUC score of this model is\n",
      "\n",
      "0.5856622137338686\n"
     ]
    }
   ],
   "source": [
    "df = pd.read_excel('testing2.xlsx')\n",
    "df.drop('Unnamed: 0', axis=1, inplace=True)\n",
    "processing_text(df,'text')\n",
    "col_name_lst1 = vectorize_text(df,2000)\n",
    "processing_text(df,'description')\n",
    "col_name_lst2 = vectorize_desc(df,3000)\n",
    "test_model3(df,'spam_marketing',RandomForestClassifier,col_name_lst1+col_name_lst2)"
   ]
  },
  {
   "cell_type": "code",
   "execution_count": 7,
   "metadata": {},
   "outputs": [
    {
     "name": "stderr",
     "output_type": "stream",
     "text": [
      "/home/ubuntu/anaconda3/lib/python3.7/site-packages/sklearn/ensemble/forest.py:246: FutureWarning: The default value of n_estimators will change from 10 in version 0.20 to 100 in 0.22.\n",
      "  \"10 in version 0.20 to 100 in 0.22.\", FutureWarning)\n"
     ]
    },
    {
     "name": "stdout",
     "output_type": "stream",
     "text": [
      "\n",
      "Score summary for initial test (first 80% of data)\n",
      "\n",
      "\n",
      "Accuracy score of this model is\n",
      "\n",
      "0.95425\n",
      "\n",
      "Log-Loss score of this model is\n",
      "\n",
      "0.3356319249364111\n",
      "\n",
      "AUC score of this model is\n",
      "\n",
      "0.6816079874208449\n",
      "\n",
      "\n",
      "\n",
      "Score summary for final test (last 20% of data)\n",
      "\n",
      "\n",
      "Accuracy score of this model is\n",
      "\n",
      "0.9558158287178434\n",
      "\n",
      "Log-Loss score of this model is\n",
      "\n",
      "0.42671267787482653\n",
      "\n",
      "AUC score of this model is\n",
      "\n",
      "0.613681336357099\n"
     ]
    }
   ],
   "source": [
    "df = pd.read_excel('testing2.xlsx')\n",
    "df.drop('Unnamed: 0', axis=1, inplace=True)\n",
    "processing_text(df,'text')\n",
    "col_name_lst1 = vectorize_text(df,3000)\n",
    "processing_text(df,'description')\n",
    "col_name_lst2 = vectorize_desc(df,3000)\n",
    "test_model3(df,'spam_marketing',RandomForestClassifier,col_name_lst1+col_name_lst2)"
   ]
  },
  {
   "cell_type": "code",
   "execution_count": 8,
   "metadata": {},
   "outputs": [
    {
     "name": "stderr",
     "output_type": "stream",
     "text": [
      "/home/ubuntu/anaconda3/lib/python3.7/site-packages/sklearn/ensemble/forest.py:246: FutureWarning: The default value of n_estimators will change from 10 in version 0.20 to 100 in 0.22.\n",
      "  \"10 in version 0.20 to 100 in 0.22.\", FutureWarning)\n"
     ]
    },
    {
     "name": "stdout",
     "output_type": "stream",
     "text": [
      "\n",
      "Score summary for initial test (first 80% of data)\n",
      "\n",
      "\n",
      "Accuracy score of this model is\n",
      "\n",
      "0.95425\n",
      "\n",
      "Log-Loss score of this model is\n",
      "\n",
      "0.3723684980506903\n",
      "\n",
      "AUC score of this model is\n",
      "\n",
      "0.6823367532701811\n",
      "\n",
      "\n",
      "\n",
      "Score summary for final test (last 20% of data)\n",
      "\n",
      "\n",
      "Accuracy score of this model is\n",
      "\n",
      "0.9493258115634757\n",
      "\n",
      "Log-Loss score of this model is\n",
      "\n",
      "0.41695159330497306\n",
      "\n",
      "AUC score of this model is\n",
      "\n",
      "0.6130141243845816\n"
     ]
    }
   ],
   "source": [
    "df = pd.read_excel('testing2.xlsx')\n",
    "df.drop('Unnamed: 0', axis=1, inplace=True)\n",
    "processing_text(df,'text')\n",
    "col_name_lst1 = vectorize_text(df,4000)\n",
    "processing_text(df,'description')\n",
    "col_name_lst2 = vectorize_desc(df,3000)\n",
    "test_model3(df,'spam_marketing',RandomForestClassifier,col_name_lst1+col_name_lst2)"
   ]
  },
  {
   "cell_type": "code",
   "execution_count": 9,
   "metadata": {},
   "outputs": [
    {
     "name": "stderr",
     "output_type": "stream",
     "text": [
      "/home/ubuntu/anaconda3/lib/python3.7/site-packages/sklearn/ensemble/forest.py:246: FutureWarning: The default value of n_estimators will change from 10 in version 0.20 to 100 in 0.22.\n",
      "  \"10 in version 0.20 to 100 in 0.22.\", FutureWarning)\n"
     ]
    },
    {
     "name": "stdout",
     "output_type": "stream",
     "text": [
      "\n",
      "Score summary for initial test (first 80% of data)\n",
      "\n",
      "\n",
      "Accuracy score of this model is\n",
      "\n",
      "0.9555\n",
      "\n",
      "Log-Loss score of this model is\n",
      "\n",
      "0.390611276942315\n",
      "\n",
      "AUC score of this model is\n",
      "\n",
      "0.6882559037155062\n",
      "\n",
      "\n",
      "\n",
      "Score summary for final test (last 20% of data)\n",
      "\n",
      "\n",
      "Accuracy score of this model is\n",
      "\n",
      "0.9493261228950096\n",
      "\n",
      "Log-Loss score of this model is\n",
      "\n",
      "0.5659464784085624\n",
      "\n",
      "AUC score of this model is\n",
      "\n",
      "0.5862045284921659\n"
     ]
    }
   ],
   "source": [
    "df = pd.read_excel('testing2.xlsx')\n",
    "df.drop('Unnamed: 0', axis=1, inplace=True)\n",
    "processing_text(df,'text')\n",
    "col_name_lst1 = vectorize_text(df,3000)\n",
    "processing_text(df,'description')\n",
    "col_name_lst2 = vectorize_desc(df,4000)\n",
    "test_model3(df,'spam_marketing',RandomForestClassifier,col_name_lst1+col_name_lst2)"
   ]
  },
  {
   "cell_type": "code",
   "execution_count": 10,
   "metadata": {},
   "outputs": [
    {
     "name": "stderr",
     "output_type": "stream",
     "text": [
      "/home/ubuntu/anaconda3/lib/python3.7/site-packages/sklearn/ensemble/forest.py:246: FutureWarning: The default value of n_estimators will change from 10 in version 0.20 to 100 in 0.22.\n",
      "  \"10 in version 0.20 to 100 in 0.22.\", FutureWarning)\n"
     ]
    },
    {
     "name": "stdout",
     "output_type": "stream",
     "text": [
      "\n",
      "Score summary for initial test (first 80% of data)\n",
      "\n",
      "\n",
      "Accuracy score of this model is\n",
      "\n",
      "0.9561874999999999\n",
      "\n",
      "Log-Loss score of this model is\n",
      "\n",
      "0.4094692064883764\n",
      "\n",
      "AUC score of this model is\n",
      "\n",
      "0.6895559070065984\n",
      "\n",
      "\n",
      "\n",
      "Score summary for final test (last 20% of data)\n",
      "\n",
      "\n",
      "Accuracy score of this model is\n",
      "\n",
      "0.9450817400942089\n",
      "\n",
      "Log-Loss score of this model is\n",
      "\n",
      "0.40271715611834064\n",
      "\n",
      "AUC score of this model is\n",
      "\n",
      "0.5716808836322892\n"
     ]
    }
   ],
   "source": [
    "df = pd.read_excel('testing2.xlsx')\n",
    "df.drop('Unnamed: 0', axis=1, inplace=True)\n",
    "processing_text(df,'text')\n",
    "col_name_lst1 = vectorize_text(df,4000)\n",
    "processing_text(df,'description')\n",
    "col_name_lst2 = vectorize_desc(df,4000)\n",
    "test_model3(df,'spam_marketing',RandomForestClassifier,col_name_lst1+col_name_lst2)"
   ]
  },
  {
   "cell_type": "code",
   "execution_count": 11,
   "metadata": {},
   "outputs": [
    {
     "name": "stderr",
     "output_type": "stream",
     "text": [
      "/home/ubuntu/anaconda3/lib/python3.7/site-packages/sklearn/ensemble/forest.py:246: FutureWarning: The default value of n_estimators will change from 10 in version 0.20 to 100 in 0.22.\n",
      "  \"10 in version 0.20 to 100 in 0.22.\", FutureWarning)\n"
     ]
    },
    {
     "name": "stdout",
     "output_type": "stream",
     "text": [
      "\n",
      "Score summary for initial test (first 80% of data)\n",
      "\n",
      "\n",
      "Accuracy score of this model is\n",
      "\n",
      "0.95525\n",
      "\n",
      "Log-Loss score of this model is\n",
      "\n",
      "0.3617570554819996\n",
      "\n",
      "AUC score of this model is\n",
      "\n",
      "0.6904283986430129\n",
      "\n",
      "\n",
      "\n",
      "Score summary for final test (last 20% of data)\n",
      "\n",
      "\n",
      "Accuracy score of this model is\n",
      "\n",
      "0.9530683279317312\n",
      "\n",
      "Log-Loss score of this model is\n",
      "\n",
      "0.526356486566871\n",
      "\n",
      "AUC score of this model is\n",
      "\n",
      "0.6120179730193397\n"
     ]
    }
   ],
   "source": [
    "df = pd.read_excel('testing2.xlsx')\n",
    "df.drop('Unnamed: 0', axis=1, inplace=True)\n",
    "processing_text(df,'text')\n",
    "col_name_lst1 = vectorize_text(df,5000)\n",
    "processing_text(df,'description')\n",
    "col_name_lst2 = vectorize_desc(df,4000)\n",
    "test_model3(df,'spam_marketing',RandomForestClassifier,col_name_lst1+col_name_lst2)"
   ]
  },
  {
   "cell_type": "code",
   "execution_count": 12,
   "metadata": {},
   "outputs": [
    {
     "name": "stderr",
     "output_type": "stream",
     "text": [
      "/home/ubuntu/anaconda3/lib/python3.7/site-packages/sklearn/ensemble/forest.py:246: FutureWarning: The default value of n_estimators will change from 10 in version 0.20 to 100 in 0.22.\n",
      "  \"10 in version 0.20 to 100 in 0.22.\", FutureWarning)\n"
     ]
    },
    {
     "name": "stdout",
     "output_type": "stream",
     "text": [
      "\n",
      "Score summary for initial test (first 80% of data)\n",
      "\n",
      "\n",
      "Accuracy score of this model is\n",
      "\n",
      "0.954375\n",
      "\n",
      "Log-Loss score of this model is\n",
      "\n",
      "0.3805663048004722\n",
      "\n",
      "AUC score of this model is\n",
      "\n",
      "0.6771277948451278\n",
      "\n",
      "\n",
      "\n",
      "Score summary for final test (last 20% of data)\n",
      "\n",
      "\n",
      "Accuracy score of this model is\n",
      "\n",
      "0.9490751896787369\n",
      "\n",
      "Log-Loss score of this model is\n",
      "\n",
      "0.44971577121642337\n",
      "\n",
      "AUC score of this model is\n",
      "\n",
      "0.5888128086810697\n"
     ]
    }
   ],
   "source": [
    "df = pd.read_excel('testing2.xlsx')\n",
    "df.drop('Unnamed: 0', axis=1, inplace=True)\n",
    "processing_text(df,'text')\n",
    "col_name_lst1 = vectorize_text(df,4000)\n",
    "processing_text(df,'description')\n",
    "col_name_lst2 = vectorize_desc(df,5000)\n",
    "test_model3(df,'spam_marketing',RandomForestClassifier,col_name_lst1+col_name_lst2)"
   ]
  },
  {
   "cell_type": "code",
   "execution_count": 13,
   "metadata": {},
   "outputs": [
    {
     "name": "stderr",
     "output_type": "stream",
     "text": [
      "/home/ubuntu/anaconda3/lib/python3.7/site-packages/sklearn/ensemble/forest.py:246: FutureWarning: The default value of n_estimators will change from 10 in version 0.20 to 100 in 0.22.\n",
      "  \"10 in version 0.20 to 100 in 0.22.\", FutureWarning)\n"
     ]
    },
    {
     "name": "stdout",
     "output_type": "stream",
     "text": [
      "\n",
      "Score summary for initial test (first 80% of data)\n",
      "\n",
      "\n",
      "Accuracy score of this model is\n",
      "\n",
      "0.9560625\n",
      "\n",
      "Log-Loss score of this model is\n",
      "\n",
      "0.3600388187497185\n",
      "\n",
      "AUC score of this model is\n",
      "\n",
      "0.6813134728716808\n",
      "\n",
      "\n",
      "\n",
      "Score summary for final test (last 20% of data)\n",
      "\n",
      "\n",
      "Accuracy score of this model is\n",
      "\n",
      "0.9460817369808936\n",
      "\n",
      "Log-Loss score of this model is\n",
      "\n",
      "0.4828053047509292\n",
      "\n",
      "AUC score of this model is\n",
      "\n",
      "0.6122243693853435\n"
     ]
    }
   ],
   "source": [
    "df = pd.read_excel('testing2.xlsx')\n",
    "df.drop('Unnamed: 0', axis=1, inplace=True)\n",
    "processing_text(df,'text')\n",
    "col_name_lst1 = vectorize_text(df,5000)\n",
    "processing_text(df,'description')\n",
    "col_name_lst2 = vectorize_desc(df,5000)\n",
    "test_model3(df,'spam_marketing',RandomForestClassifier,col_name_lst1+col_name_lst2)"
   ]
  },
  {
   "cell_type": "code",
   "execution_count": 14,
   "metadata": {},
   "outputs": [
    {
     "name": "stderr",
     "output_type": "stream",
     "text": [
      "/home/ubuntu/anaconda3/lib/python3.7/site-packages/sklearn/ensemble/forest.py:246: FutureWarning: The default value of n_estimators will change from 10 in version 0.20 to 100 in 0.22.\n",
      "  \"10 in version 0.20 to 100 in 0.22.\", FutureWarning)\n"
     ]
    },
    {
     "name": "stdout",
     "output_type": "stream",
     "text": [
      "\n",
      "Score summary for initial test (first 80% of data)\n",
      "\n",
      "\n",
      "Accuracy score of this model is\n",
      "\n",
      "0.9561875000000001\n",
      "\n",
      "Log-Loss score of this model is\n",
      "\n",
      "0.4226215491933868\n",
      "\n",
      "AUC score of this model is\n",
      "\n",
      "0.6902917501319835\n",
      "\n",
      "\n",
      "\n",
      "Score summary for final test (last 20% of data)\n",
      "\n",
      "\n",
      "Accuracy score of this model is\n",
      "\n",
      "0.9428323697622363\n",
      "\n",
      "Log-Loss score of this model is\n",
      "\n",
      "0.4372546038778478\n",
      "\n",
      "AUC score of this model is\n",
      "\n",
      "0.5804095904970232\n"
     ]
    }
   ],
   "source": [
    "df = pd.read_excel('testing2.xlsx')\n",
    "df.drop('Unnamed: 0', axis=1, inplace=True)\n",
    "processing_text(df,'text')\n",
    "col_name_lst1 = vectorize_text(df,6000)\n",
    "processing_text(df,'description')\n",
    "col_name_lst2 = vectorize_desc(df,5000)\n",
    "test_model3(df,'spam_marketing',RandomForestClassifier,col_name_lst1+col_name_lst2)"
   ]
  },
  {
   "cell_type": "code",
   "execution_count": 15,
   "metadata": {},
   "outputs": [
    {
     "name": "stderr",
     "output_type": "stream",
     "text": [
      "/home/ubuntu/anaconda3/lib/python3.7/site-packages/sklearn/ensemble/forest.py:246: FutureWarning: The default value of n_estimators will change from 10 in version 0.20 to 100 in 0.22.\n",
      "  \"10 in version 0.20 to 100 in 0.22.\", FutureWarning)\n"
     ]
    },
    {
     "name": "stdout",
     "output_type": "stream",
     "text": [
      "\n",
      "Score summary for initial test (first 80% of data)\n",
      "\n",
      "\n",
      "Accuracy score of this model is\n",
      "\n",
      "0.953375\n",
      "\n",
      "Log-Loss score of this model is\n",
      "\n",
      "0.34286716759827307\n",
      "\n",
      "AUC score of this model is\n",
      "\n",
      "0.6764620087110313\n",
      "\n",
      "\n",
      "\n",
      "Score summary for final test (last 20% of data)\n",
      "\n",
      "\n",
      "Accuracy score of this model is\n",
      "\n",
      "0.9498251873437503\n",
      "\n",
      "Log-Loss score of this model is\n",
      "\n",
      "0.4205551289929936\n",
      "\n",
      "AUC score of this model is\n",
      "\n",
      "0.6013851527545973\n"
     ]
    }
   ],
   "source": [
    "df = pd.read_excel('testing2.xlsx')\n",
    "df.drop('Unnamed: 0', axis=1, inplace=True)\n",
    "processing_text(df,'text')\n",
    "col_name_lst1 = vectorize_text(df,5000)\n",
    "processing_text(df,'description')\n",
    "col_name_lst2 = vectorize_desc(df,6000)\n",
    "test_model3(df,'spam_marketing',RandomForestClassifier,col_name_lst1+col_name_lst2)"
   ]
  },
  {
   "cell_type": "code",
   "execution_count": 16,
   "metadata": {},
   "outputs": [
    {
     "name": "stderr",
     "output_type": "stream",
     "text": [
      "/home/ubuntu/anaconda3/lib/python3.7/site-packages/sklearn/ensemble/forest.py:246: FutureWarning: The default value of n_estimators will change from 10 in version 0.20 to 100 in 0.22.\n",
      "  \"10 in version 0.20 to 100 in 0.22.\", FutureWarning)\n"
     ]
    },
    {
     "name": "stdout",
     "output_type": "stream",
     "text": [
      "\n",
      "Score summary for initial test (first 80% of data)\n",
      "\n",
      "\n",
      "Accuracy score of this model is\n",
      "\n",
      "0.955125\n",
      "\n",
      "Log-Loss score of this model is\n",
      "\n",
      "0.38607410645521445\n",
      "\n",
      "AUC score of this model is\n",
      "\n",
      "0.6794813177446667\n",
      "\n",
      "\n",
      "\n",
      "Score summary for final test (last 20% of data)\n",
      "\n",
      "\n",
      "Accuracy score of this model is\n",
      "\n",
      "0.9453301826582109\n",
      "\n",
      "Log-Loss score of this model is\n",
      "\n",
      "0.5452616782224806\n",
      "\n",
      "AUC score of this model is\n",
      "\n",
      "0.5841566016411359\n"
     ]
    }
   ],
   "source": [
    "df = pd.read_excel('testing2.xlsx')\n",
    "df.drop('Unnamed: 0', axis=1, inplace=True)\n",
    "processing_text(df,'text')\n",
    "col_name_lst1 = vectorize_text(df,6000)\n",
    "processing_text(df,'description')\n",
    "col_name_lst2 = vectorize_desc(df,6000)\n",
    "test_model3(df,'spam_marketing',RandomForestClassifier,col_name_lst1+col_name_lst2)"
   ]
  },
  {
   "cell_type": "code",
   "execution_count": 17,
   "metadata": {},
   "outputs": [
    {
     "name": "stderr",
     "output_type": "stream",
     "text": [
      "/home/ubuntu/anaconda3/lib/python3.7/site-packages/sklearn/ensemble/forest.py:246: FutureWarning: The default value of n_estimators will change from 10 in version 0.20 to 100 in 0.22.\n",
      "  \"10 in version 0.20 to 100 in 0.22.\", FutureWarning)\n"
     ]
    },
    {
     "name": "stdout",
     "output_type": "stream",
     "text": [
      "\n",
      "Score summary for initial test (first 80% of data)\n",
      "\n",
      "\n",
      "Accuracy score of this model is\n",
      "\n",
      "0.9566250000000001\n",
      "\n",
      "Log-Loss score of this model is\n",
      "\n",
      "0.3811618753946305\n",
      "\n",
      "AUC score of this model is\n",
      "\n",
      "0.6851560641234984\n",
      "\n",
      "\n",
      "\n",
      "Score summary for final test (last 20% of data)\n",
      "\n",
      "\n",
      "Accuracy score of this model is\n",
      "\n",
      "0.9518223791333152\n",
      "\n",
      "Log-Loss score of this model is\n",
      "\n",
      "0.47584810790394894\n",
      "\n",
      "AUC score of this model is\n",
      "\n",
      "0.6172322290728631\n"
     ]
    }
   ],
   "source": [
    "df = pd.read_excel('testing2.xlsx')\n",
    "df.drop('Unnamed: 0', axis=1, inplace=True)\n",
    "processing_text(df,'text')\n",
    "col_name_lst1 = vectorize_text(df,7000)\n",
    "processing_text(df,'description')\n",
    "col_name_lst2 = vectorize_desc(df,6000)\n",
    "test_model3(df,'spam_marketing',RandomForestClassifier,col_name_lst1+col_name_lst2)"
   ]
  },
  {
   "cell_type": "code",
   "execution_count": 18,
   "metadata": {},
   "outputs": [
    {
     "name": "stderr",
     "output_type": "stream",
     "text": [
      "/home/ubuntu/anaconda3/lib/python3.7/site-packages/sklearn/ensemble/forest.py:246: FutureWarning: The default value of n_estimators will change from 10 in version 0.20 to 100 in 0.22.\n",
      "  \"10 in version 0.20 to 100 in 0.22.\", FutureWarning)\n"
     ]
    },
    {
     "name": "stdout",
     "output_type": "stream",
     "text": [
      "\n",
      "Score summary for initial test (first 80% of data)\n",
      "\n",
      "\n",
      "Accuracy score of this model is\n",
      "\n",
      "0.9561875000000001\n",
      "\n",
      "Log-Loss score of this model is\n",
      "\n",
      "0.37989896498544046\n",
      "\n",
      "AUC score of this model is\n",
      "\n",
      "0.6867563152891556\n",
      "\n",
      "\n",
      "\n",
      "Score summary for final test (last 20% of data)\n",
      "\n",
      "\n",
      "Accuracy score of this model is\n",
      "\n",
      "0.9450851647410812\n",
      "\n",
      "Log-Loss score of this model is\n",
      "\n",
      "0.4546017776825589\n",
      "\n",
      "AUC score of this model is\n",
      "\n",
      "0.596785641311778\n"
     ]
    }
   ],
   "source": [
    "df = pd.read_excel('testing2.xlsx')\n",
    "df.drop('Unnamed: 0', axis=1, inplace=True)\n",
    "processing_text(df,'text')\n",
    "col_name_lst1 = vectorize_text(df,6000)\n",
    "processing_text(df,'description')\n",
    "col_name_lst2 = vectorize_desc(df,7000)\n",
    "test_model3(df,'spam_marketing',RandomForestClassifier,col_name_lst1+col_name_lst2)"
   ]
  },
  {
   "cell_type": "code",
   "execution_count": 19,
   "metadata": {},
   "outputs": [
    {
     "name": "stderr",
     "output_type": "stream",
     "text": [
      "/home/ubuntu/anaconda3/lib/python3.7/site-packages/sklearn/ensemble/forest.py:246: FutureWarning: The default value of n_estimators will change from 10 in version 0.20 to 100 in 0.22.\n",
      "  \"10 in version 0.20 to 100 in 0.22.\", FutureWarning)\n"
     ]
    },
    {
     "name": "stdout",
     "output_type": "stream",
     "text": [
      "\n",
      "Score summary for initial test (first 80% of data)\n",
      "\n",
      "\n",
      "Accuracy score of this model is\n",
      "\n",
      "0.9573750000000001\n",
      "\n",
      "Log-Loss score of this model is\n",
      "\n",
      "0.396181236891592\n",
      "\n",
      "AUC score of this model is\n",
      "\n",
      "0.6983796363762993\n",
      "\n",
      "\n",
      "\n",
      "Score summary for final test (last 20% of data)\n",
      "\n",
      "\n",
      "Accuracy score of this model is\n",
      "\n",
      "0.9453367206204215\n",
      "\n",
      "Log-Loss score of this model is\n",
      "\n",
      "0.5624086981030103\n",
      "\n",
      "AUC score of this model is\n",
      "\n",
      "0.5605088895189769\n"
     ]
    }
   ],
   "source": [
    "df = pd.read_excel('testing2.xlsx')\n",
    "df.drop('Unnamed: 0', axis=1, inplace=True)\n",
    "processing_text(df,'text')\n",
    "col_name_lst1 = vectorize_text(df,7000)\n",
    "processing_text(df,'description')\n",
    "col_name_lst2 = vectorize_desc(df,7000)\n",
    "test_model3(df,'spam_marketing',RandomForestClassifier,col_name_lst1+col_name_lst2)"
   ]
  },
  {
   "cell_type": "code",
   "execution_count": null,
   "metadata": {},
   "outputs": [],
   "source": []
  }
 ],
 "metadata": {
  "kernelspec": {
   "display_name": "Python 3",
   "language": "python",
   "name": "python3"
  },
  "language_info": {
   "codemirror_mode": {
    "name": "ipython",
    "version": 3
   },
   "file_extension": ".py",
   "mimetype": "text/x-python",
   "name": "python",
   "nbconvert_exporter": "python",
   "pygments_lexer": "ipython3",
   "version": "3.7.3"
  }
 },
 "nbformat": 4,
 "nbformat_minor": 2
}
