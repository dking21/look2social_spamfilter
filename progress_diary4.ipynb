{
 "cells": [
  {
   "cell_type": "code",
   "execution_count": 2,
   "metadata": {},
   "outputs": [],
   "source": [
    "import pandas as pd\n",
    "import numpy as np\n",
    "\n",
    "from src.data_cleaning import data_labeling\n",
    "from src.data_cleaning import feature_engineering\n",
    "from src.language_processing import to_tfidf\n",
    "from src.modeling import test_model\n",
    "\n",
    "from sklearn.metrics import accuracy_score\n",
    "from sklearn.metrics import confusion_matrix\n",
    "from sklearn.metrics import log_loss\n",
    "from sklearn.metrics import roc_auc_score\n",
    "from sklearn.model_selection import train_test_split,KFold\n",
    "\n",
    "from sklearn.naive_bayes import MultinomialNB\n",
    "from sklearn.linear_model import LogisticRegression\n",
    "from sklearn.ensemble import RandomForestClassifier\n",
    "from sklearn.ensemble import GradientBoostingClassifier"
   ]
  },
  {
   "cell_type": "code",
   "execution_count": 3,
   "metadata": {},
   "outputs": [
    {
     "name": "stderr",
     "output_type": "stream",
     "text": [
      "/home/daniel/Desktop/Seattle_g89/spam_filter/look2social_spamfilter/src/data_cleaning.py:24: SettingWithCopyWarning: \n",
      "A value is trying to be set on a copy of a slice from a DataFrame\n",
      "\n",
      "See the caveats in the documentation: http://pandas.pydata.org/pandas-docs/stable/indexing.html#indexing-view-versus-copy\n",
      "  df['spam_corporate'][df.screen_name.isin(combined_lst)] = 1\n",
      "/home/daniel/Desktop/Seattle_g89/spam_filter/look2social_spamfilter/src/data_cleaning.py:25: SettingWithCopyWarning: \n",
      "A value is trying to be set on a copy of a slice from a DataFrame\n",
      "\n",
      "See the caveats in the documentation: http://pandas.pydata.org/pandas-docs/stable/indexing.html#indexing-view-versus-copy\n",
      "  df['spam_bot'][df.expanded_url == 'https://acrobat.adobe.com'] = 1\n",
      "/home/daniel/Desktop/Seattle_g89/spam_filter/look2social_spamfilter/src/data_cleaning.py:28: SettingWithCopyWarning: \n",
      "A value is trying to be set on a copy of a slice from a DataFrame.\n",
      "Try using .loc[row_indexer,col_indexer] = value instead\n",
      "\n",
      "See the caveats in the documentation: http://pandas.pydata.org/pandas-docs/stable/indexing.html#indexing-view-versus-copy\n",
      "  hand_labeled_df['spam_marketing'] = hand_combined['spam_marketing'].values\n",
      "/home/daniel/Desktop/Seattle_g89/spam_filter/look2social_spamfilter/src/data_cleaning.py:29: SettingWithCopyWarning: \n",
      "A value is trying to be set on a copy of a slice from a DataFrame.\n",
      "Try using .loc[row_indexer,col_indexer] = value instead\n",
      "\n",
      "See the caveats in the documentation: http://pandas.pydata.org/pandas-docs/stable/indexing.html#indexing-view-versus-copy\n",
      "  hand_labeled_df['spam_hijack'] = hand_combined['spam_hijack'].values\n"
     ]
    }
   ],
   "source": [
    "df = data_labeling('data/data_prepping_zeros_index.xlsx',\n",
    "              'data/smalleyeball_partone.xlsx',\n",
    "              'data/smalleyeball_parttwo.xlsx')"
   ]
  },
  {
   "cell_type": "code",
   "execution_count": 4,
   "metadata": {},
   "outputs": [
    {
     "name": "stderr",
     "output_type": "stream",
     "text": [
      "/home/daniel/anaconda3/lib/python3.6/site-packages/pandas/core/frame.py:3940: SettingWithCopyWarning: \n",
      "A value is trying to be set on a copy of a slice from a DataFrame\n",
      "\n",
      "See the caveats in the documentation: http://pandas.pydata.org/pandas-docs/stable/indexing.html#indexing-view-versus-copy\n",
      "  errors=errors)\n",
      "/home/daniel/Desktop/Seattle_g89/spam_filter/look2social_spamfilter/src/data_cleaning.py:58: SettingWithCopyWarning: \n",
      "A value is trying to be set on a copy of a slice from a DataFrame.\n",
      "Try using .loc[row_indexer,col_indexer] = value instead\n",
      "\n",
      "See the caveats in the documentation: http://pandas.pydata.org/pandas-docs/stable/indexing.html#indexing-view-versus-copy\n",
      "  df3['time_created'] = pd.to_datetime(df3['created_at']).copy()\n",
      "/home/daniel/Desktop/Seattle_g89/spam_filter/look2social_spamfilter/src/data_cleaning.py:59: SettingWithCopyWarning: \n",
      "A value is trying to be set on a copy of a slice from a DataFrame.\n",
      "Try using .loc[row_indexer,col_indexer] = value instead\n",
      "\n",
      "See the caveats in the documentation: http://pandas.pydata.org/pandas-docs/stable/indexing.html#indexing-view-versus-copy\n",
      "  df3['created_at_float'] = df3['time_created'].dt.hour + df3['time_created'].dt.minute/60 + df3['time_created'].dt.second/3600\n"
     ]
    }
   ],
   "source": [
    "df2 = feature_engineering(df)"
   ]
  },
  {
   "cell_type": "code",
   "execution_count": 4,
   "metadata": {},
   "outputs": [],
   "source": [
    "def testing_with_text(df2,b,k):\n",
    "    for n in range(b,k,1000):\n",
    "        df3 = df2\n",
    "        text_tfidf_matrix = to_tfidf(df3,'text',n)\n",
    "        col_name_lst = []\n",
    "        for m in range(text_tfidf_matrix.shape[1]):\n",
    "            col_name = f'text-TF-IDF-{m}'\n",
    "            df3[col_name] = text_tfidf_matrix[:, m]\n",
    "            col_name_lst.append(col_name)\n",
    "        data_training_set = df3[:16000]\n",
    "        data_test_set = df3[16000:]\n",
    "        y = data_training_set['spam_marketing']\n",
    "        X = data_training_set[['Docusign', 'onespan', 'signnow','adobe sign','listed_count', 'statuses_count','followers_count',\n",
    "          'favourites_count', 'friends_count','time_float_sin','time_float_cos', 'is_description_none']+col_name_lst]\n",
    "        X_train, X_test, y_train, y_test = train_test_split(X, y, test_size=0.25)\n",
    "        model = RandomForestClassifier()\n",
    "        model.fit(X_train,y_train)\n",
    "        y_predict = model.predict(X_test)\n",
    "        y_pred = model.predict_proba(X_test)                \n",
    "        print(\"\\n\" + \"Result of \" + str(n) + \" text features with training set\")\n",
    "        print(\"Accuracy score of this model is\" + \"\\n\")\n",
    "        print(accuracy_score(y_test,y_predict))\n",
    "        print(\"\\n\" + \"Confusion Matrix of this model is\" + \"\\n\")\n",
    "        print(confusion_matrix(y_test,y_predict))\n",
    "        print(\"\\n\" + \"Log-Loss score of this model is\" + \"\\n\")\n",
    "        print(log_loss(y_test,y_pred))\n",
    "        print(\"\\n\" + \"AUC score of this model is\" + \"\\n\")\n",
    "        print(roc_auc_score(y_test,y_predict))\n",
    "        y = data_test_set['spam_marketing']\n",
    "        X = data_test_set[['Docusign', 'onespan', 'signnow','adobe sign','listed_count', 'statuses_count','followers_count',\n",
    "          'favourites_count', 'friends_count','time_float_sin','time_float_cos', 'is_description_none']+col_name_lst]\n",
    "        y_predict = model.predict(X)\n",
    "        y_pred = model.predict_proba(X)                \n",
    "        print(\"\\n\" + \"Result of \" + str(n) + \" text features with test set\")\n",
    "        print(\"Accuracy score of this model is\" + \"\\n\")\n",
    "        print(accuracy_score(y,y_predict))\n",
    "        print(\"\\n\" + \"Confusion Matrix of this model is\" + \"\\n\")\n",
    "        print(confusion_matrix(y,y_predict))\n",
    "        print(\"\\n\" + \"Log-Loss score of this model is\" + \"\\n\")\n",
    "        print(log_loss(y,y_pred))\n",
    "        print(\"\\n\" + \"AUC score of this model is\" + \"\\n\")\n",
    "        print(roc_auc_score(y,y_predict))"
   ]
  },
  {
   "cell_type": "code",
   "execution_count": 5,
   "metadata": {},
   "outputs": [
    {
     "name": "stderr",
     "output_type": "stream",
     "text": [
      "/home/daniel/anaconda3/lib/python3.6/site-packages/sklearn/ensemble/forest.py:246: FutureWarning: The default value of n_estimators will change from 10 in version 0.20 to 100 in 0.22.\n",
      "  \"10 in version 0.20 to 100 in 0.22.\", FutureWarning)\n"
     ]
    },
    {
     "name": "stdout",
     "output_type": "stream",
     "text": [
      "\n",
      "Result of 1000 text features with training set\n",
      "Accuracy score of this model is\n",
      "\n",
      "0.96125\n",
      "\n",
      "Confusion Matrix of this model is\n",
      "\n",
      "[[3793   27]\n",
      " [ 128   52]]\n",
      "\n",
      "Log-Loss score of this model is\n",
      "\n",
      "0.3185801779671794\n",
      "\n",
      "AUC score of this model is\n",
      "\n",
      "0.6409104130308317\n",
      "\n",
      "Result of 1000 text features with test set\n",
      "Accuracy score of this model is\n",
      "\n",
      "0.8267598602096855\n",
      "\n",
      "Confusion Matrix of this model is\n",
      "\n",
      "[[3270  306]\n",
      " [ 388   42]]\n",
      "\n",
      "Log-Loss score of this model is\n",
      "\n",
      "0.9438931951395637\n",
      "\n",
      "AUC score of this model is\n",
      "\n",
      "0.5060519744029968\n"
     ]
    },
    {
     "name": "stderr",
     "output_type": "stream",
     "text": [
      "/home/daniel/anaconda3/lib/python3.6/site-packages/sklearn/ensemble/forest.py:246: FutureWarning: The default value of n_estimators will change from 10 in version 0.20 to 100 in 0.22.\n",
      "  \"10 in version 0.20 to 100 in 0.22.\", FutureWarning)\n"
     ]
    },
    {
     "name": "stdout",
     "output_type": "stream",
     "text": [
      "\n",
      "Result of 2000 text features with training set\n",
      "Accuracy score of this model is\n",
      "\n",
      "0.962\n",
      "\n",
      "Confusion Matrix of this model is\n",
      "\n",
      "[[3796   19]\n",
      " [ 133   52]]\n",
      "\n",
      "Log-Loss score of this model is\n",
      "\n",
      "0.3447367840885868\n",
      "\n",
      "AUC score of this model is\n",
      "\n",
      "0.638050370160462\n",
      "\n",
      "Result of 2000 text features with test set\n",
      "Accuracy score of this model is\n",
      "\n",
      "0.8387418871692461\n",
      "\n",
      "Confusion Matrix of this model is\n",
      "\n",
      "[[3293  283]\n",
      " [ 363   67]]\n",
      "\n",
      "Log-Loss score of this model is\n",
      "\n",
      "0.9706400046857735\n",
      "\n",
      "AUC score of this model is\n",
      "\n",
      "0.538337625513761\n"
     ]
    },
    {
     "name": "stderr",
     "output_type": "stream",
     "text": [
      "/home/daniel/anaconda3/lib/python3.6/site-packages/sklearn/ensemble/forest.py:246: FutureWarning: The default value of n_estimators will change from 10 in version 0.20 to 100 in 0.22.\n",
      "  \"10 in version 0.20 to 100 in 0.22.\", FutureWarning)\n"
     ]
    },
    {
     "name": "stdout",
     "output_type": "stream",
     "text": [
      "\n",
      "Result of 3000 text features with training set\n",
      "Accuracy score of this model is\n",
      "\n",
      "0.95925\n",
      "\n",
      "Confusion Matrix of this model is\n",
      "\n",
      "[[3782   16]\n",
      " [ 147   55]]\n",
      "\n",
      "Log-Loss score of this model is\n",
      "\n",
      "0.38715527978603337\n",
      "\n",
      "AUC score of this model is\n",
      "\n",
      "0.634032242086768\n",
      "\n",
      "Result of 3000 text features with test set\n",
      "Accuracy score of this model is\n",
      "\n",
      "0.8841737393909136\n",
      "\n",
      "Confusion Matrix of this model is\n",
      "\n",
      "[[3510   66]\n",
      " [ 398   32]]\n",
      "\n",
      "Log-Loss score of this model is\n",
      "\n",
      "1.053449587047028\n",
      "\n",
      "AUC score of this model is\n",
      "\n",
      "0.5279811144061183\n"
     ]
    },
    {
     "name": "stderr",
     "output_type": "stream",
     "text": [
      "/home/daniel/anaconda3/lib/python3.6/site-packages/sklearn/ensemble/forest.py:246: FutureWarning: The default value of n_estimators will change from 10 in version 0.20 to 100 in 0.22.\n",
      "  \"10 in version 0.20 to 100 in 0.22.\", FutureWarning)\n"
     ]
    },
    {
     "name": "stdout",
     "output_type": "stream",
     "text": [
      "\n",
      "Result of 4000 text features with training set\n",
      "Accuracy score of this model is\n",
      "\n",
      "0.95875\n",
      "\n",
      "Confusion Matrix of this model is\n",
      "\n",
      "[[3787   19]\n",
      " [ 146   48]]\n",
      "\n",
      "Log-Loss score of this model is\n",
      "\n",
      "0.35539291557506103\n",
      "\n",
      "AUC score of this model is\n",
      "\n",
      "0.6212152813517452\n",
      "\n",
      "Result of 4000 text features with test set\n",
      "Accuracy score of this model is\n",
      "\n",
      "0.8579630554168747\n",
      "\n",
      "Confusion Matrix of this model is\n",
      "\n",
      "[[3414  162]\n",
      " [ 407   23]]\n",
      "\n",
      "Log-Loss score of this model is\n",
      "\n",
      "1.067327304310931\n",
      "\n",
      "AUC score of this model is\n",
      "\n",
      "0.5040931793351022\n"
     ]
    },
    {
     "name": "stderr",
     "output_type": "stream",
     "text": [
      "/home/daniel/anaconda3/lib/python3.6/site-packages/sklearn/ensemble/forest.py:246: FutureWarning: The default value of n_estimators will change from 10 in version 0.20 to 100 in 0.22.\n",
      "  \"10 in version 0.20 to 100 in 0.22.\", FutureWarning)\n"
     ]
    },
    {
     "name": "stdout",
     "output_type": "stream",
     "text": [
      "\n",
      "Result of 5000 text features with training set\n",
      "Accuracy score of this model is\n",
      "\n",
      "0.95875\n",
      "\n",
      "Confusion Matrix of this model is\n",
      "\n",
      "[[3788   18]\n",
      " [ 147   47]]\n",
      "\n",
      "Log-Loss score of this model is\n",
      "\n",
      "0.2736169483792253\n",
      "\n",
      "AUC score of this model is\n",
      "\n",
      "0.6187693332827711\n",
      "\n",
      "Result of 5000 text features with test set\n",
      "Accuracy score of this model is\n",
      "\n",
      "0.8704443334997504\n",
      "\n",
      "Confusion Matrix of this model is\n",
      "\n",
      "[[3448  128]\n",
      " [ 391   39]]\n",
      "\n",
      "Log-Loss score of this model is\n",
      "\n",
      "0.9630934324409527\n",
      "\n",
      "AUC score of this model is\n",
      "\n",
      "0.5274517454867071\n"
     ]
    }
   ],
   "source": [
    "testing_with_text(df2,1000,6000)"
   ]
  },
  {
   "cell_type": "code",
   "execution_count": null,
   "metadata": {},
   "outputs": [],
   "source": []
  },
  {
   "cell_type": "code",
   "execution_count": null,
   "metadata": {},
   "outputs": [],
   "source": []
  },
  {
   "cell_type": "code",
   "execution_count": null,
   "metadata": {},
   "outputs": [],
   "source": []
  },
  {
   "cell_type": "code",
   "execution_count": 9,
   "metadata": {},
   "outputs": [
    {
     "name": "stdout",
     "output_type": "stream",
     "text": [
      "Accuracy score of this model is\n",
      "\n",
      "0.95875\n",
      "\n",
      "Confusion Matrix of this model is\n",
      "\n",
      "[[3771   42]\n",
      " [ 123   64]]\n",
      "\n",
      "Log-Loss score of this model is\n",
      "\n",
      "0.3650547300290184\n",
      "\n",
      "AUC score of this model is\n",
      "\n",
      "0.6656155202228234\n",
      "Accuracy score of this model is\n",
      "\n",
      "0.8699450823764353\n",
      "\n",
      "Confusion Matrix of this model is\n",
      "\n",
      "[[3443  133]\n",
      " [ 388   42]]\n",
      "\n",
      "Log-Loss score of this model is\n",
      "\n",
      "0.7253016293173199\n",
      "\n",
      "AUC score of this model is\n",
      "\n",
      "0.5302410124343166\n"
     ]
    },
    {
     "name": "stderr",
     "output_type": "stream",
     "text": [
      "/home/daniel/anaconda3/lib/python3.6/site-packages/sklearn/ensemble/forest.py:246: FutureWarning: The default value of n_estimators will change from 10 in version 0.20 to 100 in 0.22.\n",
      "  \"10 in version 0.20 to 100 in 0.22.\", FutureWarning)\n"
     ]
    }
   ],
   "source": [
    "df3 = df2\n",
    "data_training_set = df3[:16000]\n",
    "data_test_set = df3[16000:]\n",
    "y = data_training_set['spam_marketing']\n",
    "X = data_training_set[['Docusign', 'onespan', 'signnow','adobe sign','listed_count', 'statuses_count','followers_count',\n",
    "          'favourites_count', 'friends_count','time_float_sin','time_float_cos', 'is_description_none']]\n",
    "X_train, X_test, y_train, y_test = train_test_split(X, y, test_size=0.25)\n",
    "model = RandomForestClassifier()\n",
    "model.fit(X_train,y_train)\n",
    "y_predict = model.predict(X_test)\n",
    "y_pred = model.predict_proba(X_test)\n",
    "print(\"Accuracy score of this model is\" + \"\\n\")\n",
    "print(accuracy_score(y_test,y_predict))\n",
    "print(\"\\n\" + \"Confusion Matrix of this model is\" + \"\\n\")\n",
    "print(confusion_matrix(y_test,y_predict))\n",
    "print(\"\\n\" + \"Log-Loss score of this model is\" + \"\\n\")\n",
    "print(log_loss(y_test,y_pred))\n",
    "print(\"\\n\" + \"AUC score of this model is\" + \"\\n\")\n",
    "print(roc_auc_score(y_test,y_predict))\n",
    "y = data_test_set['spam_marketing']\n",
    "X = data_test_set[['Docusign', 'onespan', 'signnow','adobe sign','listed_count', 'statuses_count','followers_count',\n",
    "          'favourites_count', 'friends_count','time_float_sin','time_float_cos', 'is_description_none']]\n",
    "y_predict = model.predict(X)\n",
    "y_pred = model.predict_proba(X)\n",
    "print(\"Accuracy score of this model is\" + \"\\n\")\n",
    "print(accuracy_score(y,y_predict))\n",
    "print(\"\\n\" + \"Confusion Matrix of this model is\" + \"\\n\")\n",
    "print(confusion_matrix(y,y_predict))\n",
    "print(\"\\n\" + \"Log-Loss score of this model is\" + \"\\n\")\n",
    "print(log_loss(y,y_pred))\n",
    "print(\"\\n\" + \"AUC score of this model is\" + \"\\n\")\n",
    "print(roc_auc_score(y,y_predict))"
   ]
  },
  {
   "cell_type": "code",
   "execution_count": 9,
   "metadata": {},
   "outputs": [
    {
     "name": "stderr",
     "output_type": "stream",
     "text": [
      "/home/daniel/anaconda3/lib/python3.6/site-packages/sklearn/ensemble/forest.py:246: FutureWarning: The default value of n_estimators will change from 10 in version 0.20 to 100 in 0.22.\n",
      "  \"10 in version 0.20 to 100 in 0.22.\", FutureWarning)\n"
     ]
    },
    {
     "name": "stdout",
     "output_type": "stream",
     "text": [
      "Accuracy score of this model is\n",
      "\n",
      "0.9615\n",
      "\n",
      "Confusion Matrix of this model is\n",
      "\n",
      "[[3785   26]\n",
      " [ 128   61]]\n",
      "\n",
      "Log-Loss score of this model is\n",
      "\n",
      "0.4410203504865348\n",
      "\n",
      "AUC score of this model is\n",
      "\n",
      "0.6579644832072018\n",
      "\n",
      "Accuracy score of this model is\n",
      "\n",
      "0.8796804792810784\n",
      "\n",
      "Confusion Matrix of this model is\n",
      "\n",
      "[[3493   83]\n",
      " [ 399   31]]\n",
      "\n",
      "Log-Loss score of this model is\n",
      "\n",
      "1.1988684533853136\n",
      "\n",
      "AUC score of this model is\n",
      "\n",
      "0.5244413662140367\n"
     ]
    }
   ],
   "source": [
    "df3 = df2\n",
    "text_tfidf_matrix = to_tfidf(df3,'description',5000)\n",
    "col_name_lst = []\n",
    "for n in range(text_tfidf_matrix.shape[1]):\n",
    "    col_name = f'text-TF-IDF-{n}'\n",
    "    df3[col_name] = text_tfidf_matrix[:, n]\n",
    "    col_name_lst.append(col_name)\n",
    "data_training_set = df3[:16000]\n",
    "data_test_set = df3[16000:]\n",
    "y = data_training_set['spam_marketing']\n",
    "X = data_training_set[['Docusign', 'onespan', 'signnow','adobe sign','listed_count', 'statuses_count','followers_count',\n",
    "          'favourites_count', 'friends_count','time_float_sin','time_float_cos', 'is_description_none']+col_name_lst]\n",
    "X_train, X_test, y_train, y_test = train_test_split(X, y, test_size=0.25)\n",
    "model = RandomForestClassifier()\n",
    "model.fit(X_train,y_train)\n",
    "\n",
    "y_predict = model.predict(X_test)\n",
    "y_pred = model.predict_proba(X_test)\n",
    "print(\"Accuracy score of this model is\" + \"\\n\")\n",
    "print(accuracy_score(y_test,y_predict))\n",
    "print(\"\\n\" + \"Confusion Matrix of this model is\" + \"\\n\")\n",
    "print(confusion_matrix(y_test,y_predict))\n",
    "print(\"\\n\" + \"Log-Loss score of this model is\" + \"\\n\")\n",
    "print(log_loss(y_test,y_pred))\n",
    "print(\"\\n\" + \"AUC score of this model is\" + \"\\n\")\n",
    "print(roc_auc_score(y_test,y_predict))\n",
    "y = data_test_set['spam_marketing']\n",
    "X = data_test_set[['Docusign', 'onespan', 'signnow','adobe sign','listed_count', 'statuses_count','followers_count',\n",
    "          'favourites_count', 'friends_count','time_float_sin','time_float_cos', 'is_description_none']+col_name_lst]\n",
    "y_predict = model.predict(X)\n",
    "y_pred = model.predict_proba(X)\n",
    "print(\"\\n\" + \"Accuracy score of this model is\" + \"\\n\")\n",
    "print(accuracy_score(y,y_predict))\n",
    "print(\"\\n\" + \"Confusion Matrix of this model is\" + \"\\n\")\n",
    "print(confusion_matrix(y,y_predict))\n",
    "print(\"\\n\" + \"Log-Loss score of this model is\" + \"\\n\")\n",
    "print(log_loss(y,y_pred))\n",
    "print(\"\\n\" + \"AUC score of this model is\" + \"\\n\")\n",
    "print(roc_auc_score(y,y_predict))"
   ]
  },
  {
   "cell_type": "code",
   "execution_count": null,
   "metadata": {},
   "outputs": [],
   "source": []
  },
  {
   "cell_type": "code",
   "execution_count": null,
   "metadata": {},
   "outputs": [],
   "source": []
  },
  {
   "cell_type": "code",
   "execution_count": null,
   "metadata": {},
   "outputs": [],
   "source": []
  },
  {
   "cell_type": "code",
   "execution_count": null,
   "metadata": {},
   "outputs": [],
   "source": []
  },
  {
   "cell_type": "code",
   "execution_count": null,
   "metadata": {},
   "outputs": [],
   "source": []
  },
  {
   "cell_type": "code",
   "execution_count": null,
   "metadata": {},
   "outputs": [],
   "source": []
  },
  {
   "cell_type": "code",
   "execution_count": 7,
   "metadata": {},
   "outputs": [],
   "source": [
    "col_name_lst = []\n",
    "for n in range(text_tfidf_matrix.shape[1]):\n",
    "    col_name = f'text-TF-IDF-{n}'\n",
    "    df2[col_name] = text_tfidf_matrix[:, n]\n",
    "    col_name_lst.append(col_name)"
   ]
  },
  {
   "cell_type": "code",
   "execution_count": 9,
   "metadata": {},
   "outputs": [],
   "source": [
    "data_training_set = df2[:16000]\n",
    "data_test_set = df2[16000:]"
   ]
  },
  {
   "cell_type": "code",
   "execution_count": 10,
   "metadata": {},
   "outputs": [],
   "source": [
    "y = data_training_set['spam_marketing']\n",
    "X = data_training_set[['Docusign', 'onespan', 'signnow','adobe sign','listed_count', 'statuses_count','followers_count',\n",
    "          'favourites_count', 'friends_count','time_float_sin','time_float_cos', 'is_description_none']+col_name_lst]"
   ]
  },
  {
   "cell_type": "code",
   "execution_count": 11,
   "metadata": {},
   "outputs": [
    {
     "name": "stderr",
     "output_type": "stream",
     "text": [
      "/home/daniel/anaconda3/lib/python3.6/site-packages/sklearn/ensemble/forest.py:246: FutureWarning: The default value of n_estimators will change from 10 in version 0.20 to 100 in 0.22.\n",
      "  \"10 in version 0.20 to 100 in 0.22.\", FutureWarning)\n"
     ]
    }
   ],
   "source": [
    "X_train, X_test, y_train, y_test = train_test_split(X, y, test_size=0.25)\n",
    "model = RandomForestClassifier()\n",
    "model.fit(X_train,y_train)\n",
    "y_predict = model.predict(X_test)\n",
    "y_pred = model.predict_proba(X_test)"
   ]
  },
  {
   "cell_type": "code",
   "execution_count": 14,
   "metadata": {},
   "outputs": [
    {
     "name": "stdout",
     "output_type": "stream",
     "text": [
      "Accuracy score of this model is\n",
      "\n",
      "0.9585\n",
      "\n",
      "Confusion Matrix of this model is\n",
      "\n",
      "[[3783   28]\n",
      " [ 138   51]]\n",
      "\n",
      "Log-Loss score of this model is\n",
      "\n",
      "0.3090738048665969\n",
      "\n",
      "AUC score of this model is\n",
      "\n",
      "0.6312470584315244\n"
     ]
    }
   ],
   "source": [
    "print(\"Accuracy score of this model is\" + \"\\n\")\n",
    "print(accuracy_score(y_test,y_predict))\n",
    "print(\"\\n\" + \"Confusion Matrix of this model is\" + \"\\n\")\n",
    "print(confusion_matrix(y_test,y_predict))\n",
    "print(\"\\n\" + \"Log-Loss score of this model is\" + \"\\n\")\n",
    "print(log_loss(y_test,y_pred))\n",
    "print(\"\\n\" + \"AUC score of this model is\" + \"\\n\")\n",
    "print(roc_auc_score(y_test,y_predict))"
   ]
  },
  {
   "cell_type": "code",
   "execution_count": null,
   "metadata": {},
   "outputs": [],
   "source": []
  },
  {
   "cell_type": "code",
   "execution_count": null,
   "metadata": {},
   "outputs": [],
   "source": []
  },
  {
   "cell_type": "code",
   "execution_count": null,
   "metadata": {},
   "outputs": [],
   "source": []
  },
  {
   "cell_type": "code",
   "execution_count": null,
   "metadata": {},
   "outputs": [],
   "source": []
  },
  {
   "cell_type": "code",
   "execution_count": 18,
   "metadata": {},
   "outputs": [
    {
     "name": "stderr",
     "output_type": "stream",
     "text": [
      "/home/daniel/anaconda3/lib/python3.6/site-packages/pandas/core/frame.py:3940: SettingWithCopyWarning: \n",
      "A value is trying to be set on a copy of a slice from a DataFrame\n",
      "\n",
      "See the caveats in the documentation: http://pandas.pydata.org/pandas-docs/stable/indexing.html#indexing-view-versus-copy\n",
      "  errors=errors)\n",
      "/home/daniel/Desktop/Seattle_g89/spam_filter/look2social_spamfilter/src/data_cleaning.py:58: SettingWithCopyWarning: \n",
      "A value is trying to be set on a copy of a slice from a DataFrame.\n",
      "Try using .loc[row_indexer,col_indexer] = value instead\n",
      "\n",
      "See the caveats in the documentation: http://pandas.pydata.org/pandas-docs/stable/indexing.html#indexing-view-versus-copy\n",
      "  df3['time_created'] = pd.to_datetime(df3['created_at']).copy()\n",
      "/home/daniel/Desktop/Seattle_g89/spam_filter/look2social_spamfilter/src/data_cleaning.py:59: SettingWithCopyWarning: \n",
      "A value is trying to be set on a copy of a slice from a DataFrame.\n",
      "Try using .loc[row_indexer,col_indexer] = value instead\n",
      "\n",
      "See the caveats in the documentation: http://pandas.pydata.org/pandas-docs/stable/indexing.html#indexing-view-versus-copy\n",
      "  df3['created_at_float'] = df3['time_created'].dt.hour + df3['time_created'].dt.minute/60 + df3['time_created'].dt.second/3600\n"
     ]
    }
   ],
   "source": [
    "df2 = feature_engineering(df)"
   ]
  },
  {
   "cell_type": "code",
   "execution_count": 19,
   "metadata": {},
   "outputs": [
    {
     "name": "stdout",
     "output_type": "stream",
     "text": [
      "Accuracy score of this model is\n",
      "\n",
      "0.9585\n",
      "\n",
      "Confusion Matrix of this model is\n",
      "\n",
      "[[3783   28]\n",
      " [ 138   51]]\n",
      "\n",
      "Log-Loss score of this model is\n",
      "\n",
      "0.3090738048665969\n",
      "\n",
      "AUC score of this model is\n",
      "\n",
      "0.6312470584315244\n"
     ]
    }
   ],
   "source": [
    "def testing_with_text(df2,n):\n",
    "    df3 = df2\n",
    "    text_tfidf_matrix = to_tfidf(df3,'text',1000)\n",
    "    col_name_lst = []\n",
    "    for n in range(text_tfidf_matrix.shape[1]):\n",
    "        col_name = f'text-TF-IDF-{n}'\n",
    "        df3[col_name] = text_tfidf_matrix[:, n]\n",
    "        col_name_lst.append(col_name)\n",
    "    data_training_set = df3[:16000]\n",
    "    data_test_set = df3[16000:]\n",
    "    y = data_training_set['spam_marketing']\n",
    "    X = data_training_set[['Docusign', 'onespan', 'signnow','adobe sign','listed_count', 'statuses_count','followers_count',\n",
    "          'favourites_count', 'friends_count','time_float_sin','time_float_cos', 'is_description_none']+col_name_lst]\n",
    "    print(\"Accuracy score of this model is\" + \"\\n\")\n",
    "    print(accuracy_score(y_test,y_predict))\n",
    "    print(\"\\n\" + \"Confusion Matrix of this model is\" + \"\\n\")\n",
    "    print(confusion_matrix(y_test,y_predict))\n",
    "    print(\"\\n\" + \"Log-Loss score of this model is\" + \"\\n\")\n",
    "    print(log_loss(y_test,y_pred))\n",
    "    print(\"\\n\" + \"AUC score of this model is\" + \"\\n\")\n",
    "    print(roc_auc_score(y_test,y_predict))"
   ]
  },
  {
   "cell_type": "markdown",
   "metadata": {},
   "source": [
    "Testing Random Forest for spam_marketing, up to 9000 post text features"
   ]
  },
  {
   "cell_type": "code",
   "execution_count": 26,
   "metadata": {},
   "outputs": [],
   "source": [
    "def testing_with_text(df2,k):\n",
    "    for n in range(1000,k,1000):\n",
    "        df3 = df2\n",
    "        text_tfidf_matrix = to_tfidf(df3,'text',n)\n",
    "        col_name_lst = []\n",
    "        for m in range(text_tfidf_matrix.shape[1]):\n",
    "            col_name = f'text-TF-IDF-{m}'\n",
    "            df3[col_name] = text_tfidf_matrix[:, m]\n",
    "            col_name_lst.append(col_name)\n",
    "        data_training_set = df3[:16000]\n",
    "        data_test_set = df3[16000:]\n",
    "        y = data_training_set['spam_marketing']\n",
    "        X = data_training_set[['Docusign', 'onespan', 'signnow','adobe sign','listed_count', 'statuses_count','followers_count',\n",
    "          'favourites_count', 'friends_count','time_float_sin','time_float_cos', 'is_description_none']+col_name_lst]\n",
    "        X_train, X_test, y_train, y_test = train_test_split(X, y, test_size=0.25)\n",
    "        model = RandomForestClassifier()\n",
    "        model.fit(X_train,y_train)\n",
    "        y_predict = model.predict(X_test)\n",
    "        y_pred = model.predict_proba(X_test)                \n",
    "        print(\"\\n\" + \"Result of \" + str(n) + \" text features\")\n",
    "        print(\"Accuracy score of this model is\" + \"\\n\")\n",
    "        print(accuracy_score(y_test,y_predict))\n",
    "        print(\"\\n\" + \"Confusion Matrix of this model is\" + \"\\n\")\n",
    "        print(confusion_matrix(y_test,y_predict))\n",
    "        print(\"\\n\" + \"Log-Loss score of this model is\" + \"\\n\")\n",
    "        print(log_loss(y_test,y_pred))\n",
    "        print(\"\\n\" + \"AUC score of this model is\" + \"\\n\")\n",
    "        print(roc_auc_score(y_test,y_predict))"
   ]
  },
  {
   "cell_type": "code",
   "execution_count": null,
   "metadata": {},
   "outputs": [
    {
     "name": "stderr",
     "output_type": "stream",
     "text": [
      "/home/daniel/anaconda3/lib/python3.6/site-packages/sklearn/ensemble/forest.py:246: FutureWarning: The default value of n_estimators will change from 10 in version 0.20 to 100 in 0.22.\n",
      "  \"10 in version 0.20 to 100 in 0.22.\", FutureWarning)\n"
     ]
    },
    {
     "name": "stdout",
     "output_type": "stream",
     "text": [
      "\n",
      "Result of 1000 text features\n",
      "Accuracy score of this model is\n",
      "\n",
      "0.961\n",
      "\n",
      "Confusion Matrix of this model is\n",
      "\n",
      "[[3787   26]\n",
      " [ 130   57]]\n",
      "\n",
      "Log-Loss score of this model is\n",
      "\n",
      "0.3688046525745117\n",
      "\n",
      "AUC score of this model is\n",
      "\n",
      "0.6489970281797004\n"
     ]
    },
    {
     "name": "stderr",
     "output_type": "stream",
     "text": [
      "/home/daniel/anaconda3/lib/python3.6/site-packages/sklearn/ensemble/forest.py:246: FutureWarning: The default value of n_estimators will change from 10 in version 0.20 to 100 in 0.22.\n",
      "  \"10 in version 0.20 to 100 in 0.22.\", FutureWarning)\n"
     ]
    },
    {
     "name": "stdout",
     "output_type": "stream",
     "text": [
      "\n",
      "Result of 2000 text features\n",
      "Accuracy score of this model is\n",
      "\n",
      "0.95975\n",
      "\n",
      "Confusion Matrix of this model is\n",
      "\n",
      "[[3783   27]\n",
      " [ 134   56]]\n",
      "\n",
      "Log-Loss score of this model is\n",
      "\n",
      "0.35174535269509977\n",
      "\n",
      "AUC score of this model is\n",
      "\n",
      "0.6438251139660174\n"
     ]
    },
    {
     "name": "stderr",
     "output_type": "stream",
     "text": [
      "/home/daniel/anaconda3/lib/python3.6/site-packages/sklearn/ensemble/forest.py:246: FutureWarning: The default value of n_estimators will change from 10 in version 0.20 to 100 in 0.22.\n",
      "  \"10 in version 0.20 to 100 in 0.22.\", FutureWarning)\n"
     ]
    },
    {
     "name": "stdout",
     "output_type": "stream",
     "text": [
      "\n",
      "Result of 3000 text features\n",
      "Accuracy score of this model is\n",
      "\n",
      "0.96475\n",
      "\n",
      "Confusion Matrix of this model is\n",
      "\n",
      "[[3804   21]\n",
      " [ 120   55]]\n",
      "\n",
      "Log-Loss score of this model is\n",
      "\n",
      "0.3096327765503017\n",
      "\n",
      "AUC score of this model is\n",
      "\n",
      "0.6543977591036414\n"
     ]
    },
    {
     "name": "stderr",
     "output_type": "stream",
     "text": [
      "/home/daniel/anaconda3/lib/python3.6/site-packages/sklearn/ensemble/forest.py:246: FutureWarning: The default value of n_estimators will change from 10 in version 0.20 to 100 in 0.22.\n",
      "  \"10 in version 0.20 to 100 in 0.22.\", FutureWarning)\n"
     ]
    },
    {
     "name": "stdout",
     "output_type": "stream",
     "text": [
      "\n",
      "Result of 4000 text features\n",
      "Accuracy score of this model is\n",
      "\n",
      "0.95675\n",
      "\n",
      "Confusion Matrix of this model is\n",
      "\n",
      "[[3771   26]\n",
      " [ 147   56]]\n",
      "\n",
      "Log-Loss score of this model is\n",
      "\n",
      "0.43261897504259683\n",
      "\n",
      "AUC score of this model is\n",
      "\n",
      "0.6345072788862351\n"
     ]
    },
    {
     "name": "stderr",
     "output_type": "stream",
     "text": [
      "/home/daniel/anaconda3/lib/python3.6/site-packages/sklearn/ensemble/forest.py:246: FutureWarning: The default value of n_estimators will change from 10 in version 0.20 to 100 in 0.22.\n",
      "  \"10 in version 0.20 to 100 in 0.22.\", FutureWarning)\n"
     ]
    },
    {
     "name": "stdout",
     "output_type": "stream",
     "text": [
      "\n",
      "Result of 5000 text features\n",
      "Accuracy score of this model is\n",
      "\n",
      "0.95925\n",
      "\n",
      "Confusion Matrix of this model is\n",
      "\n",
      "[[3790   27]\n",
      " [ 136   47]]\n",
      "\n",
      "Log-Loss score of this model is\n",
      "\n",
      "0.3416721491316184\n",
      "\n",
      "AUC score of this model is\n",
      "\n",
      "0.6248784915341348\n"
     ]
    },
    {
     "name": "stderr",
     "output_type": "stream",
     "text": [
      "/home/daniel/anaconda3/lib/python3.6/site-packages/sklearn/ensemble/forest.py:246: FutureWarning: The default value of n_estimators will change from 10 in version 0.20 to 100 in 0.22.\n",
      "  \"10 in version 0.20 to 100 in 0.22.\", FutureWarning)\n"
     ]
    },
    {
     "name": "stdout",
     "output_type": "stream",
     "text": [
      "\n",
      "Result of 6000 text features\n",
      "Accuracy score of this model is\n",
      "\n",
      "0.9585\n",
      "\n",
      "Confusion Matrix of this model is\n",
      "\n",
      "[[3793   20]\n",
      " [ 146   41]]\n",
      "\n",
      "Log-Loss score of this model is\n",
      "\n",
      "0.4325030889022369\n",
      "\n",
      "AUC score of this model is\n",
      "\n",
      "0.6070030615779679\n"
     ]
    }
   ],
   "source": [
    "testing_with_text(df2,10000)"
   ]
  },
  {
   "cell_type": "code",
   "execution_count": 28,
   "metadata": {},
   "outputs": [
    {
     "data": {
      "text/plain": [
       "Index(['text', 'spam', 'spam_marketing', 'spam_hijack', 'spam_corporate',\n",
       "       'spam_bot', 'spam_known', 'spam_own', 'Docusign', 'onespan',\n",
       "       ...\n",
       "       'text-TF-IDF-3990', 'text-TF-IDF-3991', 'text-TF-IDF-3992',\n",
       "       'text-TF-IDF-3993', 'text-TF-IDF-3994', 'text-TF-IDF-3995',\n",
       "       'text-TF-IDF-3996', 'text-TF-IDF-3997', 'text-TF-IDF-3998',\n",
       "       'text-TF-IDF-3999'],\n",
       "      dtype='object', length=4026)"
      ]
     },
     "execution_count": 28,
     "metadata": {},
     "output_type": "execute_result"
    }
   ],
   "source": [
    "df3.columns"
   ]
  },
  {
   "cell_type": "code",
   "execution_count": null,
   "metadata": {},
   "outputs": [],
   "source": []
  }
 ],
 "metadata": {
  "kernelspec": {
   "display_name": "Python 3",
   "language": "python",
   "name": "python3"
  },
  "language_info": {
   "codemirror_mode": {
    "name": "ipython",
    "version": 3
   },
   "file_extension": ".py",
   "mimetype": "text/x-python",
   "name": "python",
   "nbconvert_exporter": "python",
   "pygments_lexer": "ipython3",
   "version": "3.6.8"
  }
 },
 "nbformat": 4,
 "nbformat_minor": 2
}
