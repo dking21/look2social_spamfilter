{
 "cells": [
  {
   "cell_type": "markdown",
   "metadata": {},
   "source": [
    "# Spam Filter for Look2Social"
   ]
  },
  {
   "cell_type": "markdown",
   "metadata": {},
   "source": [
    "## ~03/10\n",
    "\n",
    "* Finished Collecting Data\n",
    "* Communicated with Look2Social team: Figured out the goal of the program\n",
    "* Communicated with instructors: Adjusted my approach to the project"
   ]
  },
  {
   "cell_type": "markdown",
   "metadata": {},
   "source": [
    "## 03/14 ~ : Data Cleaning"
   ]
  },
  {
   "cell_type": "markdown",
   "metadata": {},
   "source": [
    "### 03/14 - Overview of data\n",
    "(screenshot of original data)\n",
    "* 20,000 rows of data - not labeled for spam\n",
    "* Six criteria for spam: \n",
    "\n",
    "    1) Marketing Focus (by social media marketing group)\n",
    "    \n",
    "    2) Bot Generated\n",
    "    \n",
    "    3) Known Spammer\n",
    "    \n",
    "    4) Corporate Posted\n",
    "    \n",
    "    5) Own Post\n",
    "    \n",
    "    6) Hijacking (just use tag, different content)"
   ]
  },
  {
   "cell_type": "markdown",
   "metadata": {},
   "source": [
    "\n",
    "Bot Generated - can be labeled by either pattern of post (\"just closed a deal...\") and url\n",
    "\n",
    "Corporate Posted - User input account name\n",
    "\n",
    "Known spammer, Own Post - User input account name\n",
    "\n",
    "Hijacking, Marketing - Need some eyeballing."
   ]
  },
  {
   "cell_type": "code",
   "execution_count": 1,
   "metadata": {},
   "outputs": [],
   "source": [
    "import pandas as pd\n",
    "import numpy as np"
   ]
  },
  {
   "cell_type": "code",
   "execution_count": null,
   "metadata": {},
   "outputs": [],
   "source": []
  },
  {
   "cell_type": "markdown",
   "metadata": {},
   "source": [
    "### Suggestion from Miles\n",
    "\n",
    "(pic of Miles)\n",
    "\n",
    "\"Use Machine Learning form early phase! Use it for labeling!\" "
   ]
  },
  {
   "cell_type": "markdown",
   "metadata": {},
   "source": [
    "### Approach\n",
    "1. create 7 columns for spam - one column per each criteria \n",
    "    one for final spam column that's default value is 0 but become 1 based on user declaration of spam\n",
    "\n",
    "2. label bot generated and corporate generated first by their pattern\n",
    "\n",
    "3. seperate out the rows with no label. (~7000 rows)\n",
    "\n",
    "4. label first dozen~hundred for hijacking and marketing\n",
    "\n",
    "5. use machine learning (Naive Bayes / Logistic Regression / Random Forest) to label, set up threshold high \n",
    "\n",
    "6. eyeball rest of 'em"
   ]
  },
  {
   "cell_type": "markdown",
   "metadata": {},
   "source": [
    "### 03/17 - Steps before labeling data\n",
    "Created new columns and index"
   ]
  },
  {
   "cell_type": "code",
   "execution_count": 2,
   "metadata": {},
   "outputs": [],
   "source": [
    "df = pd.read_excel('data/data_prepping_zeros_index.xlsx')"
   ]
  },
  {
   "cell_type": "code",
   "execution_count": 3,
   "metadata": {},
   "outputs": [
    {
     "data": {
      "text/html": [
       "<div>\n",
       "<style scoped>\n",
       "    .dataframe tbody tr th:only-of-type {\n",
       "        vertical-align: middle;\n",
       "    }\n",
       "\n",
       "    .dataframe tbody tr th {\n",
       "        vertical-align: top;\n",
       "    }\n",
       "\n",
       "    .dataframe thead th {\n",
       "        text-align: right;\n",
       "    }\n",
       "</style>\n",
       "<table border=\"1\" class=\"dataframe\">\n",
       "  <thead>\n",
       "    <tr style=\"text-align: right;\">\n",
       "      <th></th>\n",
       "      <th>index</th>\n",
       "      <th>text</th>\n",
       "      <th>retweet_count</th>\n",
       "      <th>favorite_count</th>\n",
       "      <th>spam</th>\n",
       "      <th>spam_marketing</th>\n",
       "      <th>spam_hijack</th>\n",
       "      <th>spam_corporate</th>\n",
       "      <th>spam_bot</th>\n",
       "      <th>spam_known</th>\n",
       "      <th>...</th>\n",
       "      <th>place_type</th>\n",
       "      <th>full_name</th>\n",
       "      <th>place_name</th>\n",
       "      <th>place_id</th>\n",
       "      <th>place_lat</th>\n",
       "      <th>place_lon</th>\n",
       "      <th>lat</th>\n",
       "      <th>lon</th>\n",
       "      <th>expanded_url</th>\n",
       "      <th>url</th>\n",
       "    </tr>\n",
       "  </thead>\n",
       "  <tbody>\n",
       "    <tr>\n",
       "      <th>0</th>\n",
       "      <td>0</td>\n",
       "      <td>just closed a deal in 27 hours using #AdobeSig...</td>\n",
       "      <td>NaN</td>\n",
       "      <td>NaN</td>\n",
       "      <td>0</td>\n",
       "      <td>0</td>\n",
       "      <td>0</td>\n",
       "      <td>0</td>\n",
       "      <td>0</td>\n",
       "      <td>0</td>\n",
       "      <td>...</td>\n",
       "      <td>NaN</td>\n",
       "      <td>NaN</td>\n",
       "      <td>NaN</td>\n",
       "      <td>NaN</td>\n",
       "      <td>NaN</td>\n",
       "      <td>NaN</td>\n",
       "      <td>NaN</td>\n",
       "      <td>NaN</td>\n",
       "      <td>https://acrobat.adobe.com</td>\n",
       "      <td>https://t.co/Fe0YfarG31</td>\n",
       "    </tr>\n",
       "    <tr>\n",
       "      <th>1</th>\n",
       "      <td>1</td>\n",
       "      <td>just closed a deal in 2 days using #AdobeSign ...</td>\n",
       "      <td>NaN</td>\n",
       "      <td>NaN</td>\n",
       "      <td>0</td>\n",
       "      <td>0</td>\n",
       "      <td>0</td>\n",
       "      <td>0</td>\n",
       "      <td>0</td>\n",
       "      <td>0</td>\n",
       "      <td>...</td>\n",
       "      <td>NaN</td>\n",
       "      <td>NaN</td>\n",
       "      <td>NaN</td>\n",
       "      <td>NaN</td>\n",
       "      <td>NaN</td>\n",
       "      <td>NaN</td>\n",
       "      <td>NaN</td>\n",
       "      <td>NaN</td>\n",
       "      <td>https://acrobat.adobe.com</td>\n",
       "      <td>https://t.co/TTlCvaDE0V</td>\n",
       "    </tr>\n",
       "    <tr>\n",
       "      <th>2</th>\n",
       "      <td>2</td>\n",
       "      <td>just closed a deal in 2 hours using #AdobeSign...</td>\n",
       "      <td>NaN</td>\n",
       "      <td>NaN</td>\n",
       "      <td>0</td>\n",
       "      <td>0</td>\n",
       "      <td>0</td>\n",
       "      <td>0</td>\n",
       "      <td>0</td>\n",
       "      <td>0</td>\n",
       "      <td>...</td>\n",
       "      <td>NaN</td>\n",
       "      <td>NaN</td>\n",
       "      <td>NaN</td>\n",
       "      <td>NaN</td>\n",
       "      <td>NaN</td>\n",
       "      <td>NaN</td>\n",
       "      <td>NaN</td>\n",
       "      <td>NaN</td>\n",
       "      <td>https://acrobat.adobe.com</td>\n",
       "      <td>https://t.co/okmHDeM9bZ</td>\n",
       "    </tr>\n",
       "    <tr>\n",
       "      <th>3</th>\n",
       "      <td>3</td>\n",
       "      <td>just closed a deal in 26 hours using #AdobeSig...</td>\n",
       "      <td>NaN</td>\n",
       "      <td>NaN</td>\n",
       "      <td>0</td>\n",
       "      <td>0</td>\n",
       "      <td>0</td>\n",
       "      <td>0</td>\n",
       "      <td>0</td>\n",
       "      <td>0</td>\n",
       "      <td>...</td>\n",
       "      <td>NaN</td>\n",
       "      <td>NaN</td>\n",
       "      <td>NaN</td>\n",
       "      <td>NaN</td>\n",
       "      <td>NaN</td>\n",
       "      <td>NaN</td>\n",
       "      <td>NaN</td>\n",
       "      <td>NaN</td>\n",
       "      <td>https://acrobat.adobe.com</td>\n",
       "      <td>https://t.co/AAhUGDLZxH</td>\n",
       "    </tr>\n",
       "    <tr>\n",
       "      <th>4</th>\n",
       "      <td>4</td>\n",
       "      <td>just closed a deal in 6 days using #AdobeSign ...</td>\n",
       "      <td>NaN</td>\n",
       "      <td>NaN</td>\n",
       "      <td>0</td>\n",
       "      <td>0</td>\n",
       "      <td>0</td>\n",
       "      <td>0</td>\n",
       "      <td>0</td>\n",
       "      <td>0</td>\n",
       "      <td>...</td>\n",
       "      <td>NaN</td>\n",
       "      <td>NaN</td>\n",
       "      <td>NaN</td>\n",
       "      <td>NaN</td>\n",
       "      <td>NaN</td>\n",
       "      <td>NaN</td>\n",
       "      <td>NaN</td>\n",
       "      <td>NaN</td>\n",
       "      <td>https://acrobat.adobe.com</td>\n",
       "      <td>https://t.co/Oi57q6jdXP</td>\n",
       "    </tr>\n",
       "  </tbody>\n",
       "</table>\n",
       "<p>5 rows × 55 columns</p>\n",
       "</div>"
      ],
      "text/plain": [
       "   index                                               text  retweet_count  \\\n",
       "0      0  just closed a deal in 27 hours using #AdobeSig...            NaN   \n",
       "1      1  just closed a deal in 2 days using #AdobeSign ...            NaN   \n",
       "2      2  just closed a deal in 2 hours using #AdobeSign...            NaN   \n",
       "3      3  just closed a deal in 26 hours using #AdobeSig...            NaN   \n",
       "4      4  just closed a deal in 6 days using #AdobeSign ...            NaN   \n",
       "\n",
       "   favorite_count  spam  spam_marketing  spam_hijack  spam_corporate  \\\n",
       "0             NaN     0               0            0               0   \n",
       "1             NaN     0               0            0               0   \n",
       "2             NaN     0               0            0               0   \n",
       "3             NaN     0               0            0               0   \n",
       "4             NaN     0               0            0               0   \n",
       "\n",
       "   spam_bot  spam_known  ...  place_type  full_name  place_name  place_id  \\\n",
       "0         0           0  ...         NaN        NaN         NaN       NaN   \n",
       "1         0           0  ...         NaN        NaN         NaN       NaN   \n",
       "2         0           0  ...         NaN        NaN         NaN       NaN   \n",
       "3         0           0  ...         NaN        NaN         NaN       NaN   \n",
       "4         0           0  ...         NaN        NaN         NaN       NaN   \n",
       "\n",
       "   place_lat  place_lon  lat  lon               expanded_url  \\\n",
       "0        NaN        NaN  NaN  NaN  https://acrobat.adobe.com   \n",
       "1        NaN        NaN  NaN  NaN  https://acrobat.adobe.com   \n",
       "2        NaN        NaN  NaN  NaN  https://acrobat.adobe.com   \n",
       "3        NaN        NaN  NaN  NaN  https://acrobat.adobe.com   \n",
       "4        NaN        NaN  NaN  NaN  https://acrobat.adobe.com   \n",
       "\n",
       "                       url  \n",
       "0  https://t.co/Fe0YfarG31  \n",
       "1  https://t.co/TTlCvaDE0V  \n",
       "2  https://t.co/okmHDeM9bZ  \n",
       "3  https://t.co/AAhUGDLZxH  \n",
       "4  https://t.co/Oi57q6jdXP  \n",
       "\n",
       "[5 rows x 55 columns]"
      ]
     },
     "execution_count": 3,
     "metadata": {},
     "output_type": "execute_result"
    }
   ],
   "source": [
    "df.head()"
   ]
  },
  {
   "cell_type": "markdown",
   "metadata": {},
   "source": [
    "1. Corporate post\n",
    "\n",
    "Criteria for corporate = client(DocuSign) and its competitors (OneSpan, SignNow, Adobe Sign)\n",
    "\n",
    "Explored 'screen_name' column and came up with following list of corporate account name:"
   ]
  },
  {
   "cell_type": "code",
   "execution_count": 4,
   "metadata": {},
   "outputs": [],
   "source": [
    "adobe = ['Acrobat','Acrobat_GU','adobe_mabhatia','adobe1234567','AdobeCare','AdobeDocCloud','AdobeExpCloud','AdobeGov','adobemax','AdobeNews','AdobePartner','adobesignstx','AdobeStarProps','AdobeUK']\n",
    "onespan = ['atOneSpan','OneSpan','OneSpanSign']\n",
    "docusign = ['DocuSign','DocuSignAPAC','DocuSignAPI','DocuSignIMPACT','DocuSignUK','DocuSignING']\n",
    "signnow = ['signnow']"
   ]
  },
  {
   "cell_type": "markdown",
   "metadata": {},
   "source": [
    "From this observation, I found that it would be possible to label for spam_corporate based on that whether screen name contains certain company name or not (would be more efficient)"
   ]
  },
  {
   "cell_type": "markdown",
   "metadata": {},
   "source": [
    "* bonus found: Adobe leverages its branch companies\n",
    "* Q: Do we need multiple accounts or one accoun for social media marketing?"
   ]
  },
  {
   "cell_type": "code",
   "execution_count": 5,
   "metadata": {},
   "outputs": [],
   "source": [
    "combined_lst = adobe+onespan+docusign+signnow"
   ]
  },
  {
   "cell_type": "code",
   "execution_count": 6,
   "metadata": {},
   "outputs": [],
   "source": [
    "#df[df['spam_']]"
   ]
  },
  {
   "cell_type": "code",
   "execution_count": 7,
   "metadata": {},
   "outputs": [],
   "source": [
    "#df.loc[df['screen_name'] in (combined_lst), 'spam_corporate'] = 1"
   ]
  },
  {
   "cell_type": "code",
   "execution_count": 8,
   "metadata": {},
   "outputs": [],
   "source": [
    "#df.loc[df['c1'] == 'Value', 'c2'] = 10"
   ]
  },
  {
   "cell_type": "code",
   "execution_count": 9,
   "metadata": {},
   "outputs": [
    {
     "name": "stderr",
     "output_type": "stream",
     "text": [
      "/home/daniel/anaconda3/lib/python3.6/site-packages/ipykernel_launcher.py:1: SettingWithCopyWarning: \n",
      "A value is trying to be set on a copy of a slice from a DataFrame\n",
      "\n",
      "See the caveats in the documentation: http://pandas.pydata.org/pandas-docs/stable/indexing.html#indexing-view-versus-copy\n",
      "  \"\"\"Entry point for launching an IPython kernel.\n"
     ]
    }
   ],
   "source": [
    "df['spam_corporate'][df.screen_name.isin(combined_lst)] = 1"
   ]
  },
  {
   "cell_type": "markdown",
   "metadata": {},
   "source": [
    "2. Bot generated post"
   ]
  },
  {
   "cell_type": "markdown",
   "metadata": {},
   "source": [
    "Bot generated post for this case is by AdobeSign, in format of \"Just closed a deal in...\" / \"Just signed an agreement in..\" / \"just connected my...\". its expanded url column value is always adobe sign. \n",
    "\n",
    "For right now, we can use the assumption that if expanded url column value is link to AdobeSign, then it is bot generated post. However, it would be possible to process text and compare its vector (ex: use clustering) to capture the group of bot generated post with its distinct pattern (later task to elaborate the work)\n",
    "\n",
    "Considering time restriction, I will proceed with this hypothesis."
   ]
  },
  {
   "cell_type": "code",
   "execution_count": 17,
   "metadata": {},
   "outputs": [
    {
     "name": "stderr",
     "output_type": "stream",
     "text": [
      "/home/daniel/anaconda3/lib/python3.6/site-packages/ipykernel_launcher.py:1: SettingWithCopyWarning: \n",
      "A value is trying to be set on a copy of a slice from a DataFrame\n",
      "\n",
      "See the caveats in the documentation: http://pandas.pydata.org/pandas-docs/stable/indexing.html#indexing-view-versus-copy\n",
      "  \"\"\"Entry point for launching an IPython kernel.\n"
     ]
    }
   ],
   "source": [
    "df['spam_bot'][df.expanded_url == 'https://acrobat.adobe.com'] = 1"
   ]
  },
  {
   "cell_type": "code",
   "execution_count": 20,
   "metadata": {},
   "outputs": [
    {
     "data": {
      "text/html": [
       "<div>\n",
       "<style scoped>\n",
       "    .dataframe tbody tr th:only-of-type {\n",
       "        vertical-align: middle;\n",
       "    }\n",
       "\n",
       "    .dataframe tbody tr th {\n",
       "        vertical-align: top;\n",
       "    }\n",
       "\n",
       "    .dataframe thead th {\n",
       "        text-align: right;\n",
       "    }\n",
       "</style>\n",
       "<table border=\"1\" class=\"dataframe\">\n",
       "  <thead>\n",
       "    <tr style=\"text-align: right;\">\n",
       "      <th></th>\n",
       "      <th>index</th>\n",
       "      <th>text</th>\n",
       "      <th>retweet_count</th>\n",
       "      <th>favorite_count</th>\n",
       "      <th>spam</th>\n",
       "      <th>spam_marketing</th>\n",
       "      <th>spam_hijack</th>\n",
       "      <th>spam_corporate</th>\n",
       "      <th>spam_bot</th>\n",
       "      <th>spam_known</th>\n",
       "      <th>...</th>\n",
       "      <th>place_type</th>\n",
       "      <th>full_name</th>\n",
       "      <th>place_name</th>\n",
       "      <th>place_id</th>\n",
       "      <th>place_lat</th>\n",
       "      <th>place_lon</th>\n",
       "      <th>lat</th>\n",
       "      <th>lon</th>\n",
       "      <th>expanded_url</th>\n",
       "      <th>url</th>\n",
       "    </tr>\n",
       "  </thead>\n",
       "  <tbody>\n",
       "    <tr>\n",
       "      <th>0</th>\n",
       "      <td>0</td>\n",
       "      <td>just closed a deal in 27 hours using #AdobeSig...</td>\n",
       "      <td>NaN</td>\n",
       "      <td>NaN</td>\n",
       "      <td>0</td>\n",
       "      <td>0</td>\n",
       "      <td>0</td>\n",
       "      <td>0</td>\n",
       "      <td>1</td>\n",
       "      <td>0</td>\n",
       "      <td>...</td>\n",
       "      <td>NaN</td>\n",
       "      <td>NaN</td>\n",
       "      <td>NaN</td>\n",
       "      <td>NaN</td>\n",
       "      <td>NaN</td>\n",
       "      <td>NaN</td>\n",
       "      <td>NaN</td>\n",
       "      <td>NaN</td>\n",
       "      <td>https://acrobat.adobe.com</td>\n",
       "      <td>https://t.co/Fe0YfarG31</td>\n",
       "    </tr>\n",
       "    <tr>\n",
       "      <th>1</th>\n",
       "      <td>1</td>\n",
       "      <td>just closed a deal in 2 days using #AdobeSign ...</td>\n",
       "      <td>NaN</td>\n",
       "      <td>NaN</td>\n",
       "      <td>0</td>\n",
       "      <td>0</td>\n",
       "      <td>0</td>\n",
       "      <td>0</td>\n",
       "      <td>1</td>\n",
       "      <td>0</td>\n",
       "      <td>...</td>\n",
       "      <td>NaN</td>\n",
       "      <td>NaN</td>\n",
       "      <td>NaN</td>\n",
       "      <td>NaN</td>\n",
       "      <td>NaN</td>\n",
       "      <td>NaN</td>\n",
       "      <td>NaN</td>\n",
       "      <td>NaN</td>\n",
       "      <td>https://acrobat.adobe.com</td>\n",
       "      <td>https://t.co/TTlCvaDE0V</td>\n",
       "    </tr>\n",
       "    <tr>\n",
       "      <th>2</th>\n",
       "      <td>2</td>\n",
       "      <td>just closed a deal in 2 hours using #AdobeSign...</td>\n",
       "      <td>NaN</td>\n",
       "      <td>NaN</td>\n",
       "      <td>0</td>\n",
       "      <td>0</td>\n",
       "      <td>0</td>\n",
       "      <td>0</td>\n",
       "      <td>1</td>\n",
       "      <td>0</td>\n",
       "      <td>...</td>\n",
       "      <td>NaN</td>\n",
       "      <td>NaN</td>\n",
       "      <td>NaN</td>\n",
       "      <td>NaN</td>\n",
       "      <td>NaN</td>\n",
       "      <td>NaN</td>\n",
       "      <td>NaN</td>\n",
       "      <td>NaN</td>\n",
       "      <td>https://acrobat.adobe.com</td>\n",
       "      <td>https://t.co/okmHDeM9bZ</td>\n",
       "    </tr>\n",
       "    <tr>\n",
       "      <th>3</th>\n",
       "      <td>3</td>\n",
       "      <td>just closed a deal in 26 hours using #AdobeSig...</td>\n",
       "      <td>NaN</td>\n",
       "      <td>NaN</td>\n",
       "      <td>0</td>\n",
       "      <td>0</td>\n",
       "      <td>0</td>\n",
       "      <td>0</td>\n",
       "      <td>1</td>\n",
       "      <td>0</td>\n",
       "      <td>...</td>\n",
       "      <td>NaN</td>\n",
       "      <td>NaN</td>\n",
       "      <td>NaN</td>\n",
       "      <td>NaN</td>\n",
       "      <td>NaN</td>\n",
       "      <td>NaN</td>\n",
       "      <td>NaN</td>\n",
       "      <td>NaN</td>\n",
       "      <td>https://acrobat.adobe.com</td>\n",
       "      <td>https://t.co/AAhUGDLZxH</td>\n",
       "    </tr>\n",
       "    <tr>\n",
       "      <th>4</th>\n",
       "      <td>4</td>\n",
       "      <td>just closed a deal in 6 days using #AdobeSign ...</td>\n",
       "      <td>NaN</td>\n",
       "      <td>NaN</td>\n",
       "      <td>0</td>\n",
       "      <td>0</td>\n",
       "      <td>0</td>\n",
       "      <td>0</td>\n",
       "      <td>1</td>\n",
       "      <td>0</td>\n",
       "      <td>...</td>\n",
       "      <td>NaN</td>\n",
       "      <td>NaN</td>\n",
       "      <td>NaN</td>\n",
       "      <td>NaN</td>\n",
       "      <td>NaN</td>\n",
       "      <td>NaN</td>\n",
       "      <td>NaN</td>\n",
       "      <td>NaN</td>\n",
       "      <td>https://acrobat.adobe.com</td>\n",
       "      <td>https://t.co/Oi57q6jdXP</td>\n",
       "    </tr>\n",
       "  </tbody>\n",
       "</table>\n",
       "<p>5 rows × 55 columns</p>\n",
       "</div>"
      ],
      "text/plain": [
       "   index                                               text  retweet_count  \\\n",
       "0      0  just closed a deal in 27 hours using #AdobeSig...            NaN   \n",
       "1      1  just closed a deal in 2 days using #AdobeSign ...            NaN   \n",
       "2      2  just closed a deal in 2 hours using #AdobeSign...            NaN   \n",
       "3      3  just closed a deal in 26 hours using #AdobeSig...            NaN   \n",
       "4      4  just closed a deal in 6 days using #AdobeSign ...            NaN   \n",
       "\n",
       "   favorite_count  spam  spam_marketing  spam_hijack  spam_corporate  \\\n",
       "0             NaN     0               0            0               0   \n",
       "1             NaN     0               0            0               0   \n",
       "2             NaN     0               0            0               0   \n",
       "3             NaN     0               0            0               0   \n",
       "4             NaN     0               0            0               0   \n",
       "\n",
       "   spam_bot  spam_known  ...  place_type  full_name  place_name  place_id  \\\n",
       "0         1           0  ...         NaN        NaN         NaN       NaN   \n",
       "1         1           0  ...         NaN        NaN         NaN       NaN   \n",
       "2         1           0  ...         NaN        NaN         NaN       NaN   \n",
       "3         1           0  ...         NaN        NaN         NaN       NaN   \n",
       "4         1           0  ...         NaN        NaN         NaN       NaN   \n",
       "\n",
       "   place_lat  place_lon  lat  lon               expanded_url  \\\n",
       "0        NaN        NaN  NaN  NaN  https://acrobat.adobe.com   \n",
       "1        NaN        NaN  NaN  NaN  https://acrobat.adobe.com   \n",
       "2        NaN        NaN  NaN  NaN  https://acrobat.adobe.com   \n",
       "3        NaN        NaN  NaN  NaN  https://acrobat.adobe.com   \n",
       "4        NaN        NaN  NaN  NaN  https://acrobat.adobe.com   \n",
       "\n",
       "                       url  \n",
       "0  https://t.co/Fe0YfarG31  \n",
       "1  https://t.co/TTlCvaDE0V  \n",
       "2  https://t.co/okmHDeM9bZ  \n",
       "3  https://t.co/AAhUGDLZxH  \n",
       "4  https://t.co/Oi57q6jdXP  \n",
       "\n",
       "[5 rows x 55 columns]"
      ]
     },
     "execution_count": 20,
     "metadata": {},
     "output_type": "execute_result"
    }
   ],
   "source": [
    "df.head()"
   ]
  },
  {
   "cell_type": "markdown",
   "metadata": {},
   "source": [
    "Known spammer, Own Post spam would be labeled with similar method like below:"
   ]
  },
  {
   "cell_type": "raw",
   "metadata": {},
   "source": [
    "x = input(\"Type in target user name, seperate it by comma without space: \")\n",
    "user_input_lst = x.split(',')\n",
    "df['spam_known'][df.screen_name.isin(user_input_lst)] = 1\n",
    "df['spam_own'][df.screen_name.isin(user_input_lst)] = 1"
   ]
  },
  {
   "cell_type": "code",
   "execution_count": null,
   "metadata": {},
   "outputs": [],
   "source": [
    "x = input(\"Type in target user name: \")"
   ]
  },
  {
   "cell_type": "code",
   "execution_count": 32,
   "metadata": {},
   "outputs": [
    {
     "data": {
      "text/plain": [
       "Index(['index', 'text', 'retweet_count', 'favorite_count', 'spam',\n",
       "       'spam_marketing', 'spam_hijack', 'spam_corporate', 'spam_bot',\n",
       "       'spam_known', 'spam_own', 'Docusign', 'onespan', 'signnow',\n",
       "       'adobe sign', 'favorited', 'truncated', 'id_str',\n",
       "       'in_reply_to_screen_name', 'source', 'retweeted', 'created_at',\n",
       "       'in_reply_to_status_id_str', 'in_reply_to_user_id_str', 'lang',\n",
       "       'listed_count', 'verified', 'location', 'user_id_str', 'description',\n",
       "       'geo_enabled', 'user_created_at', 'statuses_count', 'followers_count',\n",
       "       'favourites_count', 'protected', 'user_url', 'name', 'time_zone',\n",
       "       'user_lang', 'utc_offset', 'friends_count', 'screen_name',\n",
       "       'country_code', 'country', 'place_type', 'full_name', 'place_name',\n",
       "       'place_id', 'place_lat', 'place_lon', 'lat', 'lon', 'expanded_url',\n",
       "       'url'],\n",
       "      dtype='object')"
      ]
     },
     "execution_count": 32,
     "metadata": {},
     "output_type": "execute_result"
    }
   ],
   "source": [
    "df.columns"
   ]
  },
  {
   "cell_type": "markdown",
   "metadata": {},
   "source": [
    "And... finally eyeball time.\n",
    "Let's seperate out the rows that none of spam categories value is 1."
   ]
  },
  {
   "cell_type": "code",
   "execution_count": 34,
   "metadata": {},
   "outputs": [
    {
     "ename": "ValueError",
     "evalue": "The truth value of a Series is ambiguous. Use a.empty, a.bool(), a.item(), a.any() or a.all().",
     "output_type": "error",
     "traceback": [
      "\u001b[0;31m---------------------------------------------------------------------------\u001b[0m",
      "\u001b[0;31mValueError\u001b[0m                                Traceback (most recent call last)",
      "\u001b[0;32m<ipython-input-34-c3e827c23457>\u001b[0m in \u001b[0;36m<module>\u001b[0;34m\u001b[0m\n\u001b[0;32m----> 1\u001b[0;31m \u001b[0mdf\u001b[0m\u001b[0;34m.\u001b[0m\u001b[0mloc\u001b[0m\u001b[0;34m[\u001b[0m\u001b[0mdf\u001b[0m\u001b[0;34m[\u001b[0m\u001b[0;34m'spam_bot'\u001b[0m\u001b[0;34m]\u001b[0m \u001b[0;34m==\u001b[0m \u001b[0;36m1\u001b[0m \u001b[0;34m|\u001b[0m \u001b[0mdf\u001b[0m\u001b[0;34m[\u001b[0m\u001b[0;34m'spam_corporate'\u001b[0m\u001b[0;34m]\u001b[0m \u001b[0;34m==\u001b[0m \u001b[0;36m1\u001b[0m\u001b[0;34m]\u001b[0m\u001b[0;34m\u001b[0m\u001b[0;34m\u001b[0m\u001b[0m\n\u001b[0m",
      "\u001b[0;32m~/anaconda3/lib/python3.6/site-packages/pandas/core/generic.py\u001b[0m in \u001b[0;36m__nonzero__\u001b[0;34m(self)\u001b[0m\n\u001b[1;32m   1476\u001b[0m         raise ValueError(\"The truth value of a {0} is ambiguous. \"\n\u001b[1;32m   1477\u001b[0m                          \u001b[0;34m\"Use a.empty, a.bool(), a.item(), a.any() or a.all().\"\u001b[0m\u001b[0;34m\u001b[0m\u001b[0;34m\u001b[0m\u001b[0m\n\u001b[0;32m-> 1478\u001b[0;31m                          .format(self.__class__.__name__))\n\u001b[0m\u001b[1;32m   1479\u001b[0m \u001b[0;34m\u001b[0m\u001b[0m\n\u001b[1;32m   1480\u001b[0m     \u001b[0m__bool__\u001b[0m \u001b[0;34m=\u001b[0m \u001b[0m__nonzero__\u001b[0m\u001b[0;34m\u001b[0m\u001b[0;34m\u001b[0m\u001b[0m\n",
      "\u001b[0;31mValueError\u001b[0m: The truth value of a Series is ambiguous. Use a.empty, a.bool(), a.item(), a.any() or a.all()."
     ]
    }
   ],
   "source": [
    "df.loc[df['spam_bot'] == 1 | df['spam_corporate'] == 1]"
   ]
  },
  {
   "cell_type": "code",
   "execution_count": null,
   "metadata": {},
   "outputs": [],
   "source": []
  }
 ],
 "metadata": {
  "kernelspec": {
   "display_name": "Python 3",
   "language": "python",
   "name": "python3"
  },
  "language_info": {
   "codemirror_mode": {
    "name": "ipython",
    "version": 3
   },
   "file_extension": ".py",
   "mimetype": "text/x-python",
   "name": "python",
   "nbconvert_exporter": "python",
   "pygments_lexer": "ipython3",
   "version": "3.6.8"
  }
 },
 "nbformat": 4,
 "nbformat_minor": 2
}
