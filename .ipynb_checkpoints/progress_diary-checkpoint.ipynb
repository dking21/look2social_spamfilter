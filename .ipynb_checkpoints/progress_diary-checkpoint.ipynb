{
 "cells": [
  {
   "cell_type": "markdown",
   "metadata": {},
   "source": [
    "# Spam Filter for Look2Social"
   ]
  },
  {
   "cell_type": "markdown",
   "metadata": {},
   "source": [
    "## ~03/10\n",
    "\n",
    "* Finished Collecting Data\n",
    "* Communicated with Look2Social team: Figured out the goal of the program\n",
    "* Communicated with instructors: Adjusted my approach to the project"
   ]
  },
  {
   "cell_type": "markdown",
   "metadata": {},
   "source": [
    "## 03/14 ~ : Data Cleaning"
   ]
  },
  {
   "cell_type": "markdown",
   "metadata": {},
   "source": [
    "### 03/14 - Overview of data\n",
    "(screenshot of original data)\n",
    "* 20,000 rows of data - not labeled for spam\n",
    "* Six criteria for spam: \n",
    "\n",
    "    1) Marketing Focus (by social media marketing group)\n",
    "    \n",
    "    2) Bot Generated\n",
    "    \n",
    "    3) Known Spammer\n",
    "    \n",
    "    4) Corporate Posted\n",
    "    \n",
    "    5) Own Post\n",
    "    \n",
    "    6) Hijacking (just use tag, different content)"
   ]
  },
  {
   "cell_type": "markdown",
   "metadata": {},
   "source": [
    "\n",
    "Bot Generated - can be labeled by either pattern of post (\"just closed a deal...\") and url\n",
    "\n",
    "Corporate Posted - User input account name\n",
    "\n",
    "Known spammer, Own Post - User input account name\n",
    "\n",
    "Hijacking, Marketing - Need some eyeballing."
   ]
  },
  {
   "cell_type": "code",
   "execution_count": 1,
   "metadata": {},
   "outputs": [],
   "source": [
    "import pandas as pd\n",
    "import numpy as np"
   ]
  },
  {
   "cell_type": "code",
   "execution_count": null,
   "metadata": {},
   "outputs": [],
   "source": []
  },
  {
   "cell_type": "markdown",
   "metadata": {},
   "source": [
    "### Suggestion from Miles\n",
    "\n",
    "(pic of Miles)\n",
    "\n",
    "\"Use Machine Learning form early phase! Use it for labeling!\" "
   ]
  },
  {
   "cell_type": "markdown",
   "metadata": {},
   "source": [
    "### Approach\n",
    "1. create 7 columns for spam - one column per each criteria \n",
    "    one for final spam column that's default value is 0 but become 1 based on user declaration of spam\n",
    "\n",
    "2. label bot generated and corporate generated first by their pattern\n",
    "\n",
    "3. seperate out the rows with no label. (~7000 rows)\n",
    "\n",
    "4. label first dozen~hundred for hijacking and marketing\n",
    "\n",
    "5. use machine learning (Naive Bayes / Logistic Regression / Random Forest) to label, set up threshold high \n",
    "\n",
    "6. eyeball rest of 'em"
   ]
  },
  {
   "cell_type": "markdown",
   "metadata": {},
   "source": [
    "### 03/17 - Steps before labeling data\n",
    "Created new columns and index"
   ]
  },
  {
   "cell_type": "code",
   "execution_count": 2,
   "metadata": {},
   "outputs": [],
   "source": [
    "df = pd.read_excel('data/data_prepping_zeros_index.xlsx')"
   ]
  },
  {
   "cell_type": "code",
   "execution_count": 3,
   "metadata": {},
   "outputs": [
    {
     "data": {
      "text/html": [
       "<div>\n",
       "<style scoped>\n",
       "    .dataframe tbody tr th:only-of-type {\n",
       "        vertical-align: middle;\n",
       "    }\n",
       "\n",
       "    .dataframe tbody tr th {\n",
       "        vertical-align: top;\n",
       "    }\n",
       "\n",
       "    .dataframe thead th {\n",
       "        text-align: right;\n",
       "    }\n",
       "</style>\n",
       "<table border=\"1\" class=\"dataframe\">\n",
       "  <thead>\n",
       "    <tr style=\"text-align: right;\">\n",
       "      <th></th>\n",
       "      <th>index</th>\n",
       "      <th>text</th>\n",
       "      <th>retweet_count</th>\n",
       "      <th>favorite_count</th>\n",
       "      <th>spam</th>\n",
       "      <th>spam_marketing</th>\n",
       "      <th>spam_hijack</th>\n",
       "      <th>spam_corporate</th>\n",
       "      <th>spam_bot</th>\n",
       "      <th>spam_known</th>\n",
       "      <th>...</th>\n",
       "      <th>place_type</th>\n",
       "      <th>full_name</th>\n",
       "      <th>place_name</th>\n",
       "      <th>place_id</th>\n",
       "      <th>place_lat</th>\n",
       "      <th>place_lon</th>\n",
       "      <th>lat</th>\n",
       "      <th>lon</th>\n",
       "      <th>expanded_url</th>\n",
       "      <th>url</th>\n",
       "    </tr>\n",
       "  </thead>\n",
       "  <tbody>\n",
       "    <tr>\n",
       "      <th>0</th>\n",
       "      <td>0</td>\n",
       "      <td>just closed a deal in 27 hours using #AdobeSig...</td>\n",
       "      <td>NaN</td>\n",
       "      <td>NaN</td>\n",
       "      <td>0</td>\n",
       "      <td>0</td>\n",
       "      <td>0</td>\n",
       "      <td>0</td>\n",
       "      <td>0</td>\n",
       "      <td>0</td>\n",
       "      <td>...</td>\n",
       "      <td>NaN</td>\n",
       "      <td>NaN</td>\n",
       "      <td>NaN</td>\n",
       "      <td>NaN</td>\n",
       "      <td>NaN</td>\n",
       "      <td>NaN</td>\n",
       "      <td>NaN</td>\n",
       "      <td>NaN</td>\n",
       "      <td>https://acrobat.adobe.com</td>\n",
       "      <td>https://t.co/Fe0YfarG31</td>\n",
       "    </tr>\n",
       "    <tr>\n",
       "      <th>1</th>\n",
       "      <td>1</td>\n",
       "      <td>just closed a deal in 2 days using #AdobeSign ...</td>\n",
       "      <td>NaN</td>\n",
       "      <td>NaN</td>\n",
       "      <td>0</td>\n",
       "      <td>0</td>\n",
       "      <td>0</td>\n",
       "      <td>0</td>\n",
       "      <td>0</td>\n",
       "      <td>0</td>\n",
       "      <td>...</td>\n",
       "      <td>NaN</td>\n",
       "      <td>NaN</td>\n",
       "      <td>NaN</td>\n",
       "      <td>NaN</td>\n",
       "      <td>NaN</td>\n",
       "      <td>NaN</td>\n",
       "      <td>NaN</td>\n",
       "      <td>NaN</td>\n",
       "      <td>https://acrobat.adobe.com</td>\n",
       "      <td>https://t.co/TTlCvaDE0V</td>\n",
       "    </tr>\n",
       "    <tr>\n",
       "      <th>2</th>\n",
       "      <td>2</td>\n",
       "      <td>just closed a deal in 2 hours using #AdobeSign...</td>\n",
       "      <td>NaN</td>\n",
       "      <td>NaN</td>\n",
       "      <td>0</td>\n",
       "      <td>0</td>\n",
       "      <td>0</td>\n",
       "      <td>0</td>\n",
       "      <td>0</td>\n",
       "      <td>0</td>\n",
       "      <td>...</td>\n",
       "      <td>NaN</td>\n",
       "      <td>NaN</td>\n",
       "      <td>NaN</td>\n",
       "      <td>NaN</td>\n",
       "      <td>NaN</td>\n",
       "      <td>NaN</td>\n",
       "      <td>NaN</td>\n",
       "      <td>NaN</td>\n",
       "      <td>https://acrobat.adobe.com</td>\n",
       "      <td>https://t.co/okmHDeM9bZ</td>\n",
       "    </tr>\n",
       "    <tr>\n",
       "      <th>3</th>\n",
       "      <td>3</td>\n",
       "      <td>just closed a deal in 26 hours using #AdobeSig...</td>\n",
       "      <td>NaN</td>\n",
       "      <td>NaN</td>\n",
       "      <td>0</td>\n",
       "      <td>0</td>\n",
       "      <td>0</td>\n",
       "      <td>0</td>\n",
       "      <td>0</td>\n",
       "      <td>0</td>\n",
       "      <td>...</td>\n",
       "      <td>NaN</td>\n",
       "      <td>NaN</td>\n",
       "      <td>NaN</td>\n",
       "      <td>NaN</td>\n",
       "      <td>NaN</td>\n",
       "      <td>NaN</td>\n",
       "      <td>NaN</td>\n",
       "      <td>NaN</td>\n",
       "      <td>https://acrobat.adobe.com</td>\n",
       "      <td>https://t.co/AAhUGDLZxH</td>\n",
       "    </tr>\n",
       "    <tr>\n",
       "      <th>4</th>\n",
       "      <td>4</td>\n",
       "      <td>just closed a deal in 6 days using #AdobeSign ...</td>\n",
       "      <td>NaN</td>\n",
       "      <td>NaN</td>\n",
       "      <td>0</td>\n",
       "      <td>0</td>\n",
       "      <td>0</td>\n",
       "      <td>0</td>\n",
       "      <td>0</td>\n",
       "      <td>0</td>\n",
       "      <td>...</td>\n",
       "      <td>NaN</td>\n",
       "      <td>NaN</td>\n",
       "      <td>NaN</td>\n",
       "      <td>NaN</td>\n",
       "      <td>NaN</td>\n",
       "      <td>NaN</td>\n",
       "      <td>NaN</td>\n",
       "      <td>NaN</td>\n",
       "      <td>https://acrobat.adobe.com</td>\n",
       "      <td>https://t.co/Oi57q6jdXP</td>\n",
       "    </tr>\n",
       "  </tbody>\n",
       "</table>\n",
       "<p>5 rows × 55 columns</p>\n",
       "</div>"
      ],
      "text/plain": [
       "   index                                               text  retweet_count  \\\n",
       "0      0  just closed a deal in 27 hours using #AdobeSig...            NaN   \n",
       "1      1  just closed a deal in 2 days using #AdobeSign ...            NaN   \n",
       "2      2  just closed a deal in 2 hours using #AdobeSign...            NaN   \n",
       "3      3  just closed a deal in 26 hours using #AdobeSig...            NaN   \n",
       "4      4  just closed a deal in 6 days using #AdobeSign ...            NaN   \n",
       "\n",
       "   favorite_count  spam  spam_marketing  spam_hijack  spam_corporate  \\\n",
       "0             NaN     0               0            0               0   \n",
       "1             NaN     0               0            0               0   \n",
       "2             NaN     0               0            0               0   \n",
       "3             NaN     0               0            0               0   \n",
       "4             NaN     0               0            0               0   \n",
       "\n",
       "   spam_bot  spam_known           ...             place_type  full_name  \\\n",
       "0         0           0           ...                    NaN        NaN   \n",
       "1         0           0           ...                    NaN        NaN   \n",
       "2         0           0           ...                    NaN        NaN   \n",
       "3         0           0           ...                    NaN        NaN   \n",
       "4         0           0           ...                    NaN        NaN   \n",
       "\n",
       "   place_name  place_id  place_lat  place_lon  lat  lon  \\\n",
       "0         NaN       NaN        NaN        NaN  NaN  NaN   \n",
       "1         NaN       NaN        NaN        NaN  NaN  NaN   \n",
       "2         NaN       NaN        NaN        NaN  NaN  NaN   \n",
       "3         NaN       NaN        NaN        NaN  NaN  NaN   \n",
       "4         NaN       NaN        NaN        NaN  NaN  NaN   \n",
       "\n",
       "                expanded_url                      url  \n",
       "0  https://acrobat.adobe.com  https://t.co/Fe0YfarG31  \n",
       "1  https://acrobat.adobe.com  https://t.co/TTlCvaDE0V  \n",
       "2  https://acrobat.adobe.com  https://t.co/okmHDeM9bZ  \n",
       "3  https://acrobat.adobe.com  https://t.co/AAhUGDLZxH  \n",
       "4  https://acrobat.adobe.com  https://t.co/Oi57q6jdXP  \n",
       "\n",
       "[5 rows x 55 columns]"
      ]
     },
     "execution_count": 3,
     "metadata": {},
     "output_type": "execute_result"
    }
   ],
   "source": [
    "df.head()"
   ]
  },
  {
   "cell_type": "markdown",
   "metadata": {},
   "source": [
    "1. Corporate post\n",
    "\n",
    "Criteria for corporate = client(DocuSign) and its competitors (OneSpan, SignNow, Adobe Sign)\n",
    "\n",
    "Explored 'screen_name' column and came up with following list of corporate account name:"
   ]
  },
  {
   "cell_type": "code",
   "execution_count": 5,
   "metadata": {},
   "outputs": [],
   "source": [
    "adobe = ['Acrobat','Acrobat_GU','adobe_mabhatia','adobe1234567','AdobeCare','AdobeDocCloud','AdobeExpCloud','AdobeGov','adobemax','AdobeNews','AdobePartner','adobesignstx','AdobeStarProps','AdobeUK']\n",
    "onespan = ['atOneSpan','OneSpan','OneSpanSign']\n",
    "docusign = ['DocuSign','DocuSignAPAC','DocuSignAPI','DocuSignIMPACT','DocuSignUK','DocuSignING']\n",
    "signnow = ['signnow']"
   ]
  },
  {
   "cell_type": "markdown",
   "metadata": {},
   "source": [
    "From this observation, I found that it would be possible to label for spam_corporate based on that whether screen name contains certain company name or not (would be more efficient)"
   ]
  },
  {
   "cell_type": "markdown",
   "metadata": {},
   "source": [
    "* bonus found: Adobe leverages its branch companies\n",
    "* Q: Do we need multiple accounts or one accoun for social media marketing?"
   ]
  },
  {
   "cell_type": "code",
   "execution_count": 7,
   "metadata": {},
   "outputs": [],
   "source": [
    "combined_lst = adobe+onespan+docusign+signnow"
   ]
  },
  {
   "cell_type": "code",
   "execution_count": 19,
   "metadata": {},
   "outputs": [],
   "source": [
    "#df[df['spam_']]"
   ]
  },
  {
   "cell_type": "code",
   "execution_count": 20,
   "metadata": {},
   "outputs": [],
   "source": [
    "#df.loc[df['screen_name'] in (combined_lst), 'spam_corporate'] = 1"
   ]
  },
  {
   "cell_type": "code",
   "execution_count": 21,
   "metadata": {},
   "outputs": [],
   "source": [
    "#df.loc[df['c1'] == 'Value', 'c2'] = 10"
   ]
  },
  {
   "cell_type": "code",
   "execution_count": 16,
   "metadata": {},
   "outputs": [
    {
     "name": "stderr",
     "output_type": "stream",
     "text": [
      "/home/daniel/anaconda3/lib/python3.7/site-packages/ipykernel_launcher.py:1: SettingWithCopyWarning: \n",
      "A value is trying to be set on a copy of a slice from a DataFrame\n",
      "\n",
      "See the caveats in the documentation: http://pandas.pydata.org/pandas-docs/stable/indexing.html#indexing-view-versus-copy\n",
      "  \"\"\"Entry point for launching an IPython kernel.\n"
     ]
    }
   ],
   "source": [
    "df['spam_corporate'][df.screen_name.isin(combined_lst)] = 1"
   ]
  },
  {
   "cell_type": "code",
   "execution_count": 18,
   "metadata": {},
   "outputs": [
    {
     "data": {
      "text/plain": [
       "index                                                                    20010\n",
       "text                         Are you in #HR? Save yourself time on reusable...\n",
       "retweet_count                                                              NaN\n",
       "favorite_count                                                             NaN\n",
       "spam                                                                         0\n",
       "spam_marketing                                                               0\n",
       "spam_hijack                                                                  0\n",
       "spam_corporate                                                               1\n",
       "spam_bot                                                                     0\n",
       "spam_known                                                                   0\n",
       "spam_own                                                                     0\n",
       "Docusign                                                                 False\n",
       "onespan                                                                  False\n",
       "signnow                                                                   True\n",
       "adobe sign                                                               False\n",
       "favorited                                                                False\n",
       "truncated                                                                False\n",
       "id_str                                                     1034818322976640000\n",
       "in_reply_to_screen_name                                                    NaN\n",
       "source                       <a href=\"https://www.hootsuite.com\" rel=\"nofol...\n",
       "retweeted                                                                False\n",
       "created_at                                      Wed Aug 29 15:01:28 +0000 2018\n",
       "in_reply_to_status_id_str                                                  NaN\n",
       "in_reply_to_user_id_str                                                    NaN\n",
       "lang                                                                        en\n",
       "listed_count                                                               105\n",
       "verified                                                                 False\n",
       "location                                                     Newport Beach, CA\n",
       "user_id_str                                                          264348610\n",
       "description                  SignNow is an award-winning e-signature platfo...\n",
       "geo_enabled                                                               True\n",
       "user_created_at                                 Fri Mar 11 19:17:12 +0000 2011\n",
       "statuses_count                                                            5303\n",
       "followers_count                                                          18440\n",
       "favourites_count                                                           309\n",
       "protected                                                                False\n",
       "user_url                                                                   NaN\n",
       "name                                                                   SignNow\n",
       "time_zone                                                                  NaN\n",
       "user_lang                                                                   en\n",
       "utc_offset                                                                 NaN\n",
       "friends_count                                                             2579\n",
       "screen_name                                                            signnow\n",
       "country_code                                                               NaN\n",
       "country                                                                    NaN\n",
       "place_type                                                                 NaN\n",
       "full_name                                                                  NaN\n",
       "place_name                                                                 NaN\n",
       "place_id                                                                   NaN\n",
       "place_lat                                                                  NaN\n",
       "place_lon                                                                  NaN\n",
       "lat                                                                        NaN\n",
       "lon                                                                        NaN\n",
       "expanded_url                                          http://ow.ly/RmGy30ly0BC\n",
       "url                                                    https://t.co/nAycbXRIQN\n",
       "Name: 20010, dtype: object"
      ]
     },
     "execution_count": 18,
     "metadata": {},
     "output_type": "execute_result"
    }
   ],
   "source": [
    "df.iloc[-1]"
   ]
  },
  {
   "cell_type": "code",
   "execution_count": null,
   "metadata": {},
   "outputs": [],
   "source": []
  }
 ],
 "metadata": {
  "kernelspec": {
   "display_name": "Python 3",
   "language": "python",
   "name": "python3"
  },
  "language_info": {
   "codemirror_mode": {
    "name": "ipython",
    "version": 3
   },
   "file_extension": ".py",
   "mimetype": "text/x-python",
   "name": "python",
   "nbconvert_exporter": "python",
   "pygments_lexer": "ipython3",
   "version": "3.7.1"
  }
 },
 "nbformat": 4,
 "nbformat_minor": 2
}
