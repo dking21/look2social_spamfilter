{
 "cells": [
  {
   "cell_type": "markdown",
   "metadata": {},
   "source": [
    "# Final Check"
   ]
  },
  {
   "cell_type": "markdown",
   "metadata": {},
   "source": [
    "importing functions"
   ]
  },
  {
   "cell_type": "code",
   "execution_count": 1,
   "metadata": {},
   "outputs": [],
   "source": [
    "import pandas as pd\n",
    "import numpy as np\n",
    "\n",
    "from src.language_processing2 import processing_text\n",
    "from src.language_processing2 import vectorize_text2\n",
    "from src.language_processing2 import vectorize_desc2\n",
    "\n",
    "from src.modeling import test_model4b\n",
    "\n",
    "from sklearn.metrics import accuracy_score\n",
    "from sklearn.metrics import confusion_matrix\n",
    "from sklearn.metrics import log_loss\n",
    "from sklearn.metrics import roc_auc_score\n",
    "from sklearn.model_selection import train_test_split,KFold\n",
    "\n",
    "from sklearn.naive_bayes import MultinomialNB\n",
    "from sklearn.linear_model import LogisticRegression\n",
    "from sklearn.ensemble import RandomForestClassifier\n",
    "from sklearn.ensemble import GradientBoostingClassifier"
   ]
  },
  {
   "cell_type": "code",
   "execution_count": 3,
   "metadata": {},
   "outputs": [],
   "source": [
    "columns = ['Docusign', 'onespan', 'signnow','adobe sign','listed_count', 'statuses_count','followers_count','favourites_count', 'friends_count','time_float_sin','time_float_cos', 'is_description_none']"
   ]
  },
  {
   "cell_type": "code",
   "execution_count": 2,
   "metadata": {},
   "outputs": [
    {
     "name": "stdout",
     "output_type": "stream",
     "text": [
      "\n",
      "Score summary for initial test (first 80% of data)\n",
      "\n",
      "\n",
      "Accuracy score of this model is\n",
      "\n",
      "0.9996666666666666\n",
      "\n",
      "Log-Loss score of this model is\n",
      "\n",
      "0.0036907481970301264\n",
      "\n",
      "AUC score of this model is\n",
      "\n",
      "0.9997056659308315\n",
      "\n",
      "\n",
      "\n",
      "Score summary for final test (last 20% of data)\n",
      "\n",
      "\n",
      "Accuracy score of this model is\n",
      "\n",
      "1.0\n",
      "\n",
      "Log-Loss score of this model is\n",
      "\n",
      "0.0036964742920723363\n",
      "\n",
      "AUC score of this model is\n",
      "\n",
      "1.0\n",
      "\n",
      "Score summary for final test (last 20% of data)\n",
      "\n",
      "\n",
      "Accuracy score of this model is\n",
      "\n",
      "1.0\n",
      "\n",
      "Log-Loss score of this model is\n",
      "\n",
      "0.002934668711336333\n",
      "\n",
      "AUC score of this model is\n",
      "\n",
      "1.0\n"
     ]
    }
   ],
   "source": [
    "df = pd.read_excel('testing2.xlsx')\n",
    "df.drop('Unnamed: 0', axis=1, inplace=True)\n",
    "processing_text(df,'text')\n",
    "col_name_lst1,text_vectorizer = vectorize_text2(df,700)\n",
    "processing_text(df,'description')\n",
    "col_name_lst2,desc_vectorizer = vectorize_desc2(df,700)\n",
    "model1 = test_model4b(df,'spam_bot',col_name_lst1+col_name_lst2)"
   ]
  },
  {
   "cell_type": "code",
   "execution_count": 7,
   "metadata": {},
   "outputs": [
    {
     "name": "stdout",
     "output_type": "stream",
     "text": [
      "Here are the top 10 important features\n",
      "\n",
      "\n",
      "[673 151  78   3 183   0 207   4   7 457]\n",
      "\n",
      "\n",
      "using\n",
      "closed\n",
      "adobesign\n",
      "adobe sign\n",
      "deal\n",
      "Docusign\n",
      "docusign\n",
      "listed_count\n",
      "favourites_count\n",
      "minute\n"
     ]
    }
   ],
   "source": [
    "importances1 = model1.feature_importances_\n",
    "ordered_importances1 = np.argsort(importances1)[::-1]\n",
    "print(\"Here are the top 10 important features\")\n",
    "print(\"\\n\")\n",
    "print(ordered_importances1[:10])\n",
    "print(\"\\n\")\n",
    "feature_columns1 = columns + text_vectorizer.get_feature_names() + desc_vectorizer.get_feature_names()\n",
    "for n in ordered_importances1[:10]:\n",
    "    print(feature_columns1[n])"
   ]
  },
  {
   "cell_type": "code",
   "execution_count": 8,
   "metadata": {},
   "outputs": [
    {
     "name": "stdout",
     "output_type": "stream",
     "text": [
      "\n",
      "Score summary for initial test (first 80% of data)\n",
      "\n",
      "\n",
      "Accuracy score of this model is\n",
      "\n",
      "0.9974999999999999\n",
      "\n",
      "Log-Loss score of this model is\n",
      "\n",
      "0.01241449643572887\n",
      "\n",
      "AUC score of this model is\n",
      "\n",
      "0.9848528958238365\n",
      "\n",
      "\n",
      "\n",
      "Score summary for final test (last 20% of data)\n",
      "\n",
      "\n",
      "Accuracy score of this model is\n",
      "\n",
      "0.99825\n",
      "\n",
      "Log-Loss score of this model is\n",
      "\n",
      "0.006255295325945092\n",
      "\n",
      "AUC score of this model is\n",
      "\n",
      "0.9894894894894894\n",
      "\n",
      "Score summary for final test (last 20% of data)\n",
      "\n",
      "\n",
      "Accuracy score of this model is\n",
      "\n",
      "0.9980029955067399\n",
      "\n",
      "Log-Loss score of this model is\n",
      "\n",
      "0.006843248582033045\n",
      "\n",
      "AUC score of this model is\n",
      "\n",
      "0.988795518207283\n"
     ]
    }
   ],
   "source": [
    "df = pd.read_excel('testing2.xlsx')\n",
    "df.drop('Unnamed: 0', axis=1, inplace=True)\n",
    "processing_text(df,'text')\n",
    "col_name_lst1,text_vectorizer = vectorize_text2(df,700)\n",
    "processing_text(df,'description')\n",
    "col_name_lst2,desc_vectorizer = vectorize_desc2(df,700)\n",
    "model2 = test_model4b(df,'spam_corporate',col_name_lst1+col_name_lst2)"
   ]
  },
  {
   "cell_type": "code",
   "execution_count": 9,
   "metadata": {},
   "outputs": [
    {
     "name": "stdout",
     "output_type": "stream",
     "text": [
      "Here are the top 10 important features\n",
      "\n",
      "\n",
      "[ 903  759    6 1387  749 1147 1358 1051 1353 1201]\n",
      "\n",
      "\n",
      "docusign\n",
      "askdocusign\n",
      "followers_count\n",
      "welcome\n",
      "announcement\n",
      "official\n",
      "update\n",
      "know\n",
      "twitter\n",
      "product\n"
     ]
    }
   ],
   "source": [
    "importances2 = model2.feature_importances_\n",
    "ordered_importances2 = np.argsort(importances2)[::-1]\n",
    "print(\"Here are the top 10 important features\")\n",
    "print(\"\\n\")\n",
    "print(ordered_importances2[:10])\n",
    "print(\"\\n\")\n",
    "feature_columns2 = columns + text_vectorizer.get_feature_names() + desc_vectorizer.get_feature_names()\n",
    "for n in ordered_importances2[:10]:\n",
    "    print(feature_columns1[n])"
   ]
  },
  {
   "cell_type": "code",
   "execution_count": 10,
   "metadata": {},
   "outputs": [
    {
     "name": "stdout",
     "output_type": "stream",
     "text": [
      "\n",
      "Score summary for initial test (first 80% of data)\n",
      "\n",
      "\n",
      "Accuracy score of this model is\n",
      "\n",
      "0.9240833333333333\n",
      "\n",
      "Log-Loss score of this model is\n",
      "\n",
      "0.15222700859366337\n",
      "\n",
      "AUC score of this model is\n",
      "\n",
      "0.9137023414019427\n",
      "\n",
      "\n",
      "\n",
      "Score summary for final test (last 20% of data)\n",
      "\n",
      "\n",
      "Accuracy score of this model is\n",
      "\n",
      "0.9265\n",
      "\n",
      "Log-Loss score of this model is\n",
      "\n",
      "0.1549414174202167\n",
      "\n",
      "AUC score of this model is\n",
      "\n",
      "0.9147779546637937\n",
      "\n",
      "Score summary for final test (last 20% of data)\n",
      "\n",
      "\n",
      "Accuracy score of this model is\n",
      "\n",
      "0.9345981028457314\n",
      "\n",
      "Log-Loss score of this model is\n",
      "\n",
      "0.14122389072100308\n",
      "\n",
      "AUC score of this model is\n",
      "\n",
      "0.9230427225916257\n"
     ]
    }
   ],
   "source": [
    "df = pd.read_excel('testing2.xlsx')\n",
    "df.drop('Unnamed: 0', axis=1, inplace=True)\n",
    "processing_text(df,'text')\n",
    "col_name_lst1,text_vectorizer = vectorize_text2(df,700)\n",
    "processing_text(df,'description')\n",
    "col_name_lst2,desc_vectorizer = vectorize_desc2(df,700)\n",
    "model3 = test_model4b(df,'spam_hijack',col_name_lst1+col_name_lst2)"
   ]
  },
  {
   "cell_type": "code",
   "execution_count": 11,
   "metadata": {},
   "outputs": [
    {
     "name": "stdout",
     "output_type": "stream",
     "text": [
      "Here are the top 10 important features\n",
      "\n",
      "\n",
      "[ 78 673   3   0 207 151 183   5   4   7]\n",
      "\n",
      "\n",
      "adobesign\n",
      "using\n",
      "adobe sign\n",
      "Docusign\n",
      "docusign\n",
      "closed\n",
      "deal\n",
      "statuses_count\n",
      "listed_count\n",
      "favourites_count\n"
     ]
    }
   ],
   "source": [
    "importances3 = model3.feature_importances_\n",
    "ordered_importances3 = np.argsort(importances3)[::-1]\n",
    "print(\"Here are the top 10 important features\")\n",
    "print(\"\\n\")\n",
    "print(ordered_importances3[:10])\n",
    "print(\"\\n\")\n",
    "feature_columns3 = columns + text_vectorizer.get_feature_names() + desc_vectorizer.get_feature_names()\n",
    "for n in ordered_importances3[:10]:\n",
    "    print(feature_columns3[n])"
   ]
  },
  {
   "cell_type": "code",
   "execution_count": 12,
   "metadata": {},
   "outputs": [
    {
     "name": "stdout",
     "output_type": "stream",
     "text": [
      "\n",
      "Score summary for initial test (first 80% of data)\n",
      "\n",
      "\n",
      "Accuracy score of this model is\n",
      "\n",
      "0.9555\n",
      "\n",
      "Log-Loss score of this model is\n",
      "\n",
      "0.11458119863570496\n",
      "\n",
      "AUC score of this model is\n",
      "\n",
      "0.6893521367956407\n",
      "\n",
      "\n",
      "\n",
      "Score summary for final test (last 20% of data)\n",
      "\n",
      "\n",
      "Accuracy score of this model is\n",
      "\n",
      "0.94975\n",
      "\n",
      "Log-Loss score of this model is\n",
      "\n",
      "0.1139981611342206\n",
      "\n",
      "AUC score of this model is\n",
      "\n",
      "0.6801333333333333\n",
      "\n",
      "Score summary for final test (last 20% of data)\n",
      "\n",
      "\n",
      "Accuracy score of this model is\n",
      "\n",
      "0.9623065401897154\n",
      "\n",
      "Log-Loss score of this model is\n",
      "\n",
      "0.09835395583682799\n",
      "\n",
      "AUC score of this model is\n",
      "\n",
      "0.7077092799085476\n"
     ]
    }
   ],
   "source": [
    "df = pd.read_excel('testing2.xlsx')\n",
    "df.drop('Unnamed: 0', axis=1, inplace=True)\n",
    "processing_text(df,'text')\n",
    "col_name_lst1,text_vectorizer = vectorize_text2(df,700)\n",
    "processing_text(df,'description')\n",
    "col_name_lst2,desc_vectorizer = vectorize_desc2(df,700)\n",
    "model4 = test_model4b(df,'spam_marketing',col_name_lst1+col_name_lst2)"
   ]
  },
  {
   "cell_type": "code",
   "execution_count": 13,
   "metadata": {},
   "outputs": [
    {
     "name": "stdout",
     "output_type": "stream",
     "text": [
      "Here are the top 10 important features\n",
      "\n",
      "\n",
      "[ 10   9   5   7  78   8   6   4 207 686]\n",
      "\n",
      "\n",
      "time_float_cos\n",
      "time_float_sin\n",
      "statuses_count\n",
      "favourites_count\n",
      "adobesign\n",
      "friends_count\n",
      "followers_count\n",
      "listed_count\n",
      "docusign\n",
      "webinar\n"
     ]
    }
   ],
   "source": [
    "importances4 = model4.feature_importances_\n",
    "ordered_importances4 = np.argsort(importances4)[::-1]\n",
    "print(\"Here are the top 10 important features\")\n",
    "print(\"\\n\")\n",
    "print(ordered_importances4[:10])\n",
    "print(\"\\n\")\n",
    "feature_columns4 = columns + text_vectorizer.get_feature_names() + desc_vectorizer.get_feature_names()\n",
    "for n in ordered_importances4[:10]:\n",
    "    print(feature_columns4[n])"
   ]
  },
  {
   "cell_type": "code",
   "execution_count": null,
   "metadata": {},
   "outputs": [],
   "source": []
  }
 ],
 "metadata": {
  "kernelspec": {
   "display_name": "Python 3",
   "language": "python",
   "name": "python3"
  },
  "language_info": {
   "codemirror_mode": {
    "name": "ipython",
    "version": 3
   },
   "file_extension": ".py",
   "mimetype": "text/x-python",
   "name": "python",
   "nbconvert_exporter": "python",
   "pygments_lexer": "ipython3",
   "version": "3.6.8"
  }
 },
 "nbformat": 4,
 "nbformat_minor": 2
}
