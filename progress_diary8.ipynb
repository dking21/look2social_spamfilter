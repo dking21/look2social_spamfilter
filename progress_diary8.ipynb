{
 "cells": [
  {
   "cell_type": "code",
   "execution_count": 1,
   "metadata": {},
   "outputs": [],
   "source": [
    "import pandas as pd\n",
    "import numpy as np\n",
    "\n",
    "from src.language_processing2 import processing_text\n",
    "from src.language_processing2 import vectorize_text\n",
    "from src.language_processing2 import vectorize_desc\n",
    "from src.modeling import test_model\n",
    "from src.modeling import test_model2\n",
    "from src.modeling import test_model3\n",
    "from src.modeling import test_model4\n",
    "\n",
    "from sklearn.metrics import accuracy_score\n",
    "from sklearn.metrics import confusion_matrix\n",
    "from sklearn.metrics import log_loss\n",
    "from sklearn.metrics import roc_auc_score\n",
    "from sklearn.model_selection import train_test_split,KFold\n",
    "\n",
    "from sklearn.naive_bayes import MultinomialNB\n",
    "from sklearn.linear_model import LogisticRegression\n",
    "from sklearn.ensemble import RandomForestClassifier\n",
    "from sklearn.ensemble import GradientBoostingClassifier"
   ]
  },
  {
   "cell_type": "code",
   "execution_count": 4,
   "metadata": {},
   "outputs": [],
   "source": [
    "def test_model6(data,column,TFIDF_column,estimators,dep):\n",
    "    data2 = data.sample(frac=1)\n",
    "    data2_training = data2[:16000]\n",
    "    data2_testing = data2[16000:]\n",
    "    y = data2_training[column]\n",
    "    X = data2_training[['Docusign', 'onespan', 'signnow','adobe sign','listed_count', 'statuses_count','followers_count','favourites_count', 'friends_count','time_float_sin','time_float_cos', 'is_description_none'] + TFIDF_column]\n",
    "    X_train, X_test, y_train, y_test = train_test_split(X, y, test_size=0.25)\n",
    "    model = GradientBoostingClassifier(subsample=0.5, learning_rate=0.1, n_estimators=estimators,max_depth=dep)\n",
    "    kf = KFold(n_splits=5, shuffle=True)\n",
    "\n",
    "    ll_performance = []\n",
    "    auc_performance = []\n",
    "    acc_performance = []\n",
    "#kfold split on X_ (which is X_train of len 110)\n",
    "    for train_index, test_index in kf.split(X):\n",
    "        X_train, X_test = X.iloc[train_index], X.iloc[test_index]\n",
    "        y_train, y_test = y.iloc[train_index], y.iloc[test_index]\n",
    "        model.fit(X_train, y_train)\n",
    "        y_predict = model.predict(X_test)\n",
    "        y_pred = model.predict_proba(X_test)\n",
    "        log_ll = log_loss(y_test, y_pred)\n",
    "        ll_performance.append(log_ll)\n",
    "        auc = roc_auc_score(y_test,y_predict)\n",
    "        auc_performance.append(auc)\n",
    "        acc = accuracy_score(y_test,y_predict)\n",
    "        acc_performance.append(acc)\n",
    "        \n",
    "        \n",
    "    print(\"\\n\" + \"Score summary for initial test (first 80% of data)\" + \"\\n\")\n",
    "    print(\"\\n\" + \"Accuracy score of this model is\" + \"\\n\")\n",
    "    print(np.mean(acc_performance))\n",
    "    print(\"\\n\" + \"Log-Loss score of this model is\" + \"\\n\")\n",
    "    print(np.mean(ll_performance))\n",
    "    print(\"\\n\" + \"AUC score of this model is\" + \"\\n\")\n",
    "    print(np.mean(auc_performance))\n",
    "    print(\"\\n\")\n",
    "\n",
    "    y = data2_testing[column]\n",
    "    X = data2_testing[['Docusign', 'onespan', 'signnow','adobe sign','listed_count', 'statuses_count','followers_count','favourites_count', 'friends_count','time_float_sin','time_float_cos', 'is_description_none'] + TFIDF_column]\n",
    "    X_train, X_test, y_train, y_test = train_test_split(X, y, test_size=0.25)\n",
    "    #model = model()\n",
    "    kf = KFold(n_splits=5, shuffle=True)\n",
    "\n",
    "    ll_performance = []\n",
    "    auc_performance = []\n",
    "    acc_performance = []\n",
    "#kfold split on X_ (which is X_train of len 110)\n",
    "    for train_index, test_index in kf.split(X):\n",
    "        X_train, X_test = X.iloc[train_index], X.iloc[test_index]\n",
    "        y_train, y_test = y.iloc[train_index], y.iloc[test_index]\n",
    "        model.fit(X_train, y_train)\n",
    "        y_predict = model.predict(X_test)\n",
    "        y_pred = model.predict_proba(X_test)\n",
    "        log_ll = log_loss(y_test, y_pred)\n",
    "        ll_performance.append(log_ll)\n",
    "        auc = roc_auc_score(y_test,y_predict)\n",
    "        auc_performance.append(auc)\n",
    "        acc = accuracy_score(y_test,y_predict)\n",
    "        acc_performance.append(acc)\n",
    "        \n",
    "        \n",
    "    print(\"\\n\" + \"Score summary for final test (last 20% of data)\" + \"\\n\")\n",
    "    print(\"\\n\" + \"Accuracy score of this model is\" + \"\\n\")\n",
    "    print(np.mean(acc_performance))\n",
    "    print(\"\\n\" + \"Log-Loss score of this model is\" + \"\\n\")\n",
    "    print(np.mean(ll_performance))\n",
    "    print(\"\\n\" + \"AUC score of this model is\" + \"\\n\")\n",
    "    print(np.mean(auc_performance))\n",
    "    #print(\"\\n\" + \"Coefficients of this model are\" + \"\\n\")\n",
    "    #print(model.coef_)\n",
    "    #print(\"\\n\" + \"Most effective predictor was\" + \"\\n\")\n",
    "    return None"
   ]
  },
  {
   "cell_type": "code",
   "execution_count": 5,
   "metadata": {},
   "outputs": [
    {
     "name": "stdout",
     "output_type": "stream",
     "text": [
      "\n",
      "Score summary for initial test (first 80% of data)\n",
      "\n",
      "\n",
      "Accuracy score of this model is\n",
      "\n",
      "0.9530625\n",
      "\n",
      "Log-Loss score of this model is\n",
      "\n",
      "0.12743012650190894\n",
      "\n",
      "AUC score of this model is\n",
      "\n",
      "0.6828016362934268\n",
      "\n",
      "\n",
      "\n",
      "Score summary for final test (last 20% of data)\n",
      "\n",
      "\n",
      "Accuracy score of this model is\n",
      "\n",
      "0.9460817369808936\n",
      "\n",
      "Log-Loss score of this model is\n",
      "\n",
      "0.161360256625824\n",
      "\n",
      "AUC score of this model is\n",
      "\n",
      "0.630423425336059\n"
     ]
    }
   ],
   "source": [
    "df = pd.read_excel('testing2.xlsx')\n",
    "df.drop('Unnamed: 0', axis=1, inplace=True)\n",
    "processing_text(df,'text')\n",
    "col_name_lst1 = vectorize_text(df,700)\n",
    "processing_text(df,'description')\n",
    "col_name_lst2 = vectorize_desc(df,700)\n",
    "test_model6(df,'spam_marketing',col_name_lst1+col_name_lst2,300,2)"
   ]
  },
  {
   "cell_type": "code",
   "execution_count": 6,
   "metadata": {},
   "outputs": [],
   "source": [
    "depth_candidate = list(range(2,10,2))"
   ]
  },
  {
   "cell_type": "code",
   "execution_count": 7,
   "metadata": {},
   "outputs": [
    {
     "data": {
      "text/plain": [
       "[2, 4, 6, 8]"
      ]
     },
     "execution_count": 7,
     "metadata": {},
     "output_type": "execute_result"
    }
   ],
   "source": [
    "depth_candidate"
   ]
  },
  {
   "cell_type": "code",
   "execution_count": null,
   "metadata": {},
   "outputs": [],
   "source": []
  }
 ],
 "metadata": {
  "kernelspec": {
   "display_name": "Python 3",
   "language": "python",
   "name": "python3"
  },
  "language_info": {
   "codemirror_mode": {
    "name": "ipython",
    "version": 3
   },
   "file_extension": ".py",
   "mimetype": "text/x-python",
   "name": "python",
   "nbconvert_exporter": "python",
   "pygments_lexer": "ipython3",
   "version": "3.6.8"
  }
 },
 "nbformat": 4,
 "nbformat_minor": 2
}
