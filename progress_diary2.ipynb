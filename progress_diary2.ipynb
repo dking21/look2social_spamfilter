{
 "cells": [
  {
   "cell_type": "markdown",
   "metadata": {},
   "source": [
    "## 04/02 ~ continuing work with py files"
   ]
  },
  {
   "cell_type": "code",
   "execution_count": null,
   "metadata": {},
   "outputs": [],
   "source": []
  },
  {
   "cell_type": "code",
   "execution_count": 1,
   "metadata": {},
   "outputs": [],
   "source": [
    "from src.data_cleaning import data_labeling\n",
    "from src.data_cleaning import feature_engineering\n",
    "from src.language_processing import to_tfidf"
   ]
  },
  {
   "cell_type": "code",
   "execution_count": 2,
   "metadata": {},
   "outputs": [],
   "source": [
    "import pandas as pd\n",
    "#pd.set_option('display.max_columns', 100)"
   ]
  },
  {
   "cell_type": "code",
   "execution_count": 3,
   "metadata": {},
   "outputs": [
    {
     "name": "stderr",
     "output_type": "stream",
     "text": [
      "/home/daniel/Desktop/Seattle_g89/spam_filter/look2social_spamfilter/src/data_cleaning.py:24: SettingWithCopyWarning: \n",
      "A value is trying to be set on a copy of a slice from a DataFrame\n",
      "\n",
      "See the caveats in the documentation: http://pandas.pydata.org/pandas-docs/stable/indexing.html#indexing-view-versus-copy\n",
      "  df['spam_corporate'][df.screen_name.isin(combined_lst)] = 1\n",
      "/home/daniel/Desktop/Seattle_g89/spam_filter/look2social_spamfilter/src/data_cleaning.py:25: SettingWithCopyWarning: \n",
      "A value is trying to be set on a copy of a slice from a DataFrame\n",
      "\n",
      "See the caveats in the documentation: http://pandas.pydata.org/pandas-docs/stable/indexing.html#indexing-view-versus-copy\n",
      "  df['spam_bot'][df.expanded_url == 'https://acrobat.adobe.com'] = 1\n",
      "/home/daniel/Desktop/Seattle_g89/spam_filter/look2social_spamfilter/src/data_cleaning.py:28: SettingWithCopyWarning: \n",
      "A value is trying to be set on a copy of a slice from a DataFrame.\n",
      "Try using .loc[row_indexer,col_indexer] = value instead\n",
      "\n",
      "See the caveats in the documentation: http://pandas.pydata.org/pandas-docs/stable/indexing.html#indexing-view-versus-copy\n",
      "  hand_labeled_df['spam_marketing'] = hand_combined['spam_marketing'].values\n",
      "/home/daniel/Desktop/Seattle_g89/spam_filter/look2social_spamfilter/src/data_cleaning.py:29: SettingWithCopyWarning: \n",
      "A value is trying to be set on a copy of a slice from a DataFrame.\n",
      "Try using .loc[row_indexer,col_indexer] = value instead\n",
      "\n",
      "See the caveats in the documentation: http://pandas.pydata.org/pandas-docs/stable/indexing.html#indexing-view-versus-copy\n",
      "  hand_labeled_df['spam_hijack'] = hand_combined['spam_hijack'].values\n"
     ]
    }
   ],
   "source": [
    "df = data_labeling('data/data_prepping_zeros_index.xlsx',\n",
    "              'data/smalleyeball_partone.xlsx',\n",
    "              'data/smalleyeball_parttwo.xlsx')"
   ]
  },
  {
   "cell_type": "code",
   "execution_count": 4,
   "metadata": {},
   "outputs": [
    {
     "name": "stderr",
     "output_type": "stream",
     "text": [
      "/home/daniel/anaconda3/lib/python3.6/site-packages/pandas/core/frame.py:3940: SettingWithCopyWarning: \n",
      "A value is trying to be set on a copy of a slice from a DataFrame\n",
      "\n",
      "See the caveats in the documentation: http://pandas.pydata.org/pandas-docs/stable/indexing.html#indexing-view-versus-copy\n",
      "  errors=errors)\n",
      "/home/daniel/Desktop/Seattle_g89/spam_filter/look2social_spamfilter/src/data_cleaning.py:58: SettingWithCopyWarning: \n",
      "A value is trying to be set on a copy of a slice from a DataFrame.\n",
      "Try using .loc[row_indexer,col_indexer] = value instead\n",
      "\n",
      "See the caveats in the documentation: http://pandas.pydata.org/pandas-docs/stable/indexing.html#indexing-view-versus-copy\n",
      "  df3['time_created'] = pd.to_datetime(df3['created_at']).copy()\n",
      "/home/daniel/Desktop/Seattle_g89/spam_filter/look2social_spamfilter/src/data_cleaning.py:59: SettingWithCopyWarning: \n",
      "A value is trying to be set on a copy of a slice from a DataFrame.\n",
      "Try using .loc[row_indexer,col_indexer] = value instead\n",
      "\n",
      "See the caveats in the documentation: http://pandas.pydata.org/pandas-docs/stable/indexing.html#indexing-view-versus-copy\n",
      "  df3['created_at_float'] = df3['time_created'].dt.hour + df3['time_created'].dt.minute/60 + df3['time_created'].dt.second/3600\n"
     ]
    }
   ],
   "source": [
    "df2 = feature_engineering(df)"
   ]
  },
  {
   "cell_type": "code",
   "execution_count": 5,
   "metadata": {
    "scrolled": true
   },
   "outputs": [
    {
     "data": {
      "text/html": [
       "<div>\n",
       "<style scoped>\n",
       "    .dataframe tbody tr th:only-of-type {\n",
       "        vertical-align: middle;\n",
       "    }\n",
       "\n",
       "    .dataframe tbody tr th {\n",
       "        vertical-align: top;\n",
       "    }\n",
       "\n",
       "    .dataframe thead th {\n",
       "        text-align: right;\n",
       "    }\n",
       "</style>\n",
       "<table border=\"1\" class=\"dataframe\">\n",
       "  <thead>\n",
       "    <tr style=\"text-align: right;\">\n",
       "      <th></th>\n",
       "      <th>text</th>\n",
       "      <th>spam</th>\n",
       "      <th>spam_marketing</th>\n",
       "      <th>spam_hijack</th>\n",
       "      <th>spam_corporate</th>\n",
       "      <th>spam_bot</th>\n",
       "      <th>spam_known</th>\n",
       "      <th>spam_own</th>\n",
       "      <th>Docusign</th>\n",
       "      <th>onespan</th>\n",
       "      <th>...</th>\n",
       "      <th>adobe sign</th>\n",
       "      <th>listed_count</th>\n",
       "      <th>description</th>\n",
       "      <th>statuses_count</th>\n",
       "      <th>followers_count</th>\n",
       "      <th>favourites_count</th>\n",
       "      <th>friends_count</th>\n",
       "      <th>time_float_sin</th>\n",
       "      <th>time_float_cos</th>\n",
       "      <th>is_description_none</th>\n",
       "    </tr>\n",
       "  </thead>\n",
       "  <tbody>\n",
       "    <tr>\n",
       "      <th>0</th>\n",
       "      <td>just closed a deal in 27 hours using #AdobeSig...</td>\n",
       "      <td>0</td>\n",
       "      <td>0</td>\n",
       "      <td>0</td>\n",
       "      <td>0</td>\n",
       "      <td>1</td>\n",
       "      <td>0</td>\n",
       "      <td>0</td>\n",
       "      <td>False</td>\n",
       "      <td>False</td>\n",
       "      <td>...</td>\n",
       "      <td>True</td>\n",
       "      <td>1</td>\n",
       "      <td>There's no substitute for experience! Call 609...</td>\n",
       "      <td>6750</td>\n",
       "      <td>108</td>\n",
       "      <td>1</td>\n",
       "      <td>12</td>\n",
       "      <td>-0.049140</td>\n",
       "      <td>0.998792</td>\n",
       "      <td>False</td>\n",
       "    </tr>\n",
       "    <tr>\n",
       "      <th>1</th>\n",
       "      <td>just closed a deal in 2 days using #AdobeSign ...</td>\n",
       "      <td>0</td>\n",
       "      <td>0</td>\n",
       "      <td>0</td>\n",
       "      <td>0</td>\n",
       "      <td>1</td>\n",
       "      <td>0</td>\n",
       "      <td>0</td>\n",
       "      <td>False</td>\n",
       "      <td>False</td>\n",
       "      <td>...</td>\n",
       "      <td>True</td>\n",
       "      <td>14</td>\n",
       "      <td>We provide an affordable way to have a wonderf...</td>\n",
       "      <td>5018</td>\n",
       "      <td>47</td>\n",
       "      <td>2</td>\n",
       "      <td>25</td>\n",
       "      <td>-0.501007</td>\n",
       "      <td>0.865443</td>\n",
       "      <td>False</td>\n",
       "    </tr>\n",
       "    <tr>\n",
       "      <th>2</th>\n",
       "      <td>just closed a deal in 2 hours using #AdobeSign...</td>\n",
       "      <td>0</td>\n",
       "      <td>0</td>\n",
       "      <td>0</td>\n",
       "      <td>0</td>\n",
       "      <td>1</td>\n",
       "      <td>0</td>\n",
       "      <td>0</td>\n",
       "      <td>False</td>\n",
       "      <td>False</td>\n",
       "      <td>...</td>\n",
       "      <td>True</td>\n",
       "      <td>0</td>\n",
       "      <td></td>\n",
       "      <td>29</td>\n",
       "      <td>60</td>\n",
       "      <td>10</td>\n",
       "      <td>52</td>\n",
       "      <td>-0.599548</td>\n",
       "      <td>0.800339</td>\n",
       "      <td>True</td>\n",
       "    </tr>\n",
       "    <tr>\n",
       "      <th>3</th>\n",
       "      <td>just closed a deal in 26 hours using #AdobeSig...</td>\n",
       "      <td>0</td>\n",
       "      <td>0</td>\n",
       "      <td>0</td>\n",
       "      <td>0</td>\n",
       "      <td>1</td>\n",
       "      <td>0</td>\n",
       "      <td>0</td>\n",
       "      <td>False</td>\n",
       "      <td>False</td>\n",
       "      <td>...</td>\n",
       "      <td>True</td>\n",
       "      <td>2</td>\n",
       "      <td></td>\n",
       "      <td>5332</td>\n",
       "      <td>66</td>\n",
       "      <td>0</td>\n",
       "      <td>182</td>\n",
       "      <td>-0.325843</td>\n",
       "      <td>0.945424</td>\n",
       "      <td>True</td>\n",
       "    </tr>\n",
       "    <tr>\n",
       "      <th>4</th>\n",
       "      <td>just closed a deal in 6 days using #AdobeSign ...</td>\n",
       "      <td>0</td>\n",
       "      <td>0</td>\n",
       "      <td>0</td>\n",
       "      <td>0</td>\n",
       "      <td>1</td>\n",
       "      <td>0</td>\n",
       "      <td>0</td>\n",
       "      <td>False</td>\n",
       "      <td>False</td>\n",
       "      <td>...</td>\n",
       "      <td>True</td>\n",
       "      <td>8</td>\n",
       "      <td>Carefully Crafted &amp; Intentionally Inspired Eve...</td>\n",
       "      <td>1337</td>\n",
       "      <td>225</td>\n",
       "      <td>19</td>\n",
       "      <td>348</td>\n",
       "      <td>-0.098162</td>\n",
       "      <td>0.995170</td>\n",
       "      <td>False</td>\n",
       "    </tr>\n",
       "  </tbody>\n",
       "</table>\n",
       "<p>5 rows × 21 columns</p>\n",
       "</div>"
      ],
      "text/plain": [
       "                                                text  spam  spam_marketing  \\\n",
       "0  just closed a deal in 27 hours using #AdobeSig...     0               0   \n",
       "1  just closed a deal in 2 days using #AdobeSign ...     0               0   \n",
       "2  just closed a deal in 2 hours using #AdobeSign...     0               0   \n",
       "3  just closed a deal in 26 hours using #AdobeSig...     0               0   \n",
       "4  just closed a deal in 6 days using #AdobeSign ...     0               0   \n",
       "\n",
       "   spam_hijack  spam_corporate  spam_bot  spam_known  spam_own  Docusign  \\\n",
       "0            0               0         1           0         0     False   \n",
       "1            0               0         1           0         0     False   \n",
       "2            0               0         1           0         0     False   \n",
       "3            0               0         1           0         0     False   \n",
       "4            0               0         1           0         0     False   \n",
       "\n",
       "   onespan  ...  adobe sign  listed_count  \\\n",
       "0    False  ...        True             1   \n",
       "1    False  ...        True            14   \n",
       "2    False  ...        True             0   \n",
       "3    False  ...        True             2   \n",
       "4    False  ...        True             8   \n",
       "\n",
       "                                         description statuses_count  \\\n",
       "0  There's no substitute for experience! Call 609...           6750   \n",
       "1  We provide an affordable way to have a wonderf...           5018   \n",
       "2                                                                29   \n",
       "3                                                              5332   \n",
       "4  Carefully Crafted & Intentionally Inspired Eve...           1337   \n",
       "\n",
       "   followers_count  favourites_count  friends_count  time_float_sin  \\\n",
       "0              108                 1             12       -0.049140   \n",
       "1               47                 2             25       -0.501007   \n",
       "2               60                10             52       -0.599548   \n",
       "3               66                 0            182       -0.325843   \n",
       "4              225                19            348       -0.098162   \n",
       "\n",
       "   time_float_cos  is_description_none  \n",
       "0        0.998792                False  \n",
       "1        0.865443                False  \n",
       "2        0.800339                 True  \n",
       "3        0.945424                 True  \n",
       "4        0.995170                False  \n",
       "\n",
       "[5 rows x 21 columns]"
      ]
     },
     "execution_count": 5,
     "metadata": {},
     "output_type": "execute_result"
    }
   ],
   "source": [
    "df2.head()"
   ]
  },
  {
   "cell_type": "code",
   "execution_count": 6,
   "metadata": {},
   "outputs": [],
   "source": [
    "df = df2"
   ]
  },
  {
   "cell_type": "code",
   "execution_count": 7,
   "metadata": {},
   "outputs": [],
   "source": [
    "text_tfidf_matrix = to_tfidf(df,'text')"
   ]
  },
  {
   "cell_type": "code",
   "execution_count": 8,
   "metadata": {},
   "outputs": [],
   "source": [
    "desc_tfidf_matrix = to_tfidf(df,'description')"
   ]
  },
  {
   "cell_type": "code",
   "execution_count": 14,
   "metadata": {},
   "outputs": [
    {
     "data": {
      "text/plain": [
       "0.00022003398980305908"
      ]
     },
     "execution_count": 14,
     "metadata": {},
     "output_type": "execute_result"
    }
   ],
   "source": [
    "text_tfidf_matrix.mean()"
   ]
  },
  {
   "cell_type": "code",
   "execution_count": 15,
   "metadata": {},
   "outputs": [
    {
     "data": {
      "text/plain": [
       "0.000551184644606618"
      ]
     },
     "execution_count": 15,
     "metadata": {},
     "output_type": "execute_result"
    }
   ],
   "source": [
    "desc_tfidf_matrix.mean()"
   ]
  },
  {
   "cell_type": "markdown",
   "metadata": {},
   "source": [
    "# Finally starting modeling!"
   ]
  },
  {
   "cell_type": "markdown",
   "metadata": {},
   "source": [
    "## Approaching way\n",
    "\n",
    "1. numerical predictors will be modeled with logistic regression, random forest, gradient boosting\n",
    "\n",
    "2. TFIDF matrix predictors will be modeled by Naive Bayes. Currently, as I'm testing with local computer, I reduced down the number of max features to 1000. However,if I start cloud computing (Amazon AWS), I will increase the number of max features\n",
    "\n",
    "3. Ultimately, I will ensemble three different models - one based on numerical predictors and two based on post text TFIDF matrix and description text TFIDF matrix. After evaluating all model, I will find a best ratio for the weight of each model to be ensembled."
   ]
  },
  {
   "cell_type": "markdown",
   "metadata": {},
   "source": [
    "## Spam_bot"
   ]
  },
  {
   "cell_type": "markdown",
   "metadata": {},
   "source": [
    "### Logistic Regression"
   ]
  },
  {
   "cell_type": "code",
   "execution_count": 31,
   "metadata": {},
   "outputs": [],
   "source": [
    "%matplotlib inline\n",
    "import matplotlib.pyplot as plt\n",
    "from scipy import stats\n",
    "import scipy\n",
    "import numpy as np\n",
    "from sklearn.linear_model import LogisticRegression"
   ]
  },
  {
   "cell_type": "code",
   "execution_count": 10,
   "metadata": {},
   "outputs": [],
   "source": [
    "from sklearn.model_selection import train_test_split"
   ]
  },
  {
   "cell_type": "markdown",
   "metadata": {},
   "source": [
    "spam bot is the minimum level of spam to work with. I will start with this one."
   ]
  },
  {
   "cell_type": "code",
   "execution_count": 12,
   "metadata": {},
   "outputs": [
    {
     "data": {
      "text/plain": [
       "Index(['text', 'spam', 'spam_marketing', 'spam_hijack', 'spam_corporate',\n",
       "       'spam_bot', 'spam_known', 'spam_own', 'Docusign', 'onespan', 'signnow',\n",
       "       'adobe sign', 'listed_count', 'description', 'statuses_count',\n",
       "       'followers_count', 'favourites_count', 'friends_count',\n",
       "       'time_float_sin', 'time_float_cos', 'is_description_none',\n",
       "       'text_without_accent', 'text_word_tokens', 'processed_text', 'stemmed',\n",
       "       'ngrammed'],\n",
       "      dtype='object')"
      ]
     },
     "execution_count": 12,
     "metadata": {},
     "output_type": "execute_result"
    }
   ],
   "source": [
    "df.columns"
   ]
  },
  {
   "cell_type": "code",
   "execution_count": 20,
   "metadata": {},
   "outputs": [],
   "source": [
    "df_model_training = df.iloc[:16000]\n",
    "df_final_validation = df.iloc[16000:]"
   ]
  },
  {
   "cell_type": "code",
   "execution_count": 21,
   "metadata": {},
   "outputs": [],
   "source": [
    "y = df_model_training['spam_bot']\n",
    "X = df_model_training[['Docusign', 'onespan', 'signnow',\n",
    "       'adobe sign', 'listed_count', 'statuses_count',\n",
    "       'followers_count', 'favourites_count', 'friends_count',\n",
    "       'time_float_sin', 'time_float_cos', 'is_description_none']]"
   ]
  },
  {
   "cell_type": "code",
   "execution_count": 22,
   "metadata": {},
   "outputs": [
    {
     "data": {
      "text/html": [
       "<div>\n",
       "<style scoped>\n",
       "    .dataframe tbody tr th:only-of-type {\n",
       "        vertical-align: middle;\n",
       "    }\n",
       "\n",
       "    .dataframe tbody tr th {\n",
       "        vertical-align: top;\n",
       "    }\n",
       "\n",
       "    .dataframe thead th {\n",
       "        text-align: right;\n",
       "    }\n",
       "</style>\n",
       "<table border=\"1\" class=\"dataframe\">\n",
       "  <thead>\n",
       "    <tr style=\"text-align: right;\">\n",
       "      <th></th>\n",
       "      <th>Docusign</th>\n",
       "      <th>onespan</th>\n",
       "      <th>signnow</th>\n",
       "      <th>adobe sign</th>\n",
       "      <th>listed_count</th>\n",
       "      <th>statuses_count</th>\n",
       "      <th>followers_count</th>\n",
       "      <th>favourites_count</th>\n",
       "      <th>friends_count</th>\n",
       "      <th>time_float_sin</th>\n",
       "      <th>time_float_cos</th>\n",
       "      <th>is_description_none</th>\n",
       "    </tr>\n",
       "  </thead>\n",
       "  <tbody>\n",
       "    <tr>\n",
       "      <th>0</th>\n",
       "      <td>False</td>\n",
       "      <td>False</td>\n",
       "      <td>False</td>\n",
       "      <td>True</td>\n",
       "      <td>1</td>\n",
       "      <td>6750</td>\n",
       "      <td>108</td>\n",
       "      <td>1</td>\n",
       "      <td>12</td>\n",
       "      <td>-0.049140</td>\n",
       "      <td>0.998792</td>\n",
       "      <td>False</td>\n",
       "    </tr>\n",
       "    <tr>\n",
       "      <th>1</th>\n",
       "      <td>False</td>\n",
       "      <td>False</td>\n",
       "      <td>False</td>\n",
       "      <td>True</td>\n",
       "      <td>14</td>\n",
       "      <td>5018</td>\n",
       "      <td>47</td>\n",
       "      <td>2</td>\n",
       "      <td>25</td>\n",
       "      <td>-0.501007</td>\n",
       "      <td>0.865443</td>\n",
       "      <td>False</td>\n",
       "    </tr>\n",
       "    <tr>\n",
       "      <th>2</th>\n",
       "      <td>False</td>\n",
       "      <td>False</td>\n",
       "      <td>False</td>\n",
       "      <td>True</td>\n",
       "      <td>0</td>\n",
       "      <td>29</td>\n",
       "      <td>60</td>\n",
       "      <td>10</td>\n",
       "      <td>52</td>\n",
       "      <td>-0.599548</td>\n",
       "      <td>0.800339</td>\n",
       "      <td>True</td>\n",
       "    </tr>\n",
       "    <tr>\n",
       "      <th>3</th>\n",
       "      <td>False</td>\n",
       "      <td>False</td>\n",
       "      <td>False</td>\n",
       "      <td>True</td>\n",
       "      <td>2</td>\n",
       "      <td>5332</td>\n",
       "      <td>66</td>\n",
       "      <td>0</td>\n",
       "      <td>182</td>\n",
       "      <td>-0.325843</td>\n",
       "      <td>0.945424</td>\n",
       "      <td>True</td>\n",
       "    </tr>\n",
       "    <tr>\n",
       "      <th>4</th>\n",
       "      <td>False</td>\n",
       "      <td>False</td>\n",
       "      <td>False</td>\n",
       "      <td>True</td>\n",
       "      <td>8</td>\n",
       "      <td>1337</td>\n",
       "      <td>225</td>\n",
       "      <td>19</td>\n",
       "      <td>348</td>\n",
       "      <td>-0.098162</td>\n",
       "      <td>0.995170</td>\n",
       "      <td>False</td>\n",
       "    </tr>\n",
       "  </tbody>\n",
       "</table>\n",
       "</div>"
      ],
      "text/plain": [
       "   Docusign  onespan  signnow  adobe sign  listed_count  statuses_count  \\\n",
       "0     False    False    False        True             1            6750   \n",
       "1     False    False    False        True            14            5018   \n",
       "2     False    False    False        True             0              29   \n",
       "3     False    False    False        True             2            5332   \n",
       "4     False    False    False        True             8            1337   \n",
       "\n",
       "   followers_count  favourites_count  friends_count  time_float_sin  \\\n",
       "0              108                 1             12       -0.049140   \n",
       "1               47                 2             25       -0.501007   \n",
       "2               60                10             52       -0.599548   \n",
       "3               66                 0            182       -0.325843   \n",
       "4              225                19            348       -0.098162   \n",
       "\n",
       "   time_float_cos  is_description_none  \n",
       "0        0.998792                False  \n",
       "1        0.865443                False  \n",
       "2        0.800339                 True  \n",
       "3        0.945424                 True  \n",
       "4        0.995170                False  "
      ]
     },
     "execution_count": 22,
     "metadata": {},
     "output_type": "execute_result"
    }
   ],
   "source": [
    "X.head()"
   ]
  },
  {
   "cell_type": "code",
   "execution_count": 23,
   "metadata": {},
   "outputs": [],
   "source": [
    "X_train, X_test, y_train, y_test = train_test_split(X, y, test_size=0.25)"
   ]
  },
  {
   "cell_type": "code",
   "execution_count": 26,
   "metadata": {},
   "outputs": [],
   "source": [
    "logistic_model = LogisticRegression()"
   ]
  },
  {
   "cell_type": "code",
   "execution_count": 27,
   "metadata": {},
   "outputs": [
    {
     "name": "stderr",
     "output_type": "stream",
     "text": [
      "/home/daniel/anaconda3/lib/python3.6/site-packages/sklearn/linear_model/logistic.py:433: FutureWarning: Default solver will be changed to 'lbfgs' in 0.22. Specify a solver to silence this warning.\n",
      "  FutureWarning)\n"
     ]
    },
    {
     "data": {
      "text/plain": [
       "LogisticRegression(C=1.0, class_weight=None, dual=False, fit_intercept=True,\n",
       "          intercept_scaling=1, max_iter=100, multi_class='warn',\n",
       "          n_jobs=None, penalty='l2', random_state=None, solver='warn',\n",
       "          tol=0.0001, verbose=0, warm_start=False)"
      ]
     },
     "execution_count": 27,
     "metadata": {},
     "output_type": "execute_result"
    }
   ],
   "source": [
    "logistic_model.fit(X_train,y_train)"
   ]
  },
  {
   "cell_type": "code",
   "execution_count": 29,
   "metadata": {},
   "outputs": [],
   "source": [
    "y_predict = logistic_model.predict(X_test)"
   ]
  },
  {
   "cell_type": "code",
   "execution_count": 63,
   "metadata": {},
   "outputs": [],
   "source": [
    "y_pred = logistic_model.predict_proba(X_test)"
   ]
  },
  {
   "cell_type": "code",
   "execution_count": 61,
   "metadata": {},
   "outputs": [
    {
     "data": {
      "text/plain": [
       "0.727125"
      ]
     },
     "execution_count": 61,
     "metadata": {},
     "output_type": "execute_result"
    }
   ],
   "source": [
    "sum(y) / len(y)"
   ]
  },
  {
   "cell_type": "code",
   "execution_count": 72,
   "metadata": {},
   "outputs": [
    {
     "data": {
      "text/plain": [
       "'adobe sign'"
      ]
     },
     "execution_count": 72,
     "metadata": {},
     "output_type": "execute_result"
    }
   ],
   "source": [
    "np.argmax(logistic_model.coef_)\n",
    "X.columns[3]"
   ]
  },
  {
   "cell_type": "code",
   "execution_count": 64,
   "metadata": {},
   "outputs": [
    {
     "name": "stdout",
     "output_type": "stream",
     "text": [
      "0.98825\n",
      "[[1010   47]\n",
      " [   0 2943]]\n",
      "0.11483660686215527\n",
      "0.9777672658467361\n"
     ]
    }
   ],
   "source": [
    "from sklearn.metrics import accuracy_score\n",
    "from sklearn.metrics import confusion_matrix\n",
    "from sklearn.metrics import log_loss\n",
    "from sklearn.metrics import roc_auc_score\n",
    "\n",
    "print(accuracy_score(y_test,y_predict))\n",
    "print(confusion_matrix(y_test,y_predict))\n",
    "print(log_loss(y_test,y_pred))\n",
    "print(roc_auc_score(y_test,y_predict))"
   ]
  },
  {
   "cell_type": "code",
   "execution_count": 44,
   "metadata": {},
   "outputs": [],
   "source": [
    "from sklearn.ensemble import RandomForestClassifier"
   ]
  },
  {
   "cell_type": "code",
   "execution_count": 45,
   "metadata": {},
   "outputs": [],
   "source": [
    "rf_model = RandomForestClassifier()"
   ]
  },
  {
   "cell_type": "code",
   "execution_count": 46,
   "metadata": {},
   "outputs": [
    {
     "name": "stderr",
     "output_type": "stream",
     "text": [
      "/home/daniel/anaconda3/lib/python3.6/site-packages/sklearn/ensemble/forest.py:246: FutureWarning: The default value of n_estimators will change from 10 in version 0.20 to 100 in 0.22.\n",
      "  \"10 in version 0.20 to 100 in 0.22.\", FutureWarning)\n"
     ]
    },
    {
     "data": {
      "text/plain": [
       "RandomForestClassifier(bootstrap=True, class_weight=None, criterion='gini',\n",
       "            max_depth=None, max_features='auto', max_leaf_nodes=None,\n",
       "            min_impurity_decrease=0.0, min_impurity_split=None,\n",
       "            min_samples_leaf=1, min_samples_split=2,\n",
       "            min_weight_fraction_leaf=0.0, n_estimators=10, n_jobs=None,\n",
       "            oob_score=False, random_state=None, verbose=0,\n",
       "            warm_start=False)"
      ]
     },
     "execution_count": 46,
     "metadata": {},
     "output_type": "execute_result"
    }
   ],
   "source": [
    "rf_model.fit(X_train,y_train)"
   ]
  },
  {
   "cell_type": "code",
   "execution_count": 47,
   "metadata": {},
   "outputs": [],
   "source": [
    "y_predict = logistic_model.predict(X_test)"
   ]
  },
  {
   "cell_type": "code",
   "execution_count": 66,
   "metadata": {},
   "outputs": [],
   "source": [
    "y_pred_rf = rf_model.predict_proba(X_test)"
   ]
  },
  {
   "cell_type": "code",
   "execution_count": 67,
   "metadata": {},
   "outputs": [
    {
     "name": "stdout",
     "output_type": "stream",
     "text": [
      "0.98825\n",
      "[[1010   47]\n",
      " [   0 2943]]\n",
      "0.12788181628188067\n",
      "0.9777672658467361\n"
     ]
    }
   ],
   "source": [
    "print(accuracy_score(y_test,y_predict))\n",
    "print(confusion_matrix(y_test,y_predict))\n",
    "print(log_loss(y_test,y_pred_rf))\n",
    "print(roc_auc_score(y_test,y_predict))"
   ]
  },
  {
   "cell_type": "code",
   "execution_count": 52,
   "metadata": {},
   "outputs": [],
   "source": [
    "from sklearn.ensemble import GradientBoostingClassifier"
   ]
  },
  {
   "cell_type": "code",
   "execution_count": 53,
   "metadata": {},
   "outputs": [],
   "source": [
    "gb_model = GradientBoostingClassifier()"
   ]
  },
  {
   "cell_type": "code",
   "execution_count": 54,
   "metadata": {},
   "outputs": [
    {
     "data": {
      "text/plain": [
       "GradientBoostingClassifier(criterion='friedman_mse', init=None,\n",
       "              learning_rate=0.1, loss='deviance', max_depth=3,\n",
       "              max_features=None, max_leaf_nodes=None,\n",
       "              min_impurity_decrease=0.0, min_impurity_split=None,\n",
       "              min_samples_leaf=1, min_samples_split=2,\n",
       "              min_weight_fraction_leaf=0.0, n_estimators=100,\n",
       "              n_iter_no_change=None, presort='auto', random_state=None,\n",
       "              subsample=1.0, tol=0.0001, validation_fraction=0.1,\n",
       "              verbose=0, warm_start=False)"
      ]
     },
     "execution_count": 54,
     "metadata": {},
     "output_type": "execute_result"
    }
   ],
   "source": [
    "gb_model.fit(X_train,y_train)"
   ]
  },
  {
   "cell_type": "code",
   "execution_count": 55,
   "metadata": {},
   "outputs": [],
   "source": [
    "y_predict = gb_model.predict(X_test)"
   ]
  },
  {
   "cell_type": "code",
   "execution_count": 68,
   "metadata": {},
   "outputs": [],
   "source": [
    "y_pred_gb = gb_model.predict_proba(X_test)"
   ]
  },
  {
   "cell_type": "code",
   "execution_count": 69,
   "metadata": {},
   "outputs": [
    {
     "name": "stdout",
     "output_type": "stream",
     "text": [
      "0.98825\n",
      "[[1010   47]\n",
      " [   0 2943]]\n",
      "0.04897810445502796\n",
      "0.9777672658467361\n"
     ]
    }
   ],
   "source": [
    "print(accuracy_score(y_test,y_predict))\n",
    "print(confusion_matrix(y_test,y_predict))\n",
    "print(log_loss(y_test,y_pred_gb))\n",
    "print(roc_auc_score(y_test,y_predict))"
   ]
  },
  {
   "cell_type": "markdown",
   "metadata": {},
   "source": [
    "This is understandable performance - every automation post is from Adobe Sign and there is a boolean column to see if the post is about Adobe Sign or not.\n",
    "\n",
    "As the task was easy, good performance was understandable."
   ]
  },
  {
   "cell_type": "code",
   "execution_count": 73,
   "metadata": {},
   "outputs": [
    {
     "data": {
      "text/plain": [
       "'adobe sign'"
      ]
     },
     "execution_count": 73,
     "metadata": {},
     "output_type": "execute_result"
    }
   ],
   "source": [
    "X.columns[np.argmax(logistic_model.coef_)]"
   ]
  },
  {
   "cell_type": "code",
   "execution_count": 76,
   "metadata": {},
   "outputs": [],
   "source": [
    "def test_logistic_regressio(data,column):\n",
    "    y = data[column]\n",
    "    X = data[['Docusign', 'onespan', 'signnow','adobe sign',\n",
    "                           'listed_count', 'statuses_count','followers_count',\n",
    "                           'favourites_count', 'friends_count','time_float_sin',\n",
    "                           'time_float_cos', 'is_description_none']]\n",
    "    X_train, X_test, y_train, y_test = train_test_split(X, y, test_size=0.25)\n",
    "    logistic_model = LogisticRegression()\n",
    "    logistic_model.fit(X_train,y_train)\n",
    "    y_predict = logistic_model.predict(X_test)\n",
    "    y_pred = logistic_model.predict_proba(X_test)\n",
    "\n",
    "    print(\"Accuracy score of this model is\" + \"\\n\")\n",
    "    print(accuracy_score(y_test,y_predict))\n",
    "    print(\"\\n\" + \"Confusion Matrix of this model is\" + \"\\n\")\n",
    "    print(confusion_matrix(y_test,y_predict))\n",
    "    print(\"\\n\" + \"Log-Loss score of this model is\" + \"\\n\")\n",
    "    print(log_loss(y_test,y_pred))\n",
    "    print(\"\\n\" + \"AUC score of this model is\" + \"\\n\")\n",
    "    print(roc_auc_score(y_test,y_predict))\n",
    "    return None"
   ]
  },
  {
   "cell_type": "code",
   "execution_count": 77,
   "metadata": {},
   "outputs": [
    {
     "name": "stderr",
     "output_type": "stream",
     "text": [
      "/home/daniel/anaconda3/lib/python3.6/site-packages/sklearn/linear_model/logistic.py:433: FutureWarning: Default solver will be changed to 'lbfgs' in 0.22. Specify a solver to silence this warning.\n",
      "  FutureWarning)\n"
     ]
    },
    {
     "name": "stdout",
     "output_type": "stream",
     "text": [
      "Accuracy score of this model is\n",
      "\n",
      "0.873\n",
      "\n",
      "Confusion Matrix of this model is\n",
      "\n",
      "[[ 640  450]\n",
      " [  58 2852]]\n",
      "\n",
      "Log-Loss score of this model is\n",
      "\n",
      "0.2840825953234961\n",
      "\n",
      "AUC score of this model is\n",
      "\n",
      "0.7836123459125446\n"
     ]
    }
   ],
   "source": [
    "test_logistic_regressio(df_model_training, 'spam_bot')"
   ]
  },
  {
   "cell_type": "code",
   "execution_count": 78,
   "metadata": {},
   "outputs": [],
   "source": [
    "def test_model(data,column,model):\n",
    "    y = data[column]\n",
    "    X = data[['Docusign', 'onespan', 'signnow','adobe sign',\n",
    "                           'listed_count', 'statuses_count','followers_count',\n",
    "                           'favourites_count', 'friends_count','time_float_sin',\n",
    "                           'time_float_cos', 'is_description_none']]\n",
    "    X_train, X_test, y_train, y_test = train_test_split(X, y, test_size=0.25)\n",
    "    model = model()\n",
    "    model.fit(X_train,y_train)\n",
    "    y_predict = model.predict(X_test)\n",
    "    y_pred = model.predict_proba(X_test)\n",
    "\n",
    "    print(\"Accuracy score of this model is\" + \"\\n\")\n",
    "    print(accuracy_score(y_test,y_predict))\n",
    "    print(\"\\n\" + \"Confusion Matrix of this model is\" + \"\\n\")\n",
    "    print(confusion_matrix(y_test,y_predict))\n",
    "    print(\"\\n\" + \"Log-Loss score of this model is\" + \"\\n\")\n",
    "    print(log_loss(y_test,y_pred))\n",
    "    print(\"\\n\" + \"AUC score of this model is\" + \"\\n\")\n",
    "    print(roc_auc_score(y_test,y_predict))\n",
    "    return None"
   ]
  },
  {
   "cell_type": "code",
   "execution_count": 86,
   "metadata": {},
   "outputs": [
    {
     "name": "stdout",
     "output_type": "stream",
     "text": [
      "Accuracy score of this model is\n",
      "\n",
      "0.972\n",
      "\n",
      "Confusion Matrix of this model is\n",
      "\n",
      "[[ 960  102]\n",
      " [  10 2928]]\n",
      "\n",
      "Log-Loss score of this model is\n",
      "\n",
      "0.1078186189859557\n",
      "\n",
      "AUC score of this model is\n",
      "\n",
      "0.9502755631449198\n"
     ]
    },
    {
     "name": "stderr",
     "output_type": "stream",
     "text": [
      "/home/daniel/anaconda3/lib/python3.6/site-packages/sklearn/linear_model/logistic.py:433: FutureWarning: Default solver will be changed to 'lbfgs' in 0.22. Specify a solver to silence this warning.\n",
      "  FutureWarning)\n"
     ]
    }
   ],
   "source": [
    "test_model(df_model_training, 'spam_bot',LogisticRegression)"
   ]
  },
  {
   "cell_type": "code",
   "execution_count": null,
   "metadata": {},
   "outputs": [],
   "source": []
  }
 ],
 "metadata": {
  "kernelspec": {
   "display_name": "Python 3",
   "language": "python",
   "name": "python3"
  },
  "language_info": {
   "codemirror_mode": {
    "name": "ipython",
    "version": 3
   },
   "file_extension": ".py",
   "mimetype": "text/x-python",
   "name": "python",
   "nbconvert_exporter": "python",
   "pygments_lexer": "ipython3",
   "version": "3.6.8"
  }
 },
 "nbformat": 4,
 "nbformat_minor": 2
}
